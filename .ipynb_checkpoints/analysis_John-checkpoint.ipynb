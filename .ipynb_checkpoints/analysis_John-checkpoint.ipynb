{
 "cells": [
  {
   "cell_type": "markdown",
   "id": "cc5cf461",
   "metadata": {},
   "source": [
    "## XDF latency test analysis of LSL data streams: Unity (triggered) vs EEG (measured)\n",
    "### __Description__:\n",
    "Every 500 ms, a black image is displayed followed by a fixation cross, and finally a white image in a 3D canvas build with Unity engine. A coroutine is used as the controller of what gets displayed.\n",
    "### Streams\n",
    "#### __Unity: (90 FPS)__\n",
    "- __Visual stream:__ Images changing from white, fixation cross, black using unity coroutines\n",
    "#### __EEG (1024 Hz):__\n",
    "- __Photodiode:__ a light sensitive sensor connected to the EEG recorder (channel 65) and placed on of the HMD to detect when images are displayed\n"
   ]
  },
  {
   "cell_type": "markdown",
   "id": "a134ea60",
   "metadata": {},
   "source": []
  },
  {
   "cell_type": "code",
   "execution_count": 5,
   "id": "f2035387-f5cc-49b1-b423-7f3b58f06611",
   "metadata": {},
   "outputs": [],
   "source": [
    "import copy\n",
    "import datetime\n",
    "import itertools\n",
    "import os\n",
    "\n",
    "import matplotlib.pyplot as plt\n",
    "import numpy as np\n",
    "from IPython.display import display\n",
    "from matplotlib.ticker import FormatStrFormatter\n",
    "\n",
    "import pandas as pd\n",
    "import pyxdf\n",
    "import seaborn as sns\n",
    "from scipy.signal import find_peaks\n",
    "from tqdm.notebook import tqdm"
   ]
  },
  {
   "cell_type": "code",
   "execution_count": 6,
   "id": "7db60236-70d4-4990-bf2e-9961dd087bcb",
   "metadata": {},
   "outputs": [
    {
     "name": "stdout",
     "output_type": "stream",
     "text": [
      "Included:\n"
     ]
    },
    {
     "data": {
      "text/plain": [
       "{0: {'file': 'lsl_try1.xdf', 'created': '22.06.2022 15:26'},\n",
       " 1: {'file': 'lsl_try1_new.xdf', 'created': '13.07.2022 22:44'},\n",
       " 2: {'file': 'lsl_try1new_westdrive.xdf', 'created': '13.07.2022 23:18'},\n",
       " 3: {'file': 'lsl_try2.xdf', 'created': '22.06.2022 16:18'},\n",
       " 4: {'file': 'lsl_try3.xdf', 'created': '22.06.2022 16:25'},\n",
       " 5: {'file': 'lsl_try4.xdf', 'created': '22.06.2022 17:35'},\n",
       " 6: {'file': 'lsl_try5.xdf', 'created': '22.06.2022 19:11'},\n",
       " 7: {'file': 'lsl_try6_noUpdate.xdf', 'created': '21.07.2022 23:41'}}"
      ]
     },
     "metadata": {},
     "output_type": "display_data"
    }
   ],
   "source": [
    "files = os.listdir(\"lsl_coroutines_data\")  # get all files from the folder \"data\"\n",
    "files.sort()  # sort them alphabetically\n",
    "recordings = {}\n",
    "excluded = []\n",
    "# for file in files:\n",
    "#     # filter hidden/config files and folders\n",
    "#     if not file.endswith(\".xdf\"):\n",
    "#         files.remove(file)  # remove hidden/config file\n",
    "#         excluded.append(file)  # add into excluded\n",
    "#\n",
    "#\n",
    "# # short tests were excluded as they were too short and had strange statistics\n",
    "# for e in excluded:\n",
    "#     print(f\"Excluded from '{e}/': {os.listdir(f'lsl_coroutines_data/{e}')}\")\n",
    "\n",
    "for i, file in enumerate(files):  # store and display all files\n",
    "    created = os.path.getmtime(f\"lsl_coroutines_data/{file}\")  # creation timestamp\n",
    "    created = datetime.datetime.fromtimestamp(created)  # translate as datetime\n",
    "    created = created.strftime(\"%d.%m.%Y %H:%M\")  # arrange it\n",
    "    recordings[i] = {\"file\": file, \"created\": created}\n",
    "\n",
    "files = [f.split(\".\")[0] for f in files]\n",
    "print(\"Included:\")\n",
    "display(recordings)"
   ]
  },
  {
   "cell_type": "code",
   "execution_count": 63,
   "id": "8a81cd74-df3e-40f3-ad86-49437ae19d34",
   "metadata": {},
   "outputs": [],
   "source": [
    "%matplotlib inline\n",
    "# set pandas float display format\n",
    "pd.options.display.float_format = \"{:.5f}\".format\n",
    "\n",
    "\n",
    "def color_checks(val):\n",
    "    if val == \"✔\":\n",
    "        color = \"green\"\n",
    "    elif val == \"✗\":\n",
    "        color = \"red\"\n",
    "    else:\n",
    "        color = \"blue\"\n",
    "    return \"color: %s\" % color\n",
    "\n",
    "\n",
    "def correct_timestamps(ts):  # calculate time values from 0\n",
    "    corrected = [0]\n",
    "    length = len(ts)\n",
    "    [corrected.append(ts[i + 1] - ts[0]) for i in range(length) if i < length - 1]\n",
    "    return np.array(corrected)\n",
    "\n",
    "\n",
    "def select_streams(streams):\n",
    "    # stream names\n",
    "    u_ch_name = \"Visual\"\n",
    "    e_ch_name = \"openvibeSignal\"\n",
    "\n",
    "    # get all current streams with their positions on the recording\n",
    "    # example: {'Diode': 0, 'Audio': 1, 'openvibeSignal': 2}\n",
    "    s_channels = {streams[i][\"info\"][\"name\"][0]: i for i in range(len(streams))}\n",
    "\n",
    "    # store and return their positions\n",
    "    u = s_channels[u_ch_name]\n",
    "    # try:\n",
    "    #     u = s_channels[u_ch_name]  # in case you multiple unity stream channels\n",
    "    # except:\n",
    "    #     u = s_channels[\"Visual\"]  # in case you multiple unity stream channels\n",
    "    e = s_channels[e_ch_name]  # eeg stream channel (diode and microphone)\n",
    "    return u, e\n",
    "\n",
    "\n",
    "def strip_plot(data, xticks, alpha=1):\n",
    "    g = sns.stripplot(data=data, palette=\"muted\", size=3, alpha=alpha)\n",
    "    g.set_xticklabels(xticks)\n",
    "    g.set_yticks(np.arange(0, g.get_ylim()[1], 0.001))\n",
    "    plt.ylabel(\"Time (s)\")\n",
    "    plt.tight_layout()\n",
    "    plt.show()"
   ]
  },
  {
   "cell_type": "code",
   "execution_count": 64,
   "id": "8f8c50cb-d146-4f6a-b780-30a6884c1305",
   "metadata": {},
   "outputs": [
    {
     "data": {
      "application/vnd.jupyter.widget-view+json": {
       "model_id": "530433b7895b4255aefc95364502a637",
       "version_major": 2,
       "version_minor": 0
      },
      "text/plain": [
       "Processed:            0% 0/7 in 0.01s"
      ]
     },
     "metadata": {},
     "output_type": "display_data"
    },
    {
     "data": {
      "application/vnd.jupyter.widget-view+json": {
       "model_id": "2b538b186c364482a362a2c00daa9b3f",
       "version_major": 2,
       "version_minor": 0
      },
      "text/plain": [
       "recordings[ 0]:            0% 0/7 in 0.01s"
      ]
     },
     "metadata": {},
     "output_type": "display_data"
    },
    {
     "data": {
      "application/vnd.jupyter.widget-view+json": {
       "model_id": "7d60d03f4a0a48b3bf109596aa2240c3",
       "version_major": 2,
       "version_minor": 0
      },
      "text/plain": [
       "recordings[ 1]:            0% 0/7 in 0.01s"
      ]
     },
     "metadata": {},
     "output_type": "display_data"
    },
    {
     "data": {
      "application/vnd.jupyter.widget-view+json": {
       "model_id": "0a64f8d2808b46b2b422a3494acb0619",
       "version_major": 2,
       "version_minor": 0
      },
      "text/plain": [
       "recordings[ 2]:            0% 0/7 in 0.01s"
      ]
     },
     "metadata": {},
     "output_type": "display_data"
    },
    {
     "data": {
      "application/vnd.jupyter.widget-view+json": {
       "model_id": "0cbe86bbf4f144acacae4f13dc415063",
       "version_major": 2,
       "version_minor": 0
      },
      "text/plain": [
       "recordings[ 3]:            0% 0/7 in 0.01s"
      ]
     },
     "metadata": {},
     "output_type": "display_data"
    },
    {
     "data": {
      "application/vnd.jupyter.widget-view+json": {
       "model_id": "5c4f87d837a54b648b5fa28bd91bfe46",
       "version_major": 2,
       "version_minor": 0
      },
      "text/plain": [
       "recordings[ 4]:            0% 0/7 in 0.01s"
      ]
     },
     "metadata": {},
     "output_type": "display_data"
    },
    {
     "data": {
      "application/vnd.jupyter.widget-view+json": {
       "model_id": "62a1c95a861d4f29ae85074f04375a15",
       "version_major": 2,
       "version_minor": 0
      },
      "text/plain": [
       "recordings[ 5]:            0% 0/7 in 0.01s"
      ]
     },
     "metadata": {},
     "output_type": "display_data"
    },
    {
     "data": {
      "application/vnd.jupyter.widget-view+json": {
       "model_id": "ec7389e6a9cc4e8e9f9494dbe47907b5",
       "version_major": 2,
       "version_minor": 0
      },
      "text/plain": [
       "recordings[ 6]:            0% 0/7 in 0.01s"
      ]
     },
     "metadata": {},
     "output_type": "display_data"
    }
   ],
   "source": [
    "# progress bar format definitions\n",
    "m_format = \"{desc}:{bar}{percentage:3.0f}% {n_fmt}/{total_fmt} in {elapsed_s:.2f}s\"\n",
    "s_format = (\n",
    "    \"{desc}:{bar}{percentage:3.0f}% {n_fmt}/{total_fmt}{postfix} in {elapsed_s:.2f}s\"\n",
    ")\n",
    "# main progress bar\n",
    "main_bar = tqdm(\n",
    "    recordings,\n",
    "    desc=\"Processed\",\n",
    "    dynamic_ncols=True,\n",
    "    mininterval=0.001,\n",
    "    bar_format=m_format,\n",
    ")\n",
    "# check all files\n",
    "for k in main_bar:\n",
    "    file = recordings[k][\"file\"]  # current filename\n",
    "    # current progress bar\n",
    "    pbar = tqdm(\n",
    "        range(7),\n",
    "        desc=f\"recordings[{k:2.0f}]\",\n",
    "        mininterval=0.001,\n",
    "        maxinterval=1,\n",
    "        bar_format=s_format,\n",
    "    )\n",
    "\n",
    "    pbar.set_postfix(file=file)\n",
    "    # add unity and eeg entries\n",
    "    recordings[k][\"unity\"] = {}\n",
    "    recordings[k][\"eeg\"] = {}\n",
    "\n",
    "    # 1. Load the XDF file\n",
    "    postfix = {\"step\": \"1. Load the XDF file\", \"file\": file}\n",
    "    pbar.set_postfix(postfix)\n",
    "    streams, fileheader = pyxdf.load_xdf(f\"lsl_coroutines_data/{file}\")\n",
    "    #here in streams we have the data, usually you will look at time_streams (sample at each timepoint) and time_stamps\n",
    "\n",
    "    # display(streams)\n",
    "    # select the data stream channels\n",
    "    u_ch, e_ch = select_streams(streams)\n",
    "    #so here you will get the number of the stream (e.g. 0-2)\n",
    "    pbar.update(1) #progress bar\n",
    "\n",
    "\n",
    "    # 2. Store selected stream info (only useful info)\n",
    "    postfix = {\"step\": \"2. Store selected stream info\", \"file\": file}\n",
    "    pbar.set_postfix(postfix)\n",
    "    # keys to keep from streams[ch][\"info\"]\n",
    "    i_keys = [\n",
    "        \"name\",\n",
    "        \"type\",\n",
    "        \"nominal_srate\",\n",
    "        \"effective_srate\",\n",
    "        \"created_at\",\n",
    "        \"hostname\",\n",
    "    ]\n",
    "    # keys to keep from streams[ch][\"footer\"][\"info\"]\n",
    "    f_keys = [\"first_timestamp\", \"last_timestamp\", \"sample_count\"]\n",
    "    # first add info dict for each stream\n",
    "    recordings[k][\"unity\"] = {\"info\": {}}\n",
    "    recordings[k][\"eeg\"] = {\"info\": {}}\n",
    "\n",
    "    for key in i_keys:\n",
    "        u_v = streams[u_ch][\"info\"][key]\n",
    "        e_v = streams[e_ch][\"info\"][key]\n",
    "        if type(u_v) == list and len(u_v) > 0:  # same for e_k, no need to check again\n",
    "            # remove list format as 1-element lists\n",
    "            u_v = u_v[0]\n",
    "            e_v = e_v[0]\n",
    "        recordings[k][\"unity\"][\"info\"][key] = u_v\n",
    "        recordings[k][\"eeg\"][\"info\"][key] = e_v\n",
    "    #\n",
    "    # for key in f_keys:\n",
    "    #     u_v = streams[u_ch][\"footer\"][\"info\"][key]\n",
    "    #     e_v = streams[e_ch][\"footer\"][\"info\"][key]\n",
    "    #     if type(u_v) == list and len(u_v) > 0:\n",
    "    #         u_v = u_v[0]\n",
    "    #         e_v = e_v[0]\n",
    "    #     recordings[k][\"unity\"][\"info\"][key] = u_v\n",
    "    #     recordings[k][\"eeg\"][\"info\"][key] = e_v\n",
    "    #\n",
    "    # # display(recordings)\n",
    "    # # store if two computers were used (hostname comparison)\n",
    "    # u_host = recordings[k][\"unity\"][\"info\"][\"hostname\"]\n",
    "    # e_host = recordings[k][\"eeg\"][\"info\"][\"hostname\"]\n",
    "    # recordings[k][\"two_computers\"] = u_host != e_host\n",
    "    # pbar.update(1)\n",
    "    #\n",
    "    # # display(recordings)\n",
    "    # # store if two computers were used (hostname comparison)\n",
    "    # u_host = recordings[k][\"unity\"][\"info\"][\"hostname\"]\n",
    "    # e_host = recordings[k][\"eeg\"][\"info\"][\"hostname\"]\n",
    "    # recordings[k][\"two_computers\"] = u_host != e_host\n",
    "    # pbar.update(1)\n",
    "    #\n",
    "    # # 3. Store timestamps\n",
    "    # postfix = {\"step\": \"3. Store timestamps\", \"file\": file}\n",
    "    # pbar.set_postfix(postfix)\n",
    "    # streams[c_ch][\"time_stamps\"] = np.array(streams[c_ch][\"time_stamps\"])\n",
    "    # streams[e_ch][\"time_stamps\"] = np.array(streams[e_ch][\"time_stamps\"])\n",
    "    # recordings[k][\"unity\"][\"time_stamps\"] = streams[c_ch][\"time_stamps\"]\n",
    "    # recordings[k][\"eeg\"][\"time_stamps\"] = streams[e_ch][\"time_stamps\"]\n",
    "    # pbar.update(1)\n",
    "    # # display(recordings)\n",
    "    #\n",
    "    # # 4. Compare streams timestamps distance and order\n",
    "    # # store EEG received first (True/False)\n",
    "    # postfix = {\"step\": \"4. Compare streams timestamps distance and order\", \"file\": file}\n",
    "    # pbar.set_postfix(postfix)\n",
    "    # unity_first = streams[c_ch][\"time_stamps\"][0]\n",
    "    # eeg_first = streams[e_ch][\"time_stamps\"][0]\n",
    "    # time_diff = unity_first - eeg_first\n",
    "    #\n",
    "    # # display(time_diff)\n",
    "    # # if diff bigger than eeg sample distance (0.98ms), something went wrong\n",
    "    # # bool cast needed, otherwise type is numpy bool\n",
    "    # recordings[k][\"eeg_starts\"] = bool(time_diff >= -0.00098)\n",
    "    # # if diff bigger than 1 second, timestamps are not aligned -> wrong recording\n",
    "    # recordings[k][\"lsl_aligned\"] = bool(time_diff < 1)\n",
    "    # pbar.update(1)\n",
    "    #\n",
    "    # # display(recordings[k][\"eeg_starts\"])\n",
    "    # # display(recordings[k][\"lsl_aligned\"])\n",
    "    # # 5. Correct and store timestamps\n",
    "    # postfix = {\"step\": \"5. Correct and store timestamps\", \"file\": file}\n",
    "    # pbar.set_postfix(postfix)\n",
    "    #\n",
    "    # u_corrected = correct_timestamps(streams[c_ch][\"time_stamps\"])\n",
    "    # e_corrected = correct_timestamps(streams[e_ch][\"time_stamps\"])\n",
    "    #\n",
    "    # # recorrect unity timestamps starting one of the streams at 0\n",
    "    # # shift values according to the diff: add diff to eeg or to unity\n",
    "    # ### ----- Unnecessary ? ----\n",
    "    # if time_diff < 0:\n",
    "    #     e_corrected = np.array([i + abs(time_diff) for i in e_corrected])\n",
    "    # else:\n",
    "    #     u_corrected = np.array([i + time_diff for i in u_corrected])\n",
    "    # # # store corrected timestamps (timestamps -> corrected, time_stamps -> original)\n",
    "    # recordings[k][\"unity\"][\"timestamps\"] = u_corrected\n",
    "    # recordings[k][\"eeg\"][\"timestamps\"] = e_corrected\n",
    "    # # display(u_corrected)\n",
    "    # # display(e_corrected)\n",
    "    # pbar.update(1)\n",
    "    #\n",
    "    #  # 6. Store Unity values (audio playing and color changed)\n",
    "    # postfix = {\"step\": \"6. Store Unity values\", \"file\": file}\n",
    "    # pbar.set_postfix(postfix)\n",
    "    # # format: [currentFrame, value, timestamp] -> we store value\n",
    "    # unity_c = np.transpose(streams[c_ch][\"time_series\"])[1]\n",
    "    # recordings[k][\"unity\"][\"Visual\"] = unity_c.astype(int)\n",
    "    # pbar.update(1)\n",
    "    # #display(recordings)\n",
    "    #\n",
    "    # # 7. Select and store EEG values (microphone and photodiode)\n",
    "    # postfix = {\"step\": \"7. Select and store EEG values\", \"file\": file}\n",
    "    # pbar.set_postfix(postfix)\n",
    "    # # select microphone and diode values\n",
    "    # eeg = np.transpose(streams[e_ch][\"time_series\"])\n",
    "    #\n",
    "    #\n",
    "    # # diode data can be on channels 65 and 66, select the right one\n",
    "    # eeg_color = eeg[64] if max(eeg[64]) != 0.0 else eeg[65] #this is now checking for the data of the photodiode, we have placed it in 65 so we need to look at 64\n",
    "    # eeg_color = -eeg_color  # invert diode data polarity, easier to visualize\n",
    "    #\n",
    "    # # store them\n",
    "    # recordings[k][\"eeg\"][\"Visual\"] = eeg_color\n",
    "    # #display(recordings)\n",
    "    #\n",
    "    # # store if first and last timestamps coincide with file info\n",
    "    # # also if length of values and timestamps coincide\n",
    "    # for stream in [\"unity\", \"eeg\"]:\n",
    "    #     # timestamps check\n",
    "    #     o_first = recordings[k][stream][\"time_stamps\"][0]\n",
    "    #     i_first = recordings[k][stream][\"info\"][\"first_timestamp\"]\n",
    "    #     o_last = recordings[k][stream][\"time_stamps\"][-1]\n",
    "    #     i_last = recordings[k][stream][\"info\"][\"last_timestamp\"]\n",
    "    #     recordings[k][f\"{stream}_first\"] = float(o_first) == float(i_first)\n",
    "    #     recordings[k][f\"{stream}_last\"] = float(o_last) == float(i_last)\n",
    "    #     # length check\n",
    "    #     l_time = len(recordings[k][stream][\"time_stamps\"])\n",
    "    #     for ch in [\"Visual\"]:\n",
    "    #         key = f\"length_{stream}_{ch}\"\n",
    "    #         recordings[k][key] = l_time == len(recordings[k][stream][ch])\n",
    "    # pbar.update(1)\n",
    "    # #display(recordings)\n",
    "    # pbar.set_postfix(file=file)\n",
    "    # pbar.close()  # .clear() to hide the bar if leave=False on constructor"
   ]
  },
  {
   "cell_type": "code",
   "execution_count": 54,
   "id": "c4eba2bb-4aa8-42e0-a930-c9177083e25b",
   "metadata": {},
   "outputs": [
    {
     "data": {
      "text/plain": [
       "{'file': 'lsl_try1new_westdrive.xdf',\n",
       " 'created': '13.07.2022 23:18',\n",
       " 'unity': {'info': {'name': 'Visual',\n",
       "   'type': 'Marker',\n",
       "   'nominal_srate': '0.000000000000000',\n",
       "   'effective_srate': 0,\n",
       "   'created_at': '10132.50767120000',\n",
       "   'hostname': 'ml03',\n",
       "   'first_timestamp': '10406.5652394',\n",
       "   'last_timestamp': '10826.0662438',\n",
       "   'sample_count': '37755'},\n",
       "  'time_stamps': array([76019.33044612, 76019.34135603, 76019.35244074, ...,\n",
       "         76438.80940999, 76438.8205298 , 76438.83185391]),\n",
       "  'timestamps': array([2.31083288e-01, 2.41993198e-01, 2.53077909e-01, ...,\n",
       "         4.19710047e+02, 4.19721167e+02, 4.19732491e+02]),\n",
       "  'Visual': array([2, 2, 2, ..., 2, 2, 2])},\n",
       " 'eeg': {'info': {'name': 'openvibeSignal',\n",
       "   'type': 'signal',\n",
       "   'nominal_srate': '1024.000000000000',\n",
       "   'effective_srate': 1024.0000110835158,\n",
       "   'created_at': '75731.71032329999',\n",
       "   'hostname': 'wd-left',\n",
       "   'first_timestamp': '76019.09928336434',\n",
       "   'last_timestamp': '76438.59841453194',\n",
       "   'sample_count': '429567'},\n",
       "  'time_stamps': array([76019.09936284, 76019.1003394 , 76019.10131596, ...,\n",
       "         76438.59642861, 76438.59740517, 76438.59838173]),\n",
       "  'timestamps': array([0.00000000e+00, 9.76562485e-04, 1.95312499e-03, ...,\n",
       "         4.19497066e+02, 4.19498042e+02, 4.19499019e+02]),\n",
       "  'Visual': array([20300.133  , 15729.685  ,  4494.332  , ...,   952.0503 ,\n",
       "           953.3192 ,   956.22485], dtype=float32)},\n",
       " 'two_computers': True,\n",
       " 'eeg_starts': True,\n",
       " 'lsl_aligned': True,\n",
       " 'unity_first': False,\n",
       " 'unity_last': False,\n",
       " 'length_unity_color': True,\n",
       " 'eeg_first': False,\n",
       " 'eeg_last': False,\n",
       " 'length_eeg_color': True,\n",
       " 'length_unity_Visual': True,\n",
       " 'length_eeg_Visual': True}"
      ]
     },
     "execution_count": 54,
     "metadata": {},
     "output_type": "execute_result"
    }
   ],
   "source": [
    "recordings[2]"
   ]
  },
  {
   "cell_type": "code",
   "execution_count": 87,
   "id": "6467966f",
   "metadata": {
    "pycharm": {
     "name": "#%%\n"
    }
   },
   "outputs": [
    {
     "data": {
      "text/plain": [
       "array([606178.01361131, 606178.02460501, 606178.03563771, ...,\n",
       "       610001.48591536, 610001.49708646, 610001.50813866])"
      ]
     },
     "execution_count": 87,
     "metadata": {},
     "output_type": "execute_result"
    }
   ],
   "source": [
    "# UNITY STREAM\n",
    "unity_tstamps = np.array(streams[0]['time_stamps'])\n",
    "unity_tstamps"
   ]
  },
  {
   "cell_type": "code",
   "execution_count": 88,
   "id": "15e76f4a",
   "metadata": {
    "pycharm": {
     "name": "#%%\n"
    }
   },
   "outputs": [
    {
     "data": {
      "text/plain": [
       "array([606177.77967202, 606177.78064858, 606177.78162515, ...,\n",
       "       610001.20818166, 610001.20915823, 610001.21013479])"
      ]
     },
     "execution_count": 88,
     "metadata": {},
     "output_type": "execute_result"
    }
   ],
   "source": [
    "# EEG STREAM\n",
    "eeg_tstamps = np.array(streams[2]['time_stamps'])\n",
    "eeg_tstamps"
   ]
  },
  {
   "cell_type": "code",
   "execution_count": 78,
   "id": "25c5a1d6",
   "metadata": {
    "pycharm": {
     "name": "#%%\n"
    }
   },
   "outputs": [
    {
     "data": {
      "text/plain": [
       "0.23393928783480078"
      ]
     },
     "execution_count": 78,
     "metadata": {},
     "output_type": "execute_result"
    }
   ],
   "source": [
    "diff = unity_tstamps[0] - eeg_tstamps[0]\n",
    "diff"
   ]
  },
  {
   "cell_type": "code",
   "execution_count": 81,
   "id": "39263586",
   "metadata": {
    "pycharm": {
     "name": "#%%\n"
    }
   },
   "outputs": [
    {
     "data": {
      "text/plain": [
       "array([0.00000000e+00, 1.09936999e-02, 2.20264000e-02, ...,\n",
       "       3.82347230e+03, 3.82348348e+03, 3.82349453e+03])"
      ]
     },
     "execution_count": 81,
     "metadata": {},
     "output_type": "execute_result"
    }
   ],
   "source": [
    "correct_timestamps(unity_tstamps)"
   ]
  },
  {
   "cell_type": "code",
   "execution_count": 82,
   "id": "ce4bd074",
   "metadata": {
    "pycharm": {
     "name": "#%%\n"
    }
   },
   "outputs": [
    {
     "data": {
      "text/plain": [
       "array([0.00000000e+00, 9.76560987e-04, 1.95312186e-03, ...,\n",
       "       3.82342851e+03, 3.82342949e+03, 3.82343046e+03])"
      ]
     },
     "execution_count": 82,
     "metadata": {},
     "output_type": "execute_result"
    }
   ],
   "source": [
    "correct_timestamps(eeg_tstamps)"
   ]
  },
  {
   "cell_type": "code",
   "execution_count": 85,
   "id": "b17171a7",
   "metadata": {
    "pycharm": {
     "name": "#%%\n"
    }
   },
   "outputs": [],
   "source": [
    "if diff < 0:\n",
    "    e_corrected = np.array([i + abs(diff) for i in correct_timestamps(eeg_tstamps)])\n",
    "else:\n",
    "    u_corrected = np.array([i + diff for i in correct_timestamps(unity_tstamps)])"
   ]
  },
  {
   "cell_type": "code",
   "execution_count": 86,
   "id": "273d866c",
   "metadata": {
    "pycharm": {
     "name": "#%%\n"
    }
   },
   "outputs": [
    {
     "data": {
      "text/plain": [
       "array([2.33939288e-01, 2.44932988e-01, 2.55965688e-01, ...,\n",
       "       3.82370624e+03, 3.82371741e+03, 3.82372847e+03])"
      ]
     },
     "execution_count": 86,
     "metadata": {},
     "output_type": "execute_result"
    }
   ],
   "source": [
    "u_corrected\n",
    "# QUESTION: if the difference is being calculated with the original (big) numbers, is it correct to add this different to the unity time_stamps only AFTER correcting the time_stamps to zero??\n",
    "# SOLUTION: calculate difference in colected time_stamps then add  difference to unity collected time_stamps and ONLY then correct to ZERO"
   ]
  },
  {
   "cell_type": "markdown",
   "id": "fa879c78-68dc-460a-9d95-3d1ef373b650",
   "metadata": {},
   "source": [
    "__Display recording Length__"
   ]
  },
  {
   "cell_type": "code",
   "execution_count": 47,
   "id": "dfea5b17-6a89-472b-8348-4ea278b39802",
   "metadata": {},
   "outputs": [
    {
     "data": {
      "text/plain": [
       "{'lsl_try1.xdf': 2.7704407984449064,\n",
       " 'lsl_try1_new.xdf': 6.412092563727038,\n",
       " 'lsl_try1new_westdrive.xdf': 6.995541517876215,\n",
       " 'lsl_try2.xdf': 10.387935184916326,\n",
       " 'lsl_try3.xdf': 6.021511184480429,\n",
       " 'lsl_try4.xdf': 32.013114150299224,\n",
       " 'lsl_try5.xdf': 63.728807777311886}"
      ]
     },
     "execution_count": 47,
     "metadata": {},
     "output_type": "execute_result"
    }
   ],
   "source": [
    "r_length = {}\n",
    "for k in recordings:\n",
    "    file = recordings[k][\"file\"]\n",
    "    l = len(recordings[k][\"unity\"][\"timestamps\"])\n",
    "    ul = recordings[k][\"unity\"][\"timestamps\"][-1] / 60\n",
    "    r_length[file] = ul\n",
    "\n",
    "r_length"
   ]
  },
  {
   "cell_type": "markdown",
   "id": "413d1f43-88a1-421e-90ad-4b29e34216a7",
   "metadata": {},
   "source": [
    "__Display FPS__"
   ]
  },
  {
   "cell_type": "code",
   "execution_count": 48,
   "id": "effc7eb1-02b5-4f88-876a-461e8a09bdb9",
   "metadata": {},
   "outputs": [
    {
     "data": {
      "text/plain": [
       "{'lsl_try1.xdf': 89.87739429038432,\n",
       " 'lsl_try1_new.xdf': 89.9472355191272,\n",
       " 'lsl_try1new_westdrive.xdf': 89.95253120271761,\n",
       " 'lsl_try2.xdf': 89.96173445745215,\n",
       " 'lsl_try3.xdf': 89.9303596848491,\n",
       " 'lsl_try4.xdf': 89.98708008042198,\n",
       " 'lsl_try5.xdf': 89.99462252676581}"
      ]
     },
     "execution_count": 48,
     "metadata": {},
     "output_type": "execute_result"
    }
   ],
   "source": [
    "r_fps = {}\n",
    "for k in recordings:\n",
    "    file = recordings[k][\"file\"]\n",
    "    l = len(recordings[k][\"unity\"][\"timestamps\"])\n",
    "    ul = r_length[file]\n",
    "    r_fps[file] = 1 / (ul * 60 / l)\n",
    "\n",
    "r_fps"
   ]
  },
  {
   "cell_type": "markdown",
   "id": "cf2aaa73-f43d-4071-979c-b4596dbdaa16",
   "metadata": {},
   "source": [
    "__How do the recordings look like__"
   ]
  },
  {
   "cell_type": "code",
   "execution_count": 49,
   "id": "e18abad9-abd3-4d69-8929-3540fce09a6e",
   "metadata": {},
   "outputs": [
    {
     "data": {
      "text/html": [
       "<style type=\"text/css\">\n",
       "#T_50819_row0_col0, #T_50819_row0_col10, #T_50819_row0_col11, #T_50819_row0_col12, #T_50819_row1_col0, #T_50819_row1_col10, #T_50819_row1_col11, #T_50819_row1_col12, #T_50819_row2_col0, #T_50819_row2_col10, #T_50819_row2_col11, #T_50819_row2_col12, #T_50819_row3_col0, #T_50819_row3_col10, #T_50819_row3_col11, #T_50819_row3_col12, #T_50819_row4_col0, #T_50819_row4_col10, #T_50819_row4_col11, #T_50819_row4_col12, #T_50819_row5_col0, #T_50819_row5_col10, #T_50819_row5_col11, #T_50819_row5_col12, #T_50819_row6_col0, #T_50819_row6_col10, #T_50819_row6_col11, #T_50819_row6_col12 {\n",
       "  color: blue;\n",
       "}\n",
       "#T_50819_row0_col1, #T_50819_row0_col2, #T_50819_row0_col8, #T_50819_row0_col9, #T_50819_row1_col1, #T_50819_row1_col2, #T_50819_row1_col8, #T_50819_row1_col9, #T_50819_row2_col1, #T_50819_row2_col2, #T_50819_row2_col8, #T_50819_row2_col9, #T_50819_row3_col1, #T_50819_row3_col2, #T_50819_row3_col8, #T_50819_row3_col9, #T_50819_row4_col1, #T_50819_row4_col2, #T_50819_row4_col8, #T_50819_row4_col9, #T_50819_row5_col1, #T_50819_row5_col2, #T_50819_row5_col8, #T_50819_row5_col9, #T_50819_row6_col1, #T_50819_row6_col2, #T_50819_row6_col8, #T_50819_row6_col9 {\n",
       "  color: red;\n",
       "}\n",
       "#T_50819_row0_col3, #T_50819_row0_col4, #T_50819_row0_col5, #T_50819_row0_col6, #T_50819_row0_col7, #T_50819_row1_col3, #T_50819_row1_col4, #T_50819_row1_col5, #T_50819_row1_col6, #T_50819_row1_col7, #T_50819_row2_col3, #T_50819_row2_col4, #T_50819_row2_col5, #T_50819_row2_col6, #T_50819_row2_col7, #T_50819_row3_col3, #T_50819_row3_col4, #T_50819_row3_col5, #T_50819_row3_col6, #T_50819_row3_col7, #T_50819_row4_col3, #T_50819_row4_col4, #T_50819_row4_col5, #T_50819_row4_col6, #T_50819_row4_col7, #T_50819_row5_col3, #T_50819_row5_col4, #T_50819_row5_col5, #T_50819_row5_col6, #T_50819_row5_col7, #T_50819_row6_col3, #T_50819_row6_col4, #T_50819_row6_col5, #T_50819_row6_col6, #T_50819_row6_col7 {\n",
       "  color: green;\n",
       "}\n",
       "</style>\n",
       "<table id=\"T_50819_\">\n",
       "  <thead>\n",
       "    <tr>\n",
       "      <th class=\"blank level0\" >&nbsp;</th>\n",
       "      <th class=\"col_heading level0 col0\" >created</th>\n",
       "      <th class=\"col_heading level0 col1\" >eeg_first</th>\n",
       "      <th class=\"col_heading level0 col2\" >eeg_last</th>\n",
       "      <th class=\"col_heading level0 col3\" >eeg_starts</th>\n",
       "      <th class=\"col_heading level0 col4\" >length_eeg_color</th>\n",
       "      <th class=\"col_heading level0 col5\" >length_unity_color</th>\n",
       "      <th class=\"col_heading level0 col6\" >lsl_aligned</th>\n",
       "      <th class=\"col_heading level0 col7\" >two_computers</th>\n",
       "      <th class=\"col_heading level0 col8\" >unity_first</th>\n",
       "      <th class=\"col_heading level0 col9\" >unity_last</th>\n",
       "      <th class=\"col_heading level0 col10\" >computers</th>\n",
       "      <th class=\"col_heading level0 col11\" >duration (')</th>\n",
       "      <th class=\"col_heading level0 col12\" >FPS</th>\n",
       "    </tr>\n",
       "  </thead>\n",
       "  <tbody>\n",
       "    <tr>\n",
       "      <th id=\"T_50819_level0_row0\" class=\"row_heading level0 row0\" >lsl_try1</th>\n",
       "      <td id=\"T_50819_row0_col0\" class=\"data row0 col0\" >22.06.2022 15:26</td>\n",
       "      <td id=\"T_50819_row0_col1\" class=\"data row0 col1\" >✗</td>\n",
       "      <td id=\"T_50819_row0_col2\" class=\"data row0 col2\" >✗</td>\n",
       "      <td id=\"T_50819_row0_col3\" class=\"data row0 col3\" >✔</td>\n",
       "      <td id=\"T_50819_row0_col4\" class=\"data row0 col4\" >✔</td>\n",
       "      <td id=\"T_50819_row0_col5\" class=\"data row0 col5\" >✔</td>\n",
       "      <td id=\"T_50819_row0_col6\" class=\"data row0 col6\" >✔</td>\n",
       "      <td id=\"T_50819_row0_col7\" class=\"data row0 col7\" >✔</td>\n",
       "      <td id=\"T_50819_row0_col8\" class=\"data row0 col8\" >✗</td>\n",
       "      <td id=\"T_50819_row0_col9\" class=\"data row0 col9\" >✗</td>\n",
       "      <td id=\"T_50819_row0_col10\" class=\"data row0 col10\" >ml03 & wd-left</td>\n",
       "      <td id=\"T_50819_row0_col11\" class=\"data row0 col11\" >2.77</td>\n",
       "      <td id=\"T_50819_row0_col12\" class=\"data row0 col12\" >89.877</td>\n",
       "    </tr>\n",
       "    <tr>\n",
       "      <th id=\"T_50819_level0_row1\" class=\"row_heading level0 row1\" >lsl_try1_new</th>\n",
       "      <td id=\"T_50819_row1_col0\" class=\"data row1 col0\" >13.07.2022 22:44</td>\n",
       "      <td id=\"T_50819_row1_col1\" class=\"data row1 col1\" >✗</td>\n",
       "      <td id=\"T_50819_row1_col2\" class=\"data row1 col2\" >✗</td>\n",
       "      <td id=\"T_50819_row1_col3\" class=\"data row1 col3\" >✔</td>\n",
       "      <td id=\"T_50819_row1_col4\" class=\"data row1 col4\" >✔</td>\n",
       "      <td id=\"T_50819_row1_col5\" class=\"data row1 col5\" >✔</td>\n",
       "      <td id=\"T_50819_row1_col6\" class=\"data row1 col6\" >✔</td>\n",
       "      <td id=\"T_50819_row1_col7\" class=\"data row1 col7\" >✔</td>\n",
       "      <td id=\"T_50819_row1_col8\" class=\"data row1 col8\" >✗</td>\n",
       "      <td id=\"T_50819_row1_col9\" class=\"data row1 col9\" >✗</td>\n",
       "      <td id=\"T_50819_row1_col10\" class=\"data row1 col10\" >ml03 & wd-left</td>\n",
       "      <td id=\"T_50819_row1_col11\" class=\"data row1 col11\" >6.41</td>\n",
       "      <td id=\"T_50819_row1_col12\" class=\"data row1 col12\" >89.947</td>\n",
       "    </tr>\n",
       "    <tr>\n",
       "      <th id=\"T_50819_level0_row2\" class=\"row_heading level0 row2\" >lsl_try1new_westdrive</th>\n",
       "      <td id=\"T_50819_row2_col0\" class=\"data row2 col0\" >13.07.2022 23:18</td>\n",
       "      <td id=\"T_50819_row2_col1\" class=\"data row2 col1\" >✗</td>\n",
       "      <td id=\"T_50819_row2_col2\" class=\"data row2 col2\" >✗</td>\n",
       "      <td id=\"T_50819_row2_col3\" class=\"data row2 col3\" >✔</td>\n",
       "      <td id=\"T_50819_row2_col4\" class=\"data row2 col4\" >✔</td>\n",
       "      <td id=\"T_50819_row2_col5\" class=\"data row2 col5\" >✔</td>\n",
       "      <td id=\"T_50819_row2_col6\" class=\"data row2 col6\" >✔</td>\n",
       "      <td id=\"T_50819_row2_col7\" class=\"data row2 col7\" >✔</td>\n",
       "      <td id=\"T_50819_row2_col8\" class=\"data row2 col8\" >✗</td>\n",
       "      <td id=\"T_50819_row2_col9\" class=\"data row2 col9\" >✗</td>\n",
       "      <td id=\"T_50819_row2_col10\" class=\"data row2 col10\" >ml03 & wd-left</td>\n",
       "      <td id=\"T_50819_row2_col11\" class=\"data row2 col11\" >7.00</td>\n",
       "      <td id=\"T_50819_row2_col12\" class=\"data row2 col12\" >89.953</td>\n",
       "    </tr>\n",
       "    <tr>\n",
       "      <th id=\"T_50819_level0_row3\" class=\"row_heading level0 row3\" >lsl_try2</th>\n",
       "      <td id=\"T_50819_row3_col0\" class=\"data row3 col0\" >22.06.2022 16:18</td>\n",
       "      <td id=\"T_50819_row3_col1\" class=\"data row3 col1\" >✗</td>\n",
       "      <td id=\"T_50819_row3_col2\" class=\"data row3 col2\" >✗</td>\n",
       "      <td id=\"T_50819_row3_col3\" class=\"data row3 col3\" >✔</td>\n",
       "      <td id=\"T_50819_row3_col4\" class=\"data row3 col4\" >✔</td>\n",
       "      <td id=\"T_50819_row3_col5\" class=\"data row3 col5\" >✔</td>\n",
       "      <td id=\"T_50819_row3_col6\" class=\"data row3 col6\" >✔</td>\n",
       "      <td id=\"T_50819_row3_col7\" class=\"data row3 col7\" >✔</td>\n",
       "      <td id=\"T_50819_row3_col8\" class=\"data row3 col8\" >✗</td>\n",
       "      <td id=\"T_50819_row3_col9\" class=\"data row3 col9\" >✗</td>\n",
       "      <td id=\"T_50819_row3_col10\" class=\"data row3 col10\" >ml03 & wd-left</td>\n",
       "      <td id=\"T_50819_row3_col11\" class=\"data row3 col11\" >10.39</td>\n",
       "      <td id=\"T_50819_row3_col12\" class=\"data row3 col12\" >89.962</td>\n",
       "    </tr>\n",
       "    <tr>\n",
       "      <th id=\"T_50819_level0_row4\" class=\"row_heading level0 row4\" >lsl_try3</th>\n",
       "      <td id=\"T_50819_row4_col0\" class=\"data row4 col0\" >22.06.2022 16:25</td>\n",
       "      <td id=\"T_50819_row4_col1\" class=\"data row4 col1\" >✗</td>\n",
       "      <td id=\"T_50819_row4_col2\" class=\"data row4 col2\" >✗</td>\n",
       "      <td id=\"T_50819_row4_col3\" class=\"data row4 col3\" >✔</td>\n",
       "      <td id=\"T_50819_row4_col4\" class=\"data row4 col4\" >✔</td>\n",
       "      <td id=\"T_50819_row4_col5\" class=\"data row4 col5\" >✔</td>\n",
       "      <td id=\"T_50819_row4_col6\" class=\"data row4 col6\" >✔</td>\n",
       "      <td id=\"T_50819_row4_col7\" class=\"data row4 col7\" >✔</td>\n",
       "      <td id=\"T_50819_row4_col8\" class=\"data row4 col8\" >✗</td>\n",
       "      <td id=\"T_50819_row4_col9\" class=\"data row4 col9\" >✗</td>\n",
       "      <td id=\"T_50819_row4_col10\" class=\"data row4 col10\" >ml03 & wd-left</td>\n",
       "      <td id=\"T_50819_row4_col11\" class=\"data row4 col11\" >6.02</td>\n",
       "      <td id=\"T_50819_row4_col12\" class=\"data row4 col12\" >89.930</td>\n",
       "    </tr>\n",
       "    <tr>\n",
       "      <th id=\"T_50819_level0_row5\" class=\"row_heading level0 row5\" >lsl_try4</th>\n",
       "      <td id=\"T_50819_row5_col0\" class=\"data row5 col0\" >22.06.2022 17:35</td>\n",
       "      <td id=\"T_50819_row5_col1\" class=\"data row5 col1\" >✗</td>\n",
       "      <td id=\"T_50819_row5_col2\" class=\"data row5 col2\" >✗</td>\n",
       "      <td id=\"T_50819_row5_col3\" class=\"data row5 col3\" >✔</td>\n",
       "      <td id=\"T_50819_row5_col4\" class=\"data row5 col4\" >✔</td>\n",
       "      <td id=\"T_50819_row5_col5\" class=\"data row5 col5\" >✔</td>\n",
       "      <td id=\"T_50819_row5_col6\" class=\"data row5 col6\" >✔</td>\n",
       "      <td id=\"T_50819_row5_col7\" class=\"data row5 col7\" >✔</td>\n",
       "      <td id=\"T_50819_row5_col8\" class=\"data row5 col8\" >✗</td>\n",
       "      <td id=\"T_50819_row5_col9\" class=\"data row5 col9\" >✗</td>\n",
       "      <td id=\"T_50819_row5_col10\" class=\"data row5 col10\" >ml03 & wd-left</td>\n",
       "      <td id=\"T_50819_row5_col11\" class=\"data row5 col11\" >32.01</td>\n",
       "      <td id=\"T_50819_row5_col12\" class=\"data row5 col12\" >89.987</td>\n",
       "    </tr>\n",
       "    <tr>\n",
       "      <th id=\"T_50819_level0_row6\" class=\"row_heading level0 row6\" >lsl_try5</th>\n",
       "      <td id=\"T_50819_row6_col0\" class=\"data row6 col0\" >22.06.2022 19:11</td>\n",
       "      <td id=\"T_50819_row6_col1\" class=\"data row6 col1\" >✗</td>\n",
       "      <td id=\"T_50819_row6_col2\" class=\"data row6 col2\" >✗</td>\n",
       "      <td id=\"T_50819_row6_col3\" class=\"data row6 col3\" >✔</td>\n",
       "      <td id=\"T_50819_row6_col4\" class=\"data row6 col4\" >✔</td>\n",
       "      <td id=\"T_50819_row6_col5\" class=\"data row6 col5\" >✔</td>\n",
       "      <td id=\"T_50819_row6_col6\" class=\"data row6 col6\" >✔</td>\n",
       "      <td id=\"T_50819_row6_col7\" class=\"data row6 col7\" >✔</td>\n",
       "      <td id=\"T_50819_row6_col8\" class=\"data row6 col8\" >✗</td>\n",
       "      <td id=\"T_50819_row6_col9\" class=\"data row6 col9\" >✗</td>\n",
       "      <td id=\"T_50819_row6_col10\" class=\"data row6 col10\" >ml03 & wd-left</td>\n",
       "      <td id=\"T_50819_row6_col11\" class=\"data row6 col11\" >63.73</td>\n",
       "      <td id=\"T_50819_row6_col12\" class=\"data row6 col12\" >89.995</td>\n",
       "    </tr>\n",
       "  </tbody>\n",
       "</table>\n"
      ],
      "text/plain": [
       "<pandas.io.formats.style.Styler at 0x7fefb39e1040>"
      ]
     },
     "metadata": {},
     "output_type": "display_data"
    }
   ],
   "source": [
    "bool_keys = [k for k, v in recordings[0].items() if type(v) is bool]\n",
    "bool_keys.sort()\n",
    "checks = pd.DataFrame()\n",
    "for k in recordings:\n",
    "    file = recordings[k][\"file\"].split(\".\")[0]  # remove extension from filename\n",
    "    current = {}\n",
    "    current[\"created\"] = recordings[k][\"created\"]\n",
    "    for bool_k in bool_keys:\n",
    "        current[bool_k] = \"✔\" if recordings[k][bool_k] else \"✗\"\n",
    "    current[\"computers\"] = recordings[k][\"unity\"][\"info\"][\"hostname\"]\n",
    "    if recordings[k][\"two_computers\"]:\n",
    "        current[\"computers\"] += f\" & {recordings[k]['eeg']['info']['hostname']}\"\n",
    "    current[\"duration (')\"] = f\"{r_length[recordings[k]['file']]:.2f}\"\n",
    "    current[\"FPS\"] = f\"{r_fps[recordings[k]['file']]:.3f}\"\n",
    "    check = pd.DataFrame.from_dict(current, orient=\"index\", columns=[file])\n",
    "    if checks.empty:  # first file\n",
    "        checks = check\n",
    "    else:\n",
    "        checks = pd.merge(checks, check, left_index=True, right_index=True)\n",
    "\n",
    "checks = checks.T  # transpose\n",
    "display(checks.style.applymap(color_checks))"
   ]
  },
  {
   "cell_type": "code",
   "execution_count": 28,
   "id": "10cecb02-7ebf-4242-8580-3d72502180a6",
   "metadata": {},
   "outputs": [
    {
     "data": {
      "text/html": [
       "<style type=\"text/css\">\n",
       "#T_c80a4_row0_col0, #T_c80a4_row0_col2, #T_c80a4_row0_col3, #T_c80a4_row0_col4, #T_c80a4_row1_col0, #T_c80a4_row1_col2, #T_c80a4_row1_col3, #T_c80a4_row1_col4, #T_c80a4_row2_col0, #T_c80a4_row2_col2, #T_c80a4_row2_col3, #T_c80a4_row2_col4, #T_c80a4_row3_col0, #T_c80a4_row3_col2, #T_c80a4_row3_col3, #T_c80a4_row3_col4, #T_c80a4_row4_col0, #T_c80a4_row4_col2, #T_c80a4_row4_col3, #T_c80a4_row4_col4, #T_c80a4_row5_col0, #T_c80a4_row5_col2, #T_c80a4_row5_col3, #T_c80a4_row5_col4, #T_c80a4_row6_col0, #T_c80a4_row6_col2, #T_c80a4_row6_col3, #T_c80a4_row6_col4 {\n",
       "  color: blue;\n",
       "}\n",
       "#T_c80a4_row0_col1, #T_c80a4_row1_col1, #T_c80a4_row2_col1, #T_c80a4_row3_col1, #T_c80a4_row4_col1, #T_c80a4_row5_col1, #T_c80a4_row6_col1 {\n",
       "  color: green;\n",
       "}\n",
       "</style>\n",
       "<table id=\"T_c80a4_\">\n",
       "  <thead>\n",
       "    <tr>\n",
       "      <th class=\"blank level0\" >&nbsp;</th>\n",
       "      <th class=\"col_heading level0 col0\" >created</th>\n",
       "      <th class=\"col_heading level0 col1\" >two_computers</th>\n",
       "      <th class=\"col_heading level0 col2\" >computers</th>\n",
       "      <th class=\"col_heading level0 col3\" >duration (')</th>\n",
       "      <th class=\"col_heading level0 col4\" >FPS</th>\n",
       "    </tr>\n",
       "  </thead>\n",
       "  <tbody>\n",
       "    <tr>\n",
       "      <th id=\"T_c80a4_level0_row0\" class=\"row_heading level0 row0\" >lsl_try1</th>\n",
       "      <td id=\"T_c80a4_row0_col0\" class=\"data row0 col0\" >22.06.2022 15:26</td>\n",
       "      <td id=\"T_c80a4_row0_col1\" class=\"data row0 col1\" >✔</td>\n",
       "      <td id=\"T_c80a4_row0_col2\" class=\"data row0 col2\" >ml03 & wd-left</td>\n",
       "      <td id=\"T_c80a4_row0_col3\" class=\"data row0 col3\" >2.77</td>\n",
       "      <td id=\"T_c80a4_row0_col4\" class=\"data row0 col4\" >89.877</td>\n",
       "    </tr>\n",
       "    <tr>\n",
       "      <th id=\"T_c80a4_level0_row1\" class=\"row_heading level0 row1\" >lsl_try1_new</th>\n",
       "      <td id=\"T_c80a4_row1_col0\" class=\"data row1 col0\" >13.07.2022 22:44</td>\n",
       "      <td id=\"T_c80a4_row1_col1\" class=\"data row1 col1\" >✔</td>\n",
       "      <td id=\"T_c80a4_row1_col2\" class=\"data row1 col2\" >ml03 & wd-left</td>\n",
       "      <td id=\"T_c80a4_row1_col3\" class=\"data row1 col3\" >6.41</td>\n",
       "      <td id=\"T_c80a4_row1_col4\" class=\"data row1 col4\" >89.947</td>\n",
       "    </tr>\n",
       "    <tr>\n",
       "      <th id=\"T_c80a4_level0_row2\" class=\"row_heading level0 row2\" >lsl_try1new_westdrive</th>\n",
       "      <td id=\"T_c80a4_row2_col0\" class=\"data row2 col0\" >13.07.2022 23:18</td>\n",
       "      <td id=\"T_c80a4_row2_col1\" class=\"data row2 col1\" >✔</td>\n",
       "      <td id=\"T_c80a4_row2_col2\" class=\"data row2 col2\" >ml03 & wd-left</td>\n",
       "      <td id=\"T_c80a4_row2_col3\" class=\"data row2 col3\" >7.00</td>\n",
       "      <td id=\"T_c80a4_row2_col4\" class=\"data row2 col4\" >89.953</td>\n",
       "    </tr>\n",
       "    <tr>\n",
       "      <th id=\"T_c80a4_level0_row3\" class=\"row_heading level0 row3\" >lsl_try2</th>\n",
       "      <td id=\"T_c80a4_row3_col0\" class=\"data row3 col0\" >22.06.2022 16:18</td>\n",
       "      <td id=\"T_c80a4_row3_col1\" class=\"data row3 col1\" >✔</td>\n",
       "      <td id=\"T_c80a4_row3_col2\" class=\"data row3 col2\" >ml03 & wd-left</td>\n",
       "      <td id=\"T_c80a4_row3_col3\" class=\"data row3 col3\" >10.39</td>\n",
       "      <td id=\"T_c80a4_row3_col4\" class=\"data row3 col4\" >89.962</td>\n",
       "    </tr>\n",
       "    <tr>\n",
       "      <th id=\"T_c80a4_level0_row4\" class=\"row_heading level0 row4\" >lsl_try3</th>\n",
       "      <td id=\"T_c80a4_row4_col0\" class=\"data row4 col0\" >22.06.2022 16:25</td>\n",
       "      <td id=\"T_c80a4_row4_col1\" class=\"data row4 col1\" >✔</td>\n",
       "      <td id=\"T_c80a4_row4_col2\" class=\"data row4 col2\" >ml03 & wd-left</td>\n",
       "      <td id=\"T_c80a4_row4_col3\" class=\"data row4 col3\" >6.02</td>\n",
       "      <td id=\"T_c80a4_row4_col4\" class=\"data row4 col4\" >89.930</td>\n",
       "    </tr>\n",
       "    <tr>\n",
       "      <th id=\"T_c80a4_level0_row5\" class=\"row_heading level0 row5\" >lsl_try4</th>\n",
       "      <td id=\"T_c80a4_row5_col0\" class=\"data row5 col0\" >22.06.2022 17:35</td>\n",
       "      <td id=\"T_c80a4_row5_col1\" class=\"data row5 col1\" >✔</td>\n",
       "      <td id=\"T_c80a4_row5_col2\" class=\"data row5 col2\" >ml03 & wd-left</td>\n",
       "      <td id=\"T_c80a4_row5_col3\" class=\"data row5 col3\" >32.01</td>\n",
       "      <td id=\"T_c80a4_row5_col4\" class=\"data row5 col4\" >89.987</td>\n",
       "    </tr>\n",
       "    <tr>\n",
       "      <th id=\"T_c80a4_level0_row6\" class=\"row_heading level0 row6\" >lsl_try5</th>\n",
       "      <td id=\"T_c80a4_row6_col0\" class=\"data row6 col0\" >22.06.2022 19:11</td>\n",
       "      <td id=\"T_c80a4_row6_col1\" class=\"data row6 col1\" >✔</td>\n",
       "      <td id=\"T_c80a4_row6_col2\" class=\"data row6 col2\" >ml03 & wd-left</td>\n",
       "      <td id=\"T_c80a4_row6_col3\" class=\"data row6 col3\" >63.73</td>\n",
       "      <td id=\"T_c80a4_row6_col4\" class=\"data row6 col4\" >89.995</td>\n",
       "    </tr>\n",
       "  </tbody>\n",
       "</table>\n"
      ],
      "text/plain": [
       "<pandas.io.formats.style.Styler at 0x7fefb39e13d0>"
      ]
     },
     "metadata": {},
     "output_type": "display_data"
    }
   ],
   "source": [
    "checks = checks.sort_index()\n",
    "display(\n",
    "    checks.drop(\n",
    "        columns=[\n",
    "            \"eeg_first\",\n",
    "            \"eeg_last\",\n",
    "            \"eeg_starts\",\n",
    "            \"length_unity_color\",\n",
    "            \"lsl_aligned\",\n",
    "            \"unity_first\",\n",
    "            \"unity_last\",\n",
    "            \"length_eeg_color\",\n",
    "        ]\n",
    "    ).style.applymap(color_checks)\n",
    ")"
   ]
  },
  {
   "cell_type": "markdown",
   "id": "ef25b869-9942-47b4-8c10-5327e7158cde",
   "metadata": {},
   "source": [
    "__Display FPS__"
   ]
  },
  {
   "cell_type": "code",
   "execution_count": 29,
   "id": "45eb0395-ead7-4172-981d-095b0cab3940",
   "metadata": {},
   "outputs": [
    {
     "data": {
      "image/png": "[encoded data removed]",
      "text/plain": [
       "<Figure size 1800x216 with 1 Axes>"
      ]
     },
     "metadata": {},
     "output_type": "display_data"
    },
    {
     "data": {
      "image/png": "[encoded data removed]",
      "text/plain": [
       "<Figure size 1800x216 with 1 Axes>"
      ]
     },
     "metadata": {},
     "output_type": "display_data"
    },
    {
     "data": {
      "image/png": "[encoded data removed]",
      "text/plain": [
       "<Figure size 1800x216 with 1 Axes>"
      ]
     },
     "metadata": {},
     "output_type": "display_data"
    },
    {
     "data": {
      "image/png": "[encoded data removed]",
      "text/plain": [
       "<Figure size 1800x216 with 1 Axes>"
      ]
     },
     "metadata": {},
     "output_type": "display_data"
    },
    {
     "data": {
      "image/png": "[encoded data removed]",
      "text/plain": [
       "<Figure size 1800x216 with 1 Axes>"
      ]
     },
     "metadata": {},
     "output_type": "display_data"
    },
    {
     "data": {
      "image/png": "[encoded data removed]",
      "text/plain": [
       "<Figure size 1800x216 with 1 Axes>"
      ]
     },
     "metadata": {},
     "output_type": "display_data"
    },
    {
     "data": {
      "image/png": "[encoded data removed]",
      "text/plain": [
       "<Figure size 1800x216 with 1 Axes>"
      ]
     },
     "metadata": {},
     "output_type": "display_data"
    }
   ],
   "source": [
    "%matplotlib inline\n",
    "sns.set_style(\"darkgrid\")  # set seaborn plotting style\n",
    "palette = itertools.cycle(sns.color_palette(palette=\"muted\"))\n",
    "for k in recordings:\n",
    "    avg_fps = []\n",
    "    temp = []\n",
    "    next_sec = 1\n",
    "    file = recordings[k][\"file\"].split(\".\")[0]\n",
    "    for t in recordings[k][\"unity\"][\"timestamps\"]:\n",
    "        if t <= next_sec:\n",
    "            temp.append(t)\n",
    "        else:\n",
    "            avg_fps.append(len(temp))\n",
    "            temp = []\n",
    "            temp.append(t)\n",
    "            next_sec += 1\n",
    "    x = [i for i in range(len(avg_fps))]\n",
    "    plt.figure(figsize=(25, 3))\n",
    "    plt.title(file)\n",
    "    plt.xlabel(\"Time (s)\")\n",
    "    plt.ylabel(\"FPS\")\n",
    "    sns.lineplot(x=x, y=avg_fps, color=next(palette))\n",
    "    plt.ylim([85,95])\n",
    "plt.show()"
   ]
  },
  {
   "cell_type": "markdown",
   "id": "2e04ef9c-2e95-46f3-829c-825cac740da4",
   "metadata": {},
   "source": [
    "#### __Descriptive statistics: Unity and EEG samples time distance__"
   ]
  },
  {
   "cell_type": "code",
   "execution_count": 30,
   "id": "995d1e6a-60f3-4bee-a8ea-65133195e576",
   "metadata": {},
   "outputs": [],
   "source": [
    "u_stats = pd.DataFrame()  # create empty dataframe\n",
    "u_dist = []\n",
    "e_dist = []\n",
    "for k in recordings:\n",
    "    file = recordings[k][\"file\"].split(\".\")[0]  # remove extension from filename\n",
    "    # corrected timestamps\n",
    "    u_ts = recordings[k][\"unity\"][\"timestamps\"]\n",
    "    e_ts = recordings[k][\"eeg\"][\"timestamps\"]\n",
    "    # compute the time distance between samples\n",
    "    u = [u_ts[i + 1] - u_ts[i] for i in range(len(u_ts) - 1)]\n",
    "    e = [e_ts[i + 1] - e_ts[i] for i in range(len(e_ts) - 1)]\n",
    "    u_dist.append(u)\n",
    "    e_dist.append(e)\n",
    "    # store as dataframe (easier to compute descriptive statistics)\n",
    "    u = pd.DataFrame(np.array(u), columns=[file])\n",
    "    e = pd.DataFrame(np.array(e), columns=[file])\n",
    "    if u_stats.empty:  # first file\n",
    "        u_stats = u.describe()\n",
    "        e_stats = e.describe()\n",
    "    else:  # after first file, merge current stats with previous acumulated stats\n",
    "        u_stats = pd.merge(u_stats, u.describe(), left_index=True, right_index=True)\n",
    "        e_stats = pd.merge(e_stats, e.describe(), left_index=True, right_index=True)\n",
    "\n",
    "u_mean = pd.DataFrame(u_stats.mean(axis=1), columns=[\"AVG\"])\n",
    "e_mean = pd.DataFrame(e_stats.mean(axis=1), columns=[\"AVG\"])\n",
    "u_stats = pd.merge(u_stats, u_mean, left_index=True, right_index=True)\n",
    "e_stats = pd.merge(e_stats, e_mean, left_index=True, right_index=True)"
   ]
  },
  {
   "cell_type": "code",
   "execution_count": 31,
   "id": "fb388049-1748-4659-b565-30820151c27d",
   "metadata": {},
   "outputs": [
    {
     "data": {
      "text/html": [
       "<style type=\"text/css\">\n",
       "#T_5dfa6_row0_col7, #T_5dfa6_row1_col7, #T_5dfa6_row2_col7, #T_5dfa6_row3_col7, #T_5dfa6_row4_col7, #T_5dfa6_row5_col7, #T_5dfa6_row6_col7, #T_5dfa6_row7_col7 {\n",
       "  color: blue;\n",
       "}\n",
       "</style>\n",
       "<table id=\"T_5dfa6_\">\n",
       "  <thead>\n",
       "    <tr>\n",
       "      <th class=\"blank level0\" >&nbsp;</th>\n",
       "      <th class=\"col_heading level0 col0\" >lsl_try1</th>\n",
       "      <th class=\"col_heading level0 col1\" >lsl_try1_new</th>\n",
       "      <th class=\"col_heading level0 col2\" >lsl_try1new_westdrive</th>\n",
       "      <th class=\"col_heading level0 col3\" >lsl_try2</th>\n",
       "      <th class=\"col_heading level0 col4\" >lsl_try3</th>\n",
       "      <th class=\"col_heading level0 col5\" >lsl_try4</th>\n",
       "      <th class=\"col_heading level0 col6\" >lsl_try5</th>\n",
       "      <th class=\"col_heading level0 col7\" >AVG</th>\n",
       "    </tr>\n",
       "  </thead>\n",
       "  <tbody>\n",
       "    <tr>\n",
       "      <th id=\"T_5dfa6_level0_row0\" class=\"row_heading level0 row0\" >count</th>\n",
       "      <td id=\"T_5dfa6_row0_col0\" class=\"data row0 col0\" >14939.000000</td>\n",
       "      <td id=\"T_5dfa6_row0_col1\" class=\"data row0 col1\" >34604.000000</td>\n",
       "      <td id=\"T_5dfa6_row0_col2\" class=\"data row0 col2\" >37755.000000</td>\n",
       "      <td id=\"T_5dfa6_row0_col3\" class=\"data row0 col3\" >56070.000000</td>\n",
       "      <td id=\"T_5dfa6_row0_col4\" class=\"data row0 col4\" >32490.000000</td>\n",
       "      <td id=\"T_5dfa6_row0_col5\" class=\"data row0 col5\" >172845.000000</td>\n",
       "      <td id=\"T_5dfa6_row0_col6\" class=\"data row0 col6\" >344114.000000</td>\n",
       "      <td id=\"T_5dfa6_row0_col7\" class=\"data row0 col7\" >98973.857143</td>\n",
       "    </tr>\n",
       "    <tr>\n",
       "      <th id=\"T_5dfa6_level0_row1\" class=\"row_heading level0 row1\" >mean</th>\n",
       "      <td id=\"T_5dfa6_row1_col0\" class=\"data row1 col0\" >0.011111</td>\n",
       "      <td id=\"T_5dfa6_row1_col1\" class=\"data row1 col1\" >0.011111</td>\n",
       "      <td id=\"T_5dfa6_row1_col2\" class=\"data row1 col2\" >0.011111</td>\n",
       "      <td id=\"T_5dfa6_row1_col3\" class=\"data row1 col3\" >0.011111</td>\n",
       "      <td id=\"T_5dfa6_row1_col4\" class=\"data row1 col4\" >0.011111</td>\n",
       "      <td id=\"T_5dfa6_row1_col5\" class=\"data row1 col5\" >0.011111</td>\n",
       "      <td id=\"T_5dfa6_row1_col6\" class=\"data row1 col6\" >0.011111</td>\n",
       "      <td id=\"T_5dfa6_row1_col7\" class=\"data row1 col7\" >0.011111</td>\n",
       "    </tr>\n",
       "    <tr>\n",
       "      <th id=\"T_5dfa6_level0_row2\" class=\"row_heading level0 row2\" >std</th>\n",
       "      <td id=\"T_5dfa6_row2_col0\" class=\"data row2 col0\" >0.000893</td>\n",
       "      <td id=\"T_5dfa6_row2_col1\" class=\"data row2 col1\" >0.000846</td>\n",
       "      <td id=\"T_5dfa6_row2_col2\" class=\"data row2 col2\" >0.000865</td>\n",
       "      <td id=\"T_5dfa6_row2_col3\" class=\"data row2 col3\" >0.000796</td>\n",
       "      <td id=\"T_5dfa6_row2_col4\" class=\"data row2 col4\" >0.000803</td>\n",
       "      <td id=\"T_5dfa6_row2_col5\" class=\"data row2 col5\" >0.000759</td>\n",
       "      <td id=\"T_5dfa6_row2_col6\" class=\"data row2 col6\" >0.000811</td>\n",
       "      <td id=\"T_5dfa6_row2_col7\" class=\"data row2 col7\" >0.000825</td>\n",
       "    </tr>\n",
       "    <tr>\n",
       "      <th id=\"T_5dfa6_level0_row3\" class=\"row_heading level0 row3\" >min</th>\n",
       "      <td id=\"T_5dfa6_row3_col0\" class=\"data row3 col0\" >0.000150</td>\n",
       "      <td id=\"T_5dfa6_row3_col1\" class=\"data row3 col1\" >0.000151</td>\n",
       "      <td id=\"T_5dfa6_row3_col2\" class=\"data row3 col2\" >0.000157</td>\n",
       "      <td id=\"T_5dfa6_row3_col3\" class=\"data row3 col3\" >0.000152</td>\n",
       "      <td id=\"T_5dfa6_row3_col4\" class=\"data row3 col4\" >0.000153</td>\n",
       "      <td id=\"T_5dfa6_row3_col5\" class=\"data row3 col5\" >0.000150</td>\n",
       "      <td id=\"T_5dfa6_row3_col6\" class=\"data row3 col6\" >0.000097</td>\n",
       "      <td id=\"T_5dfa6_row3_col7\" class=\"data row3 col7\" >0.000144</td>\n",
       "    </tr>\n",
       "    <tr>\n",
       "      <th id=\"T_5dfa6_level0_row4\" class=\"row_heading level0 row4\" >25%</th>\n",
       "      <td id=\"T_5dfa6_row4_col0\" class=\"data row4 col0\" >0.011062</td>\n",
       "      <td id=\"T_5dfa6_row4_col1\" class=\"data row4 col1\" >0.011064</td>\n",
       "      <td id=\"T_5dfa6_row4_col2\" class=\"data row4 col2\" >0.011064</td>\n",
       "      <td id=\"T_5dfa6_row4_col3\" class=\"data row4 col3\" >0.011064</td>\n",
       "      <td id=\"T_5dfa6_row4_col4\" class=\"data row4 col4\" >0.011063</td>\n",
       "      <td id=\"T_5dfa6_row4_col5\" class=\"data row4 col5\" >0.011067</td>\n",
       "      <td id=\"T_5dfa6_row4_col6\" class=\"data row4 col6\" >0.011058</td>\n",
       "      <td id=\"T_5dfa6_row4_col7\" class=\"data row4 col7\" >0.011063</td>\n",
       "    </tr>\n",
       "    <tr>\n",
       "      <th id=\"T_5dfa6_level0_row5\" class=\"row_heading level0 row5\" >50%</th>\n",
       "      <td id=\"T_5dfa6_row5_col0\" class=\"data row5 col0\" >0.011104</td>\n",
       "      <td id=\"T_5dfa6_row5_col1\" class=\"data row5 col1\" >0.011103</td>\n",
       "      <td id=\"T_5dfa6_row5_col2\" class=\"data row5 col2\" >0.011103</td>\n",
       "      <td id=\"T_5dfa6_row5_col3\" class=\"data row5 col3\" >0.011104</td>\n",
       "      <td id=\"T_5dfa6_row5_col4\" class=\"data row5 col4\" >0.011104</td>\n",
       "      <td id=\"T_5dfa6_row5_col5\" class=\"data row5 col5\" >0.011104</td>\n",
       "      <td id=\"T_5dfa6_row5_col6\" class=\"data row5 col6\" >0.011103</td>\n",
       "      <td id=\"T_5dfa6_row5_col7\" class=\"data row5 col7\" >0.011103</td>\n",
       "    </tr>\n",
       "    <tr>\n",
       "      <th id=\"T_5dfa6_level0_row6\" class=\"row_heading level0 row6\" >75%</th>\n",
       "      <td id=\"T_5dfa6_row6_col0\" class=\"data row6 col0\" >0.011146</td>\n",
       "      <td id=\"T_5dfa6_row6_col1\" class=\"data row6 col1\" >0.011143</td>\n",
       "      <td id=\"T_5dfa6_row6_col2\" class=\"data row6 col2\" >0.011143</td>\n",
       "      <td id=\"T_5dfa6_row6_col3\" class=\"data row6 col3\" >0.011143</td>\n",
       "      <td id=\"T_5dfa6_row6_col4\" class=\"data row6 col4\" >0.011144</td>\n",
       "      <td id=\"T_5dfa6_row6_col5\" class=\"data row6 col5\" >0.011141</td>\n",
       "      <td id=\"T_5dfa6_row6_col6\" class=\"data row6 col6\" >0.011149</td>\n",
       "      <td id=\"T_5dfa6_row6_col7\" class=\"data row6 col7\" >0.011144</td>\n",
       "    </tr>\n",
       "    <tr>\n",
       "      <th id=\"T_5dfa6_level0_row7\" class=\"row_heading level0 row7\" >max</th>\n",
       "      <td id=\"T_5dfa6_row7_col0\" class=\"data row7 col0\" >0.022415</td>\n",
       "      <td id=\"T_5dfa6_row7_col1\" class=\"data row7 col1\" >0.022373</td>\n",
       "      <td id=\"T_5dfa6_row7_col2\" class=\"data row7 col2\" >0.022459</td>\n",
       "      <td id=\"T_5dfa6_row7_col3\" class=\"data row7 col3\" >0.022441</td>\n",
       "      <td id=\"T_5dfa6_row7_col4\" class=\"data row7 col4\" >0.023078</td>\n",
       "      <td id=\"T_5dfa6_row7_col5\" class=\"data row7 col5\" >0.022752</td>\n",
       "      <td id=\"T_5dfa6_row7_col6\" class=\"data row7 col6\" >0.023023</td>\n",
       "      <td id=\"T_5dfa6_row7_col7\" class=\"data row7 col7\" >0.022649</td>\n",
       "    </tr>\n",
       "  </tbody>\n",
       "</table>\n"
      ],
      "text/plain": [
       "<pandas.io.formats.style.Styler at 0x7fefb39f2dc0>"
      ]
     },
     "metadata": {},
     "output_type": "display_data"
    }
   ],
   "source": [
    "display(u_stats.style.applymap(color_checks, subset=[\"AVG\"]))"
   ]
  },
  {
   "cell_type": "code",
   "execution_count": 32,
   "id": "b72595c1-0e6c-4916-af5b-27415bb9c702",
   "metadata": {},
   "outputs": [
    {
     "data": {
      "text/html": [
       "<style type=\"text/css\">\n",
       "#T_f4901_row0_col7, #T_f4901_row1_col7, #T_f4901_row2_col7, #T_f4901_row3_col7, #T_f4901_row4_col7, #T_f4901_row5_col7, #T_f4901_row6_col7, #T_f4901_row7_col7 {\n",
       "  color: blue;\n",
       "}\n",
       "</style>\n",
       "<table id=\"T_f4901_\">\n",
       "  <thead>\n",
       "    <tr>\n",
       "      <th class=\"blank level0\" >&nbsp;</th>\n",
       "      <th class=\"col_heading level0 col0\" >lsl_try1</th>\n",
       "      <th class=\"col_heading level0 col1\" >lsl_try1_new</th>\n",
       "      <th class=\"col_heading level0 col2\" >lsl_try1new_westdrive</th>\n",
       "      <th class=\"col_heading level0 col3\" >lsl_try2</th>\n",
       "      <th class=\"col_heading level0 col4\" >lsl_try3</th>\n",
       "      <th class=\"col_heading level0 col5\" >lsl_try4</th>\n",
       "      <th class=\"col_heading level0 col6\" >lsl_try5</th>\n",
       "      <th class=\"col_heading level0 col7\" >AVG</th>\n",
       "    </tr>\n",
       "  </thead>\n",
       "  <tbody>\n",
       "    <tr>\n",
       "      <th id=\"T_f4901_level0_row0\" class=\"row_heading level0 row0\" >count</th>\n",
       "      <td id=\"T_f4901_row0_col0\" class=\"data row0 col0\" >170015.000000</td>\n",
       "      <td id=\"T_f4901_row0_col1\" class=\"data row0 col1\" >393727.000000</td>\n",
       "      <td id=\"T_f4901_row0_col2\" class=\"data row0 col2\" >429567.000000</td>\n",
       "      <td id=\"T_f4901_row0_col3\" class=\"data row0 col3\" >637951.000000</td>\n",
       "      <td id=\"T_f4901_row0_col4\" class=\"data row0 col4\" >369663.000000</td>\n",
       "      <td id=\"T_f4901_row0_col5\" class=\"data row0 col5\" >1966559.000000</td>\n",
       "      <td id=\"T_f4901_row0_col6\" class=\"data row0 col6\" >3915199.000000</td>\n",
       "      <td id=\"T_f4901_row0_col7\" class=\"data row0 col7\" >1126097.285714</td>\n",
       "    </tr>\n",
       "    <tr>\n",
       "      <th id=\"T_f4901_level0_row1\" class=\"row_heading level0 row1\" >mean</th>\n",
       "      <td id=\"T_f4901_row1_col0\" class=\"data row1 col0\" >0.000977</td>\n",
       "      <td id=\"T_f4901_row1_col1\" class=\"data row1 col1\" >0.000977</td>\n",
       "      <td id=\"T_f4901_row1_col2\" class=\"data row1 col2\" >0.000977</td>\n",
       "      <td id=\"T_f4901_row1_col3\" class=\"data row1 col3\" >0.000977</td>\n",
       "      <td id=\"T_f4901_row1_col4\" class=\"data row1 col4\" >0.000977</td>\n",
       "      <td id=\"T_f4901_row1_col5\" class=\"data row1 col5\" >0.000977</td>\n",
       "      <td id=\"T_f4901_row1_col6\" class=\"data row1 col6\" >0.000977</td>\n",
       "      <td id=\"T_f4901_row1_col7\" class=\"data row1 col7\" >0.000977</td>\n",
       "    </tr>\n",
       "    <tr>\n",
       "      <th id=\"T_f4901_level0_row2\" class=\"row_heading level0 row2\" >std</th>\n",
       "      <td id=\"T_f4901_row2_col0\" class=\"data row2 col0\" >0.000000</td>\n",
       "      <td id=\"T_f4901_row2_col1\" class=\"data row2 col1\" >0.000000</td>\n",
       "      <td id=\"T_f4901_row2_col2\" class=\"data row2 col2\" >0.000000</td>\n",
       "      <td id=\"T_f4901_row2_col3\" class=\"data row2 col3\" >0.000000</td>\n",
       "      <td id=\"T_f4901_row2_col4\" class=\"data row2 col4\" >0.000000</td>\n",
       "      <td id=\"T_f4901_row2_col5\" class=\"data row2 col5\" >0.000000</td>\n",
       "      <td id=\"T_f4901_row2_col6\" class=\"data row2 col6\" >0.000000</td>\n",
       "      <td id=\"T_f4901_row2_col7\" class=\"data row2 col7\" >0.000000</td>\n",
       "    </tr>\n",
       "    <tr>\n",
       "      <th id=\"T_f4901_level0_row3\" class=\"row_heading level0 row3\" >min</th>\n",
       "      <td id=\"T_f4901_row3_col0\" class=\"data row3 col0\" >0.000977</td>\n",
       "      <td id=\"T_f4901_row3_col1\" class=\"data row3 col1\" >0.000977</td>\n",
       "      <td id=\"T_f4901_row3_col2\" class=\"data row3 col2\" >0.000977</td>\n",
       "      <td id=\"T_f4901_row3_col3\" class=\"data row3 col3\" >0.000977</td>\n",
       "      <td id=\"T_f4901_row3_col4\" class=\"data row3 col4\" >0.000977</td>\n",
       "      <td id=\"T_f4901_row3_col5\" class=\"data row3 col5\" >0.000977</td>\n",
       "      <td id=\"T_f4901_row3_col6\" class=\"data row3 col6\" >0.000977</td>\n",
       "      <td id=\"T_f4901_row3_col7\" class=\"data row3 col7\" >0.000977</td>\n",
       "    </tr>\n",
       "    <tr>\n",
       "      <th id=\"T_f4901_level0_row4\" class=\"row_heading level0 row4\" >25%</th>\n",
       "      <td id=\"T_f4901_row4_col0\" class=\"data row4 col0\" >0.000977</td>\n",
       "      <td id=\"T_f4901_row4_col1\" class=\"data row4 col1\" >0.000977</td>\n",
       "      <td id=\"T_f4901_row4_col2\" class=\"data row4 col2\" >0.000977</td>\n",
       "      <td id=\"T_f4901_row4_col3\" class=\"data row4 col3\" >0.000977</td>\n",
       "      <td id=\"T_f4901_row4_col4\" class=\"data row4 col4\" >0.000977</td>\n",
       "      <td id=\"T_f4901_row4_col5\" class=\"data row4 col5\" >0.000977</td>\n",
       "      <td id=\"T_f4901_row4_col6\" class=\"data row4 col6\" >0.000977</td>\n",
       "      <td id=\"T_f4901_row4_col7\" class=\"data row4 col7\" >0.000977</td>\n",
       "    </tr>\n",
       "    <tr>\n",
       "      <th id=\"T_f4901_level0_row5\" class=\"row_heading level0 row5\" >50%</th>\n",
       "      <td id=\"T_f4901_row5_col0\" class=\"data row5 col0\" >0.000977</td>\n",
       "      <td id=\"T_f4901_row5_col1\" class=\"data row5 col1\" >0.000977</td>\n",
       "      <td id=\"T_f4901_row5_col2\" class=\"data row5 col2\" >0.000977</td>\n",
       "      <td id=\"T_f4901_row5_col3\" class=\"data row5 col3\" >0.000977</td>\n",
       "      <td id=\"T_f4901_row5_col4\" class=\"data row5 col4\" >0.000977</td>\n",
       "      <td id=\"T_f4901_row5_col5\" class=\"data row5 col5\" >0.000977</td>\n",
       "      <td id=\"T_f4901_row5_col6\" class=\"data row5 col6\" >0.000977</td>\n",
       "      <td id=\"T_f4901_row5_col7\" class=\"data row5 col7\" >0.000977</td>\n",
       "    </tr>\n",
       "    <tr>\n",
       "      <th id=\"T_f4901_level0_row6\" class=\"row_heading level0 row6\" >75%</th>\n",
       "      <td id=\"T_f4901_row6_col0\" class=\"data row6 col0\" >0.000977</td>\n",
       "      <td id=\"T_f4901_row6_col1\" class=\"data row6 col1\" >0.000977</td>\n",
       "      <td id=\"T_f4901_row6_col2\" class=\"data row6 col2\" >0.000977</td>\n",
       "      <td id=\"T_f4901_row6_col3\" class=\"data row6 col3\" >0.000977</td>\n",
       "      <td id=\"T_f4901_row6_col4\" class=\"data row6 col4\" >0.000977</td>\n",
       "      <td id=\"T_f4901_row6_col5\" class=\"data row6 col5\" >0.000977</td>\n",
       "      <td id=\"T_f4901_row6_col6\" class=\"data row6 col6\" >0.000977</td>\n",
       "      <td id=\"T_f4901_row6_col7\" class=\"data row6 col7\" >0.000977</td>\n",
       "    </tr>\n",
       "    <tr>\n",
       "      <th id=\"T_f4901_level0_row7\" class=\"row_heading level0 row7\" >max</th>\n",
       "      <td id=\"T_f4901_row7_col0\" class=\"data row7 col0\" >0.000977</td>\n",
       "      <td id=\"T_f4901_row7_col1\" class=\"data row7 col1\" >0.000977</td>\n",
       "      <td id=\"T_f4901_row7_col2\" class=\"data row7 col2\" >0.000977</td>\n",
       "      <td id=\"T_f4901_row7_col3\" class=\"data row7 col3\" >0.000977</td>\n",
       "      <td id=\"T_f4901_row7_col4\" class=\"data row7 col4\" >0.000977</td>\n",
       "      <td id=\"T_f4901_row7_col5\" class=\"data row7 col5\" >0.000977</td>\n",
       "      <td id=\"T_f4901_row7_col6\" class=\"data row7 col6\" >0.000977</td>\n",
       "      <td id=\"T_f4901_row7_col7\" class=\"data row7 col7\" >0.000977</td>\n",
       "    </tr>\n",
       "  </tbody>\n",
       "</table>\n"
      ],
      "text/plain": [
       "<pandas.io.formats.style.Styler at 0x7fefb3a998e0>"
      ]
     },
     "metadata": {},
     "output_type": "display_data"
    }
   ],
   "source": [
    "display(e_stats.style.applymap(color_checks, subset=[\"AVG\"]))"
   ]
  },
  {
   "cell_type": "markdown",
   "id": "c8568612-65a9-455b-9915-5c78abb626e3",
   "metadata": {},
   "source": [
    "#### __Time distribution plots__"
   ]
  },
  {
   "cell_type": "code",
   "execution_count": 50,
   "id": "66af1821-755f-4fef-8e83-74827ff2b3ae",
   "metadata": {},
   "outputs": [
    {
     "data": {
      "image/png": "[encoded data removed]",
      "text/plain": [
       "<Figure size 1800x720 with 1 Axes>"
      ]
     },
     "metadata": {},
     "output_type": "display_data"
    }
   ],
   "source": [
    "sns.set(rc={\"figure.figsize\": (25, 10)})  # set figure size\n",
    "sns.set_style(\"darkgrid\")  # set seaborn plotting style\n",
    "g = sns.boxenplot(data=u_dist, palette=\"muted\")\n",
    "g.set_xticklabels(files)\n",
    "g.set_yticks(np.arange(0, g.get_ylim()[1], 0.001))\n",
    "plt.ticklabel_format(style=\"plain\", axis=\"y\", useOffset=False)\n",
    "plt.ylabel(\"Time (s)\")\n",
    "plt.tight_layout()\n",
    "plt.show()"
   ]
  },
  {
   "cell_type": "code",
   "execution_count": 51,
   "id": "dfb08003",
   "metadata": {
    "pycharm": {
     "name": "#%%\n"
    }
   },
   "outputs": [
    {
     "data": {
      "image/png": "[encoded data removed]",
      "text/plain": [
       "<Figure size 720x216 with 1 Axes>"
      ]
     },
     "metadata": {},
     "output_type": "display_data"
    },
    {
     "data": {
      "image/png": "[encoded data removed]",
      "text/plain": [
       "<Figure size 720x216 with 1 Axes>"
      ]
     },
     "metadata": {},
     "output_type": "display_data"
    }
   ],
   "source": [
    "%matplotlib inline\n",
    "sns.set_style(\"darkgrid\")  # set seaborn plotting style\n",
    "palette = itertools.cycle(sns.color_palette(palette=\"muted\"))\n",
    "plt.figure(figsize=(10, 3))\n",
    "plt.title(\"Recording with LSL timestamps not aligned (1RST second)\")\n",
    "ey = [1 for d in recordings[0][\"eeg\"][\"timestamps\"][:1024]]\n",
    "uy = [1.05 for d in recordings[0][\"unity\"][\"timestamps\"][:90]]\n",
    "sns.scatterplot(x=recordings[0][\"eeg\"][\"timestamps\"][:1024], y=ey, color=next(palette))\n",
    "sns.scatterplot(x=recordings[0][\"unity\"][\"timestamps\"][:90], y=uy, color=next(palette))\n",
    "plt.ylim(0.9, 1.1)\n",
    "plt.legend([\"EEG\", \"Unity\"])\n",
    "plt.show()\n",
    "\n",
    "sns.set_style(\"darkgrid\")  # set seaborn plotting style\n",
    "palette = itertools.cycle(sns.color_palette(palette=\"muted\"))\n",
    "plt.figure(figsize=(10, 3))\n",
    "plt.title(\"Recording with LSL timestamps not aligned (LAST second)\")\n",
    "ey = [1 for d in recordings[2][\"eeg\"][\"timestamps\"][-1024:]]\n",
    "uy = [1.05 for d in recordings[2][\"unity\"][\"timestamps\"][-90:]]\n",
    "sns.scatterplot(x=recordings[2][\"eeg\"][\"timestamps\"][-1024:], y=ey, color=next(palette))\n",
    "sns.scatterplot(x=recordings[2][\"unity\"][\"timestamps\"][-90:], y=uy, color=next(palette))\n",
    "plt.ylim(0.9, 1.1)\n",
    "plt.legend([\"EEG\", \"Unity\"])\n",
    "plt.show()\n"
   ]
  },
  {
   "cell_type": "code",
   "execution_count": 111,
   "id": "e024984b",
   "metadata": {
    "pycharm": {
     "name": "#%%\n"
    }
   },
   "outputs": [
    {
     "data": {
      "text/html": [
       "<div>\n",
       "<style scoped>\n",
       "    .dataframe tbody tr th:only-of-type {\n",
       "        vertical-align: middle;\n",
       "    }\n",
       "\n",
       "    .dataframe tbody tr th {\n",
       "        vertical-align: top;\n",
       "    }\n",
       "\n",
       "    .dataframe thead th {\n",
       "        text-align: right;\n",
       "    }\n",
       "</style>\n",
       "<table border=\"1\" class=\"dataframe\">\n",
       "  <thead>\n",
       "    <tr style=\"text-align: right;\">\n",
       "      <th></th>\n",
       "      <th>lsl_try1</th>\n",
       "      <th>lsl_try2</th>\n",
       "      <th>lsl_try3</th>\n",
       "      <th>lsl_try4</th>\n",
       "      <th>lsl_try5</th>\n",
       "    </tr>\n",
       "  </thead>\n",
       "  <tbody>\n",
       "    <tr>\n",
       "      <th>End diff (C)</th>\n",
       "      <td>63103.61722</td>\n",
       "      <td>63103.54232</td>\n",
       "      <td>63103.52932</td>\n",
       "      <td>63103.50749</td>\n",
       "      <td>63103.53955</td>\n",
       "    </tr>\n",
       "    <tr>\n",
       "      <th>End diff (O)</th>\n",
       "      <td>-0.19655</td>\n",
       "      <td>-0.27847</td>\n",
       "      <td>-0.29238</td>\n",
       "      <td>-0.32272</td>\n",
       "      <td>-0.29800</td>\n",
       "    </tr>\n",
       "    <tr>\n",
       "      <th>First EEG (C)</th>\n",
       "      <td>0.00000</td>\n",
       "      <td>0.00000</td>\n",
       "      <td>0.00000</td>\n",
       "      <td>0.00000</td>\n",
       "      <td>0.00000</td>\n",
       "    </tr>\n",
       "    <tr>\n",
       "      <th>First EEG (I)</th>\n",
       "      <td>659448.27446</td>\n",
       "      <td>662129.62898</td>\n",
       "      <td>662806.97281</td>\n",
       "      <td>665431.97590</td>\n",
       "      <td>669281.61128</td>\n",
       "    </tr>\n",
       "    <tr>\n",
       "      <th>First EEG (O)</th>\n",
       "      <td>596344.46105</td>\n",
       "      <td>599025.80956</td>\n",
       "      <td>599703.15183</td>\n",
       "      <td>602328.14921</td>\n",
       "      <td>606177.77967</td>\n",
       "    </tr>\n",
       "    <tr>\n",
       "      <th>First Unity (C)</th>\n",
       "      <td>0.23510</td>\n",
       "      <td>0.27995</td>\n",
       "      <td>0.29825</td>\n",
       "      <td>0.28808</td>\n",
       "      <td>0.23394</td>\n",
       "    </tr>\n",
       "    <tr>\n",
       "      <th>First Unity (I)</th>\n",
       "      <td>596344.69616</td>\n",
       "      <td>599026.08951</td>\n",
       "      <td>599703.45008</td>\n",
       "      <td>602328.43730</td>\n",
       "      <td>606178.01361</td>\n",
       "    </tr>\n",
       "    <tr>\n",
       "      <th>First Unity (O)</th>\n",
       "      <td>596344.69616</td>\n",
       "      <td>599026.08951</td>\n",
       "      <td>599703.45008</td>\n",
       "      <td>602328.43730</td>\n",
       "      <td>606178.01361</td>\n",
       "    </tr>\n",
       "    <tr>\n",
       "      <th>Last EEG (C)</th>\n",
       "      <td>166.02989</td>\n",
       "      <td>622.99765</td>\n",
       "      <td>360.99829</td>\n",
       "      <td>1920.46413</td>\n",
       "      <td>3823.43046</td>\n",
       "    </tr>\n",
       "    <tr>\n",
       "      <th>Last EEG (I)</th>\n",
       "      <td>659614.30473</td>\n",
       "      <td>662752.62800</td>\n",
       "      <td>663167.97183</td>\n",
       "      <td>667352.44356</td>\n",
       "      <td>673105.04769</td>\n",
       "    </tr>\n",
       "    <tr>\n",
       "      <th>Last EEG (O)</th>\n",
       "      <td>596510.49095</td>\n",
       "      <td>599648.80721</td>\n",
       "      <td>600064.15012</td>\n",
       "      <td>604248.61334</td>\n",
       "      <td>610001.21013</td>\n",
       "    </tr>\n",
       "    <tr>\n",
       "      <th>Last Unity (C)</th>\n",
       "      <td>166.22645</td>\n",
       "      <td>623.27611</td>\n",
       "      <td>361.29067</td>\n",
       "      <td>1920.78685</td>\n",
       "      <td>3823.72847</td>\n",
       "    </tr>\n",
       "    <tr>\n",
       "      <th>Last Unity (I)</th>\n",
       "      <td>596510.68751</td>\n",
       "      <td>599649.08567</td>\n",
       "      <td>600064.44251</td>\n",
       "      <td>604248.93607</td>\n",
       "      <td>610001.50814</td>\n",
       "    </tr>\n",
       "    <tr>\n",
       "      <th>Last Unity (O)</th>\n",
       "      <td>596510.68750</td>\n",
       "      <td>599649.08567</td>\n",
       "      <td>600064.44251</td>\n",
       "      <td>604248.93606</td>\n",
       "      <td>610001.50814</td>\n",
       "    </tr>\n",
       "    <tr>\n",
       "      <th>Length EEG (C)</th>\n",
       "      <td>166.02989</td>\n",
       "      <td>622.99765</td>\n",
       "      <td>360.99829</td>\n",
       "      <td>1920.46413</td>\n",
       "      <td>3823.43046</td>\n",
       "    </tr>\n",
       "    <tr>\n",
       "      <th>Length EEG (I)</th>\n",
       "      <td>166.03027</td>\n",
       "      <td>622.99902</td>\n",
       "      <td>360.99902</td>\n",
       "      <td>1920.46766</td>\n",
       "      <td>3823.43641</td>\n",
       "    </tr>\n",
       "    <tr>\n",
       "      <th>Length EEG (O)</th>\n",
       "      <td>166.02989</td>\n",
       "      <td>622.99765</td>\n",
       "      <td>360.99829</td>\n",
       "      <td>1920.46413</td>\n",
       "      <td>3823.43046</td>\n",
       "    </tr>\n",
       "    <tr>\n",
       "      <th>Length Unity (C)</th>\n",
       "      <td>165.99135</td>\n",
       "      <td>622.99616</td>\n",
       "      <td>360.99243</td>\n",
       "      <td>1920.49877</td>\n",
       "      <td>3823.49453</td>\n",
       "    </tr>\n",
       "    <tr>\n",
       "      <th>Length Unity (I)</th>\n",
       "      <td>165.99134</td>\n",
       "      <td>622.99616</td>\n",
       "      <td>360.99243</td>\n",
       "      <td>1920.49877</td>\n",
       "      <td>3823.49453</td>\n",
       "    </tr>\n",
       "    <tr>\n",
       "      <th>Length Unity (O)</th>\n",
       "      <td>165.99135</td>\n",
       "      <td>622.99616</td>\n",
       "      <td>360.99243</td>\n",
       "      <td>1920.49877</td>\n",
       "      <td>3823.49453</td>\n",
       "    </tr>\n",
       "    <tr>\n",
       "      <th>Length diff (C)</th>\n",
       "      <td>0.03855</td>\n",
       "      <td>0.00148</td>\n",
       "      <td>0.00586</td>\n",
       "      <td>0.03464</td>\n",
       "      <td>0.06406</td>\n",
       "    </tr>\n",
       "    <tr>\n",
       "      <th>Length diff (I)</th>\n",
       "      <td>0.03893</td>\n",
       "      <td>0.00286</td>\n",
       "      <td>0.00659</td>\n",
       "      <td>0.03111</td>\n",
       "      <td>0.05812</td>\n",
       "    </tr>\n",
       "    <tr>\n",
       "      <th>Length diff (O)</th>\n",
       "      <td>0.03855</td>\n",
       "      <td>0.00148</td>\n",
       "      <td>0.00586</td>\n",
       "      <td>0.03464</td>\n",
       "      <td>0.06406</td>\n",
       "    </tr>\n",
       "    <tr>\n",
       "      <th>Sample count EEG (C)</th>\n",
       "      <td>170016.00000</td>\n",
       "      <td>637952.00000</td>\n",
       "      <td>369664.00000</td>\n",
       "      <td>1966560.00000</td>\n",
       "      <td>3915200.00000</td>\n",
       "    </tr>\n",
       "    <tr>\n",
       "      <th>Sample count EEG (I)</th>\n",
       "      <td>170015.00000</td>\n",
       "      <td>637951.00000</td>\n",
       "      <td>369663.00000</td>\n",
       "      <td>1966559.00000</td>\n",
       "      <td>3915199.00000</td>\n",
       "    </tr>\n",
       "    <tr>\n",
       "      <th>Sample count EEG (O)</th>\n",
       "      <td>170016.00000</td>\n",
       "      <td>637952.00000</td>\n",
       "      <td>369664.00000</td>\n",
       "      <td>1966560.00000</td>\n",
       "      <td>3915200.00000</td>\n",
       "    </tr>\n",
       "    <tr>\n",
       "      <th>Sample count Unity (C)</th>\n",
       "      <td>14940.00000</td>\n",
       "      <td>56071.00000</td>\n",
       "      <td>32491.00000</td>\n",
       "      <td>172846.00000</td>\n",
       "      <td>344115.00000</td>\n",
       "    </tr>\n",
       "    <tr>\n",
       "      <th>Sample count Unity (I)</th>\n",
       "      <td>14939.00000</td>\n",
       "      <td>56070.00000</td>\n",
       "      <td>32490.00000</td>\n",
       "      <td>172845.00000</td>\n",
       "      <td>344114.00000</td>\n",
       "    </tr>\n",
       "    <tr>\n",
       "      <th>Sample count Unity (O)</th>\n",
       "      <td>14940.00000</td>\n",
       "      <td>56071.00000</td>\n",
       "      <td>32491.00000</td>\n",
       "      <td>172846.00000</td>\n",
       "      <td>344115.00000</td>\n",
       "    </tr>\n",
       "    <tr>\n",
       "      <th>Start diff (C)</th>\n",
       "      <td>0.23510</td>\n",
       "      <td>0.27995</td>\n",
       "      <td>0.29825</td>\n",
       "      <td>0.28808</td>\n",
       "      <td>0.23394</td>\n",
       "    </tr>\n",
       "    <tr>\n",
       "      <th>Start diff (I)</th>\n",
       "      <td>-63103.57829</td>\n",
       "      <td>-63103.53947</td>\n",
       "      <td>-63103.52273</td>\n",
       "      <td>-63103.53860</td>\n",
       "      <td>-63103.59767</td>\n",
       "    </tr>\n",
       "    <tr>\n",
       "      <th>Start diff (O)</th>\n",
       "      <td>0.23510</td>\n",
       "      <td>0.27995</td>\n",
       "      <td>0.29825</td>\n",
       "      <td>0.28808</td>\n",
       "      <td>0.23394</td>\n",
       "    </tr>\n",
       "    <tr>\n",
       "      <th>Stream creation (EEG)</th>\n",
       "      <td>658905.21475</td>\n",
       "      <td>662065.47424</td>\n",
       "      <td>662065.47424</td>\n",
       "      <td>665179.07069</td>\n",
       "      <td>668985.20618</td>\n",
       "    </tr>\n",
       "    <tr>\n",
       "      <th>Stream creation (Unity)</th>\n",
       "      <td>596284.88856</td>\n",
       "      <td>598982.87450</td>\n",
       "      <td>598982.87450</td>\n",
       "      <td>602271.91076</td>\n",
       "      <td>606005.09567</td>\n",
       "    </tr>\n",
       "  </tbody>\n",
       "</table>\n",
       "</div>"
      ],
      "text/plain": [
       "                            lsl_try1     lsl_try2     lsl_try3      lsl_try4  \\\n",
       "End diff (C)             63103.61722  63103.54232  63103.52932   63103.50749   \n",
       "End diff (O)                -0.19655     -0.27847     -0.29238      -0.32272   \n",
       "First EEG (C)                0.00000      0.00000      0.00000       0.00000   \n",
       "First EEG (I)           659448.27446 662129.62898 662806.97281  665431.97590   \n",
       "First EEG (O)           596344.46105 599025.80956 599703.15183  602328.14921   \n",
       "First Unity (C)              0.23510      0.27995      0.29825       0.28808   \n",
       "First Unity (I)         596344.69616 599026.08951 599703.45008  602328.43730   \n",
       "First Unity (O)         596344.69616 599026.08951 599703.45008  602328.43730   \n",
       "Last EEG (C)               166.02989    622.99765    360.99829    1920.46413   \n",
       "Last EEG (I)            659614.30473 662752.62800 663167.97183  667352.44356   \n",
       "Last EEG (O)            596510.49095 599648.80721 600064.15012  604248.61334   \n",
       "Last Unity (C)             166.22645    623.27611    361.29067    1920.78685   \n",
       "Last Unity (I)          596510.68751 599649.08567 600064.44251  604248.93607   \n",
       "Last Unity (O)          596510.68750 599649.08567 600064.44251  604248.93606   \n",
       "Length EEG (C)             166.02989    622.99765    360.99829    1920.46413   \n",
       "Length EEG (I)             166.03027    622.99902    360.99902    1920.46766   \n",
       "Length EEG (O)             166.02989    622.99765    360.99829    1920.46413   \n",
       "Length Unity (C)           165.99135    622.99616    360.99243    1920.49877   \n",
       "Length Unity (I)           165.99134    622.99616    360.99243    1920.49877   \n",
       "Length Unity (O)           165.99135    622.99616    360.99243    1920.49877   \n",
       "Length diff (C)              0.03855      0.00148      0.00586       0.03464   \n",
       "Length diff (I)              0.03893      0.00286      0.00659       0.03111   \n",
       "Length diff (O)              0.03855      0.00148      0.00586       0.03464   \n",
       "Sample count EEG (C)    170016.00000 637952.00000 369664.00000 1966560.00000   \n",
       "Sample count EEG (I)    170015.00000 637951.00000 369663.00000 1966559.00000   \n",
       "Sample count EEG (O)    170016.00000 637952.00000 369664.00000 1966560.00000   \n",
       "Sample count Unity (C)   14940.00000  56071.00000  32491.00000  172846.00000   \n",
       "Sample count Unity (I)   14939.00000  56070.00000  32490.00000  172845.00000   \n",
       "Sample count Unity (O)   14940.00000  56071.00000  32491.00000  172846.00000   \n",
       "Start diff (C)               0.23510      0.27995      0.29825       0.28808   \n",
       "Start diff (I)          -63103.57829 -63103.53947 -63103.52273  -63103.53860   \n",
       "Start diff (O)               0.23510      0.27995      0.29825       0.28808   \n",
       "Stream creation (EEG)   658905.21475 662065.47424 662065.47424  665179.07069   \n",
       "Stream creation (Unity) 596284.88856 598982.87450 598982.87450  602271.91076   \n",
       "\n",
       "                             lsl_try5  \n",
       "End diff (C)              63103.53955  \n",
       "End diff (O)                 -0.29800  \n",
       "First EEG (C)                 0.00000  \n",
       "First EEG (I)            669281.61128  \n",
       "First EEG (O)            606177.77967  \n",
       "First Unity (C)               0.23394  \n",
       "First Unity (I)          606178.01361  \n",
       "First Unity (O)          606178.01361  \n",
       "Last EEG (C)               3823.43046  \n",
       "Last EEG (I)             673105.04769  \n",
       "Last EEG (O)             610001.21013  \n",
       "Last Unity (C)             3823.72847  \n",
       "Last Unity (I)           610001.50814  \n",
       "Last Unity (O)           610001.50814  \n",
       "Length EEG (C)             3823.43046  \n",
       "Length EEG (I)             3823.43641  \n",
       "Length EEG (O)             3823.43046  \n",
       "Length Unity (C)           3823.49453  \n",
       "Length Unity (I)           3823.49453  \n",
       "Length Unity (O)           3823.49453  \n",
       "Length diff (C)               0.06406  \n",
       "Length diff (I)               0.05812  \n",
       "Length diff (O)               0.06406  \n",
       "Sample count EEG (C)    3915200.00000  \n",
       "Sample count EEG (I)    3915199.00000  \n",
       "Sample count EEG (O)    3915200.00000  \n",
       "Sample count Unity (C)   344115.00000  \n",
       "Sample count Unity (I)   344114.00000  \n",
       "Sample count Unity (O)   344115.00000  \n",
       "Start diff (C)                0.23394  \n",
       "Start diff (I)           -63103.59767  \n",
       "Start diff (O)                0.23394  \n",
       "Stream creation (EEG)    668985.20618  \n",
       "Stream creation (Unity)  606005.09567  "
      ]
     },
     "metadata": {},
     "output_type": "display_data"
    }
   ],
   "source": [
    "stats = pd.DataFrame()  # create empty dataframe\n",
    "for k in recordings:\n",
    "    comparison = {}\n",
    "    file = recordings[k][\"file\"].split(\".\")[0]  # remove extension from filename\n",
    "    o_c = {\"time_stamps\": \"O\", \"timestamps\": \"C\"}\n",
    "    for key in list(o_c.keys()):  # avoid duplicate code with different keys\n",
    "        # for original and corrected timestamps\n",
    "        u_ts = recordings[k][\"unity\"][key]\n",
    "        e_ts = recordings[k][\"eeg\"][key]\n",
    "        u_first = u_ts[0]\n",
    "        u_last = u_ts[-1]\n",
    "        e_first = e_ts[0]\n",
    "        e_last = e_ts[-1]\n",
    "        u_length = u_last - u_first\n",
    "        e_length = e_last - e_first\n",
    "\n",
    "        val = o_c[key]\n",
    "\n",
    "        comparison[f\"First EEG ({val})\"] = e_first\n",
    "        comparison[f\"First Unity ({val})\"] = u_first\n",
    "        comparison[f\"Last EEG ({val})\"] = e_last\n",
    "        comparison[f\"Last Unity ({val})\"] = u_last\n",
    "        comparison[f\"Length EEG ({val})\"] = e_length\n",
    "        comparison[f\"Length Unity ({val})\"] = u_length\n",
    "        comparison[f\"Sample count EEG ({val})\"] = len(e_ts)\n",
    "        comparison[f\"Sample count Unity ({val})\"] = len(u_ts)\n",
    "        comparison[f\"Start diff ({val})\"] = u_first - e_first\n",
    "        comparison[f\"End diff ({val})\"] = e_last - u_last\n",
    "        comparison[f\"Length diff ({val})\"] = abs(u_length - e_length)\n",
    "\n",
    "    # file info\n",
    "    u_info = recordings[k][\"unity\"][\"info\"]\n",
    "    e_info = recordings[k][\"eeg\"][\"info\"]\n",
    "    i_u_first = u_info[\"first_timestamp\"]\n",
    "    i_u_last = u_info[\"last_timestamp\"]\n",
    "    i_e_first = e_info[\"first_timestamp\"]\n",
    "    i_e_last = e_info[\"last_timestamp\"]\n",
    "    i_e_length = float(i_e_last) - float(i_e_first)\n",
    "    i_u_length = float(i_u_last) - float(i_u_first)\n",
    "\n",
    "    comparison[\"First EEG (I)\"] = i_e_first\n",
    "    comparison[\"First Unity (I)\"] = i_u_first\n",
    "    comparison[\"Last EEG (I)\"] = i_e_last\n",
    "    comparison[\"Last Unity (I)\"] = i_u_last\n",
    "    comparison[\"Length EEG (I)\"] = i_e_length\n",
    "    comparison[\"Length Unity (I)\"] = i_u_length\n",
    "    comparison[\"Sample count EEG (I)\"] = e_info[\"sample_count\"]\n",
    "    comparison[\"Sample count Unity (I)\"] = u_info[\"sample_count\"]\n",
    "    comparison[\"Start diff (I)\"] = float(i_u_first) - float(i_e_first)\n",
    "    comparison[f\"End diff ({val})\"] = float(i_e_last) - float(i_u_last)\n",
    "    comparison[\"Length diff (I)\"] = abs(i_u_length - i_e_length)\n",
    "    comparison[\"Stream creation (EEG)\"] = e_info[\"created_at\"]\n",
    "    comparison[\"Stream creation (Unity)\"] = u_info[\"created_at\"]\n",
    "\n",
    "    # order keys alphabetically\n",
    "    comparison = dict(sorted(comparison.items()))\n",
    "    current = pd.DataFrame.from_dict(\n",
    "        comparison, orient=\"index\", columns=[file], dtype=float\n",
    "    )\n",
    "    if stats.empty:  # first file\n",
    "        stats = current\n",
    "    else:\n",
    "        stats = pd.merge(stats, current, left_index=True, right_index=True)\n",
    "\n",
    "display(stats)"
   ]
  },
  {
   "cell_type": "code",
   "execution_count": 112,
   "id": "199e32c1",
   "metadata": {
    "pycharm": {
     "name": "#%%\n"
    }
   },
   "outputs": [
    {
     "data": {
      "text/html": [
       "<style type=\"text/css\">\n",
       "#T_6c2b5_row0_col5, #T_6c2b5_row1_col5, #T_6c2b5_row2_col5, #T_6c2b5_row3_col5, #T_6c2b5_row4_col5, #T_6c2b5_row5_col5, #T_6c2b5_row6_col5, #T_6c2b5_row7_col5 {\n",
       "  color: blue;\n",
       "}\n",
       "</style>\n",
       "<table id=\"T_6c2b5_\">\n",
       "  <thead>\n",
       "    <tr>\n",
       "      <th class=\"blank level0\" >&nbsp;</th>\n",
       "      <th class=\"col_heading level0 col0\" >lsl_try1</th>\n",
       "      <th class=\"col_heading level0 col1\" >lsl_try2</th>\n",
       "      <th class=\"col_heading level0 col2\" >lsl_try3</th>\n",
       "      <th class=\"col_heading level0 col3\" >lsl_try4</th>\n",
       "      <th class=\"col_heading level0 col4\" >lsl_try5</th>\n",
       "      <th class=\"col_heading level0 col5\" >AVG</th>\n",
       "    </tr>\n",
       "  </thead>\n",
       "  <tbody>\n",
       "    <tr>\n",
       "      <th id=\"T_6c2b5_level0_row0\" class=\"row_heading level0 row0\" >End diff (C)</th>\n",
       "      <td id=\"T_6c2b5_row0_col0\" class=\"data row0 col0\" >63103.617223</td>\n",
       "      <td id=\"T_6c2b5_row0_col1\" class=\"data row0 col1\" >63103.542324</td>\n",
       "      <td id=\"T_6c2b5_row0_col2\" class=\"data row0 col2\" >63103.529322</td>\n",
       "      <td id=\"T_6c2b5_row0_col3\" class=\"data row0 col3\" >63103.507490</td>\n",
       "      <td id=\"T_6c2b5_row0_col4\" class=\"data row0 col4\" >63103.539547</td>\n",
       "      <td id=\"T_6c2b5_row0_col5\" class=\"data row0 col5\" >63103.547181</td>\n",
       "    </tr>\n",
       "    <tr>\n",
       "      <th id=\"T_6c2b5_level0_row1\" class=\"row_heading level0 row1\" >End diff (O)</th>\n",
       "      <td id=\"T_6c2b5_row1_col0\" class=\"data row1 col0\" >-0.196554</td>\n",
       "      <td id=\"T_6c2b5_row1_col1\" class=\"data row1 col1\" >-0.278466</td>\n",
       "      <td id=\"T_6c2b5_row1_col2\" class=\"data row1 col2\" >-0.292383</td>\n",
       "      <td id=\"T_6c2b5_row1_col3\" class=\"data row1 col3\" >-0.322721</td>\n",
       "      <td id=\"T_6c2b5_row1_col4\" class=\"data row1 col4\" >-0.298004</td>\n",
       "      <td id=\"T_6c2b5_row1_col5\" class=\"data row1 col5\" >-0.277626</td>\n",
       "    </tr>\n",
       "    <tr>\n",
       "      <th id=\"T_6c2b5_level0_row2\" class=\"row_heading level0 row2\" >Length diff (C)</th>\n",
       "      <td id=\"T_6c2b5_row2_col0\" class=\"data row2 col0\" >0.038547</td>\n",
       "      <td id=\"T_6c2b5_row2_col1\" class=\"data row2 col1\" >0.001485</td>\n",
       "      <td id=\"T_6c2b5_row2_col2\" class=\"data row2 col2\" >0.005863</td>\n",
       "      <td id=\"T_6c2b5_row2_col3\" class=\"data row2 col3\" >0.034637</td>\n",
       "      <td id=\"T_6c2b5_row2_col4\" class=\"data row2 col4\" >0.064065</td>\n",
       "      <td id=\"T_6c2b5_row2_col5\" class=\"data row2 col5\" >0.028919</td>\n",
       "    </tr>\n",
       "    <tr>\n",
       "      <th id=\"T_6c2b5_level0_row3\" class=\"row_heading level0 row3\" >Length diff (I)</th>\n",
       "      <td id=\"T_6c2b5_row3_col0\" class=\"data row3 col0\" >0.038931</td>\n",
       "      <td id=\"T_6c2b5_row3_col1\" class=\"data row3 col1\" >0.002858</td>\n",
       "      <td id=\"T_6c2b5_row3_col2\" class=\"data row3 col2\" >0.006591</td>\n",
       "      <td id=\"T_6c2b5_row3_col3\" class=\"data row3 col3\" >0.031111</td>\n",
       "      <td id=\"T_6c2b5_row3_col4\" class=\"data row3 col4\" >0.058119</td>\n",
       "      <td id=\"T_6c2b5_row3_col5\" class=\"data row3 col5\" >0.027522</td>\n",
       "    </tr>\n",
       "    <tr>\n",
       "      <th id=\"T_6c2b5_level0_row4\" class=\"row_heading level0 row4\" >Length diff (O)</th>\n",
       "      <td id=\"T_6c2b5_row4_col0\" class=\"data row4 col0\" >0.038547</td>\n",
       "      <td id=\"T_6c2b5_row4_col1\" class=\"data row4 col1\" >0.001485</td>\n",
       "      <td id=\"T_6c2b5_row4_col2\" class=\"data row4 col2\" >0.005863</td>\n",
       "      <td id=\"T_6c2b5_row4_col3\" class=\"data row4 col3\" >0.034637</td>\n",
       "      <td id=\"T_6c2b5_row4_col4\" class=\"data row4 col4\" >0.064065</td>\n",
       "      <td id=\"T_6c2b5_row4_col5\" class=\"data row4 col5\" >0.028919</td>\n",
       "    </tr>\n",
       "    <tr>\n",
       "      <th id=\"T_6c2b5_level0_row5\" class=\"row_heading level0 row5\" >Start diff (C)</th>\n",
       "      <td id=\"T_6c2b5_row5_col0\" class=\"data row5 col0\" >0.235101</td>\n",
       "      <td id=\"T_6c2b5_row5_col1\" class=\"data row5 col1\" >0.279951</td>\n",
       "      <td id=\"T_6c2b5_row5_col2\" class=\"data row5 col2\" >0.298246</td>\n",
       "      <td id=\"T_6c2b5_row5_col3\" class=\"data row5 col3\" >0.288084</td>\n",
       "      <td id=\"T_6c2b5_row5_col4\" class=\"data row5 col4\" >0.233939</td>\n",
       "      <td id=\"T_6c2b5_row5_col5\" class=\"data row5 col5\" >0.267064</td>\n",
       "    </tr>\n",
       "    <tr>\n",
       "      <th id=\"T_6c2b5_level0_row6\" class=\"row_heading level0 row6\" >Start diff (I)</th>\n",
       "      <td id=\"T_6c2b5_row6_col0\" class=\"data row6 col0\" >-63103.578292</td>\n",
       "      <td id=\"T_6c2b5_row6_col1\" class=\"data row6 col1\" >-63103.539466</td>\n",
       "      <td id=\"T_6c2b5_row6_col2\" class=\"data row6 col2\" >-63103.522731</td>\n",
       "      <td id=\"T_6c2b5_row6_col3\" class=\"data row6 col3\" >-63103.538600</td>\n",
       "      <td id=\"T_6c2b5_row6_col4\" class=\"data row6 col4\" >-63103.597666</td>\n",
       "      <td id=\"T_6c2b5_row6_col5\" class=\"data row6 col5\" >-63103.555351</td>\n",
       "    </tr>\n",
       "    <tr>\n",
       "      <th id=\"T_6c2b5_level0_row7\" class=\"row_heading level0 row7\" >Start diff (O)</th>\n",
       "      <td id=\"T_6c2b5_row7_col0\" class=\"data row7 col0\" >0.235101</td>\n",
       "      <td id=\"T_6c2b5_row7_col1\" class=\"data row7 col1\" >0.279951</td>\n",
       "      <td id=\"T_6c2b5_row7_col2\" class=\"data row7 col2\" >0.298246</td>\n",
       "      <td id=\"T_6c2b5_row7_col3\" class=\"data row7 col3\" >0.288084</td>\n",
       "      <td id=\"T_6c2b5_row7_col4\" class=\"data row7 col4\" >0.233939</td>\n",
       "      <td id=\"T_6c2b5_row7_col5\" class=\"data row7 col5\" >0.267064</td>\n",
       "    </tr>\n",
       "  </tbody>\n",
       "</table>\n"
      ],
      "text/plain": [
       "<pandas.io.formats.style.Styler at 0x7fac4089ad60>"
      ]
     },
     "metadata": {},
     "output_type": "display_data"
    }
   ],
   "source": [
    "# collect indexes (rows) containing \"diff\" to display and calculate the AVG\n",
    "diff_indexes = [index for index in stats.index if \"diff\" in index]\n",
    "diffs = stats.loc[diff_indexes]\n",
    "diffs_mean = pd.DataFrame(diffs.mean(axis=1), columns=[\"AVG\"])\n",
    "diffs = pd.merge(diffs, diffs_mean, left_index=True, right_index=True)\n",
    "display(diffs.style.applymap(color_checks, subset=[\"AVG\"]))"
   ]
  },
  {
   "cell_type": "code",
   "execution_count": 93,
   "id": "1174e7e3-9243-4e9f-a624-5af5f93c151b",
   "metadata": {},
   "outputs": [
    {
     "data": {
      "image/png": "[encoded data removed]",
      "text/plain": [
       "<Figure size 1800x1080 with 10 Axes>"
      ]
     },
     "metadata": {
      "needs_background": "light"
     },
     "output_type": "display_data"
    }
   ],
   "source": [
    "%matplotlib inline\n",
    "nplots = len(u_dist) * 2  # number of subplots\n",
    "palette = itertools.cycle(sns.color_palette(palette=\"muted\"))\n",
    "\n",
    "# define subplots\n",
    "fig = plt.figure(figsize=(25, 15))\n",
    "cols = 1\n",
    "gs = fig.add_gridspec(cols, nplots)\n",
    "\n",
    "y_max = 0\n",
    "# since sharey does not work in this context by adding subplots one by one\n",
    "for dist in u_dist:  # get the maximum y value to set the same scale on subplots\n",
    "    if max(dist) > y_max:\n",
    "        y_max = max(dist)\n",
    "\n",
    "step = 0.001\n",
    "ticks = np.arange(0, y_max + step, step)\n",
    "\n",
    "kde = {\"shade\": True}\n",
    "j = 0\n",
    "for i in range(nplots):\n",
    "    style = \"darkgrid\" if i % 2 == 0 else \"white\"\n",
    "    with sns.axes_style(style):\n",
    "        ax = fig.add_subplot(gs[i])\n",
    "        if i % 2 == 0:\n",
    "            color = next(palette)\n",
    "            sns.stripplot(x=u_dist[j], ax=ax, orient=\"v\", color=color, alpha=0.05)\n",
    "            ax.set_xticklabels([files[j]])  # filename\n",
    "            ax.set_ylim(0, y_max)\n",
    "            ax.set_yticks(ticks)\n",
    "        else:\n",
    "            sns.distplot(\n",
    "                u_dist[j],\n",
    "                ax=ax,\n",
    "                vertical=True,\n",
    "                norm_hist=True,\n",
    "                bins=250,\n",
    "                kde_kws=kde,\n",
    "                color=color,\n",
    "            )\n",
    "            ax.set_ylim(0, y_max)\n",
    "            ax.set_yticks(ticks)\n",
    "            ax.set_xticklabels([])\n",
    "            sns.despine(left=True, bottom=True)\n",
    "            j += 1\n",
    "        if i != 0:\n",
    "            ax.set_yticklabels([])\n",
    "\n",
    "\n",
    "plt.subplots_adjust(wspace=0.05)\n",
    "fig.axes[0].set_ylabel(\"Time (s)\")\n",
    "plt.show()"
   ]
  },
  {
   "cell_type": "code",
   "execution_count": null,
   "id": "b24009ec-edb2-42e1-8d08-06225e8815ac",
   "metadata": {},
   "outputs": [],
   "source": []
  }
 ],
 "metadata": {
  "kernelspec": {
   "display_name": "Python 3",
   "language": "python",
   "name": "python3"
  },
  "language_info": {
   "codemirror_mode": {
    "name": "ipython",
    "version": 3
   },
   "file_extension": ".py",
   "mimetype": "text/x-python",
   "name": "python",
   "nbconvert_exporter": "python",
   "pygments_lexer": "ipython3",
   "version": "3.8.10"
  },
  "widgets": {
   "application/vnd.jupyter.widget-state+json": {
    "state": {
     "0004bc7dad1c4043a993a259f92dfdc0": {
      "model_module": "@jupyter-widgets/controls",
      "model_module_version": "1.5.0",
      "model_name": "DescriptionStyleModel",
      "state": {
       "description_width": ""
      }
     },
     "001caf987acb492da099fe88dfe87e6d": {
      "model_module": "@jupyter-widgets/controls",
      "model_module_version": "1.5.0",
      "model_name": "DescriptionStyleModel",
      "state": {
       "description_width": ""
      }
     },
     "01ae83144e8945d9a810f0eef0271e95": {
      "model_module": "@jupyter-widgets/controls",
      "model_module_version": "1.5.0",
      "model_name": "FloatProgressModel",
      "state": {
       "bar_style": "danger",
       "layout": "IPY_MODEL_fc3945c706674b7b8a2893bfe527fed4",
       "max": 7,
       "style": "IPY_MODEL_6fae3628df6447da8c5a2e735a2964b0",
       "value": 2
      }
     },
     "022d10cbacaa4035951159fb6bc6fcdc": {
      "model_module": "@jupyter-widgets/controls",
      "model_module_version": "1.5.0",
      "model_name": "HTMLModel",
      "state": {
       "layout": "IPY_MODEL_02b0eaf9a48a463cb5743472c89d4967",
       "style": "IPY_MODEL_2987cda8fc7447d7a6d12d45ff789bdb",
       "value": "recordings[ 0]:"
      }
     },
     "02b0eaf9a48a463cb5743472c89d4967": {
      "model_module": "@jupyter-widgets/base",
      "model_module_version": "1.2.0",
      "model_name": "LayoutModel",
      "state": {}
     },
     "033ad3bce5644103a8f74fd9e0ec99a2": {
      "model_module": "@jupyter-widgets/controls",
      "model_module_version": "1.5.0",
      "model_name": "DescriptionStyleModel",
      "state": {
       "description_width": ""
      }
     },
     "0379434592ab4804b7c4e0998e88e180": {
      "model_module": "@jupyter-widgets/controls",
      "model_module_version": "1.5.0",
      "model_name": "DescriptionStyleModel",
      "state": {
       "description_width": ""
      }
     },
     "0384900bcb2748bc8915f09fb1c4e0ef": {
      "model_module": "@jupyter-widgets/base",
      "model_module_version": "1.2.0",
      "model_name": "LayoutModel",
      "state": {}
     },
     "03d90718a46c41b99b238c51b552d114": {
      "model_module": "@jupyter-widgets/base",
      "model_module_version": "1.2.0",
      "model_name": "LayoutModel",
      "state": {}
     },
     "04dccf34e533491d9383746707545e21": {
      "model_module": "@jupyter-widgets/controls",
      "model_module_version": "1.5.0",
      "model_name": "ProgressStyleModel",
      "state": {
       "description_width": ""
      }
     },
     "05b5091ca7234ad3a89448117bed59dc": {
      "model_module": "@jupyter-widgets/base",
      "model_module_version": "1.2.0",
      "model_name": "LayoutModel",
      "state": {
       "flex": "2"
      }
     },
     "0679ce0ee50f42c1bf2e7c5cd39c65fb": {
      "model_module": "@jupyter-widgets/controls",
      "model_module_version": "1.5.0",
      "model_name": "HTMLModel",
      "state": {
       "layout": "IPY_MODEL_f6fbefeaf262482a90ef430b61cc9814",
       "style": "IPY_MODEL_0b83478b229c4acd9952cfe5fab3eeca",
       "value": "  0% 0/1 in 0.30s"
      }
     },
     "06add344d4aa4400b8bfed298774713d": {
      "model_module": "@jupyter-widgets/base",
      "model_module_version": "1.2.0",
      "model_name": "LayoutModel",
      "state": {}
     },
     "06c2c4f8d76d417faa4fe88e9896b4fd": {
      "model_module": "@jupyter-widgets/base",
      "model_module_version": "1.2.0",
      "model_name": "LayoutModel",
      "state": {}
     },
     "06c352fe48f64902a37bd0e4ec2e7cac": {
      "model_module": "@jupyter-widgets/base",
      "model_module_version": "1.2.0",
      "model_name": "LayoutModel",
      "state": {}
     },
     "06ca67803ba2478bae0917414ed5470e": {
      "model_module": "@jupyter-widgets/controls",
      "model_module_version": "1.5.0",
      "model_name": "DescriptionStyleModel",
      "state": {
       "description_width": ""
      }
     },
     "075aa60e028c4936995ccb5f757bfa24": {
      "model_module": "@jupyter-widgets/base",
      "model_module_version": "1.2.0",
      "model_name": "LayoutModel",
      "state": {
       "flex": "2"
      }
     },
     "07ab0cf126df4e468d209bc7fb11d2e9": {
      "model_module": "@jupyter-widgets/controls",
      "model_module_version": "1.5.0",
      "model_name": "FloatProgressModel",
      "state": {
       "bar_style": "danger",
       "layout": "IPY_MODEL_21208e1313d4456b8ba1b483baaf61d0",
       "max": 1,
       "style": "IPY_MODEL_d38c61e806cd47528d852961d7c09db9"
      }
     },
     "07e709e8aacd41388979a195f0fb3484": {
      "model_module": "@jupyter-widgets/controls",
      "model_module_version": "1.5.0",
      "model_name": "FloatProgressModel",
      "state": {
       "bar_style": "success",
       "layout": "IPY_MODEL_fa770321102a468fb349bccbff4388b8",
       "max": 7,
       "style": "IPY_MODEL_153a4c4b99144730a92dfece90d597fa",
       "value": 7
      }
     },
     "085af8ffb4e348f0876802fe8cf1073d": {
      "model_module": "@jupyter-widgets/base",
      "model_module_version": "1.2.0",
      "model_name": "LayoutModel",
      "state": {}
     },
     "08948b622e4640199dbe84bbfe05f45a": {
      "model_module": "@jupyter-widgets/controls",
      "model_module_version": "1.5.0",
      "model_name": "ProgressStyleModel",
      "state": {
       "description_width": ""
      }
     },
     "09dd48ffd43c4517b47ec332889f2f5d": {
      "model_module": "@jupyter-widgets/base",
      "model_module_version": "1.2.0",
      "model_name": "LayoutModel",
      "state": {}
     },
     "0ab1b444460f4895b06aed722a6aa8a1": {
      "model_module": "@jupyter-widgets/controls",
      "model_module_version": "1.5.0",
      "model_name": "ProgressStyleModel",
      "state": {
       "description_width": ""
      }
     },
     "0ad8b9db186c452da340ada745e7f5de": {
      "model_module": "@jupyter-widgets/base",
      "model_module_version": "1.2.0",
      "model_name": "LayoutModel",
      "state": {}
     },
     "0adfebea3da74e83a4f09b14a37e6c14": {
      "model_module": "@jupyter-widgets/controls",
      "model_module_version": "1.5.0",
      "model_name": "ProgressStyleModel",
      "state": {
       "description_width": ""
      }
     },
     "0ae88106efe844f2ad25bacd36b3c1b3": {
      "model_module": "@jupyter-widgets/base",
      "model_module_version": "1.2.0",
      "model_name": "LayoutModel",
      "state": {
       "flex": "2"
      }
     },
     "0b02a802801a460fa5a502c918c7a17e": {
      "model_module": "@jupyter-widgets/controls",
      "model_module_version": "1.5.0",
      "model_name": "DescriptionStyleModel",
      "state": {
       "description_width": ""
      }
     },
     "0b5a0c0b50ed4563b869106ad99de2a1": {
      "model_module": "@jupyter-widgets/base",
      "model_module_version": "1.2.0",
      "model_name": "LayoutModel",
      "state": {}
     },
     "0b76faac8a004bde8696d74a935f195c": {
      "model_module": "@jupyter-widgets/base",
      "model_module_version": "1.2.0",
      "model_name": "LayoutModel",
      "state": {
       "display": "inline-flex",
       "flex_flow": "row wrap",
       "width": "100%"
      }
     },
     "0b772b06512d47f6a2abc14f358ecd3a": {
      "model_module": "@jupyter-widgets/base",
      "model_module_version": "1.2.0",
      "model_name": "LayoutModel",
      "state": {}
     },
     "0b83478b229c4acd9952cfe5fab3eeca": {
      "model_module": "@jupyter-widgets/controls",
      "model_module_version": "1.5.0",
      "model_name": "DescriptionStyleModel",
      "state": {
       "description_width": ""
      }
     },
     "0befa1dadefd48c2819273f3086eee2f": {
      "model_module": "@jupyter-widgets/controls",
      "model_module_version": "1.5.0",
      "model_name": "HTMLModel",
      "state": {
       "layout": "IPY_MODEL_4dd9749c71274743a2037fa5ac0a12f9",
       "style": "IPY_MODEL_8652fd3020734e23a6f82b4b54283637",
       "value": "recordings[ 0]:"
      }
     },
     "0c0c1c9aefed472e864830910330e7ea": {
      "model_module": "@jupyter-widgets/controls",
      "model_module_version": "1.5.0",
      "model_name": "HTMLModel",
      "state": {
       "layout": "IPY_MODEL_b295692f39214f54a3c38b77e032cb2d",
       "style": "IPY_MODEL_3d1360e9d7a745e9b4dc81dd610f8b07",
       "value": " 14% 1/7, step=2. Store selected stream info, file=lsl_try1.xdf in 73.20s"
      }
     },
     "0c2c8607d6224eaaaeaa0c6a587b23f8": {
      "model_module": "@jupyter-widgets/controls",
      "model_module_version": "1.5.0",
      "model_name": "HTMLModel",
      "state": {
       "layout": "IPY_MODEL_06add344d4aa4400b8bfed298774713d",
       "style": "IPY_MODEL_9bd2081c6fb54d9da9d08858ca380fc5",
       "value": "recordings[ 0]:"
      }
     },
     "0c3a11aac8eb49efac72dab2a8081130": {
      "model_module": "@jupyter-widgets/controls",
      "model_module_version": "1.5.0",
      "model_name": "ProgressStyleModel",
      "state": {
       "description_width": ""
      }
     },
     "0cca0240bebe4353bf6115ce1b65bd4b": {
      "model_module": "@jupyter-widgets/controls",
      "model_module_version": "1.5.0",
      "model_name": "ProgressStyleModel",
      "state": {
       "description_width": ""
      }
     },
     "0dd1b88647ee402eafb5d72606d143c8": {
      "model_module": "@jupyter-widgets/controls",
      "model_module_version": "1.5.0",
      "model_name": "DescriptionStyleModel",
      "state": {
       "description_width": ""
      }
     },
     "0f4a6c6fcff84334a696d59ebea2a7be": {
      "model_module": "@jupyter-widgets/controls",
      "model_module_version": "1.5.0",
      "model_name": "HTMLModel",
      "state": {
       "layout": "IPY_MODEL_8096ef9623ad4eb9b9f2ca402f02c41c",
       "style": "IPY_MODEL_0dd1b88647ee402eafb5d72606d143c8",
       "value": "100% 1/1 in 0.34s"
      }
     },
     "0fa2864212074f2da65cfa47e872c574": {
      "model_module": "@jupyter-widgets/base",
      "model_module_version": "1.2.0",
      "model_name": "LayoutModel",
      "state": {}
     },
     "121de6733e014519abe87d5f007935f1": {
      "model_module": "@jupyter-widgets/controls",
      "model_module_version": "1.5.0",
      "model_name": "DescriptionStyleModel",
      "state": {
       "description_width": ""
      }
     },
     "1233dceb4f094beda254db41dc8bf5bd": {
      "model_module": "@jupyter-widgets/controls",
      "model_module_version": "1.5.0",
      "model_name": "HTMLModel",
      "state": {
       "layout": "IPY_MODEL_cba32c923c02438493b526c09a584192",
       "style": "IPY_MODEL_544502bea10f49118d152ea57bb70dce",
       "value": "100% 1/1 in 0.27s"
      }
     },
     "12d0b9e6661d49cba80f9c7683940776": {
      "model_module": "@jupyter-widgets/controls",
      "model_module_version": "1.5.0",
      "model_name": "DescriptionStyleModel",
      "state": {
       "description_width": ""
      }
     },
     "12fc832e99c441e08f29cf12b115e09b": {
      "model_module": "@jupyter-widgets/controls",
      "model_module_version": "1.5.0",
      "model_name": "DescriptionStyleModel",
      "state": {
       "description_width": ""
      }
     },
     "132991c2809c493f828ff08f1a69b546": {
      "model_module": "@jupyter-widgets/base",
      "model_module_version": "1.2.0",
      "model_name": "LayoutModel",
      "state": {}
     },
     "13c115580241487482fc1f977d3738da": {
      "model_module": "@jupyter-widgets/controls",
      "model_module_version": "1.5.0",
      "model_name": "HTMLModel",
      "state": {
       "layout": "IPY_MODEL_1ffd710849a942bd92dcf30b0bfb5f38",
       "style": "IPY_MODEL_001caf987acb492da099fe88dfe87e6d",
       "value": "recordings[ 0]:"
      }
     },
     "1438b193e38640d184d5d2cf3f6412f3": {
      "model_module": "@jupyter-widgets/controls",
      "model_module_version": "1.5.0",
      "model_name": "DescriptionStyleModel",
      "state": {
       "description_width": ""
      }
     },
     "143aeddb3b44448fa38d322cd7cb257b": {
      "model_module": "@jupyter-widgets/controls",
      "model_module_version": "1.5.0",
      "model_name": "DescriptionStyleModel",
      "state": {
       "description_width": ""
      }
     },
     "14a1770d467d4f2c85f8c02d399a47a4": {
      "model_module": "@jupyter-widgets/base",
      "model_module_version": "1.2.0",
      "model_name": "LayoutModel",
      "state": {}
     },
     "14df1934df654f1986d1b7b313c3f241": {
      "model_module": "@jupyter-widgets/controls",
      "model_module_version": "1.5.0",
      "model_name": "HTMLModel",
      "state": {
       "layout": "IPY_MODEL_98bff91aa1c74e5dbe5bf0bd3d0a272e",
       "style": "IPY_MODEL_20f8bf980b1f4a898e6c9e5abca4ace0",
       "value": "Processed:"
      }
     },
     "150bbd0c25b74333ad681802c37cbd72": {
      "model_module": "@jupyter-widgets/base",
      "model_module_version": "1.2.0",
      "model_name": "LayoutModel",
      "state": {}
     },
     "150e38ff290840cbb923f7b264d59408": {
      "model_module": "@jupyter-widgets/controls",
      "model_module_version": "1.5.0",
      "model_name": "DescriptionStyleModel",
      "state": {
       "description_width": ""
      }
     },
     "151d43729b784fcab16334abe9a98703": {
      "model_module": "@jupyter-widgets/controls",
      "model_module_version": "1.5.0",
      "model_name": "DescriptionStyleModel",
      "state": {
       "description_width": ""
      }
     },
     "15291131110a4c66ba7be31068d55722": {
      "model_module": "@jupyter-widgets/controls",
      "model_module_version": "1.5.0",
      "model_name": "DescriptionStyleModel",
      "state": {
       "description_width": ""
      }
     },
     "153a4c4b99144730a92dfece90d597fa": {
      "model_module": "@jupyter-widgets/controls",
      "model_module_version": "1.5.0",
      "model_name": "ProgressStyleModel",
      "state": {
       "description_width": ""
      }
     },
     "15545f53122643ab8ba2222f157c17fe": {
      "model_module": "@jupyter-widgets/controls",
      "model_module_version": "1.5.0",
      "model_name": "HBoxModel",
      "state": {
       "children": [
        "IPY_MODEL_5165563ac60646b8a1d27fb002d9cf1e",
        "IPY_MODEL_217ddc7afda9480fa22666533f38ec65",
        "IPY_MODEL_0f4a6c6fcff84334a696d59ebea2a7be"
       ],
       "layout": "IPY_MODEL_a3a184554444480e99d51ed83abf2caf"
      }
     },
     "1578c4d5d64f4973ba68e043605a4aaf": {
      "model_module": "@jupyter-widgets/controls",
      "model_module_version": "1.5.0",
      "model_name": "HTMLModel",
      "state": {
       "layout": "IPY_MODEL_5d5096d80bf14a1aa3360a87be266ff3",
       "style": "IPY_MODEL_f808037292994708a9dcce4288d27de2",
       "value": "Processed:"
      }
     },
     "1619876132b946b9bd9fd67332722284": {
      "model_module": "@jupyter-widgets/controls",
      "model_module_version": "1.5.0",
      "model_name": "DescriptionStyleModel",
      "state": {
       "description_width": ""
      }
     },
     "173ca6b4f1f543879a55f151379419d6": {
      "model_module": "@jupyter-widgets/controls",
      "model_module_version": "1.5.0",
      "model_name": "ProgressStyleModel",
      "state": {
       "description_width": ""
      }
     },
     "17cbc6dcad1d4057844fbcfb921e9b80": {
      "model_module": "@jupyter-widgets/base",
      "model_module_version": "1.2.0",
      "model_name": "LayoutModel",
      "state": {}
     },
     "18e2299c76434bcb9a1cf1ab26b28494": {
      "model_module": "@jupyter-widgets/controls",
      "model_module_version": "1.5.0",
      "model_name": "HTMLModel",
      "state": {
       "layout": "IPY_MODEL_7450d21c170b4a5a90676089460edca6",
       "style": "IPY_MODEL_f47d9ddc98274439a1ea33af7634ebcb",
       "value": " 86% 6/7, step=7. Select and store EEG values, file=lsl_try1.xdf in 659.46s"
      }
     },
     "1a042748a1e0416587bdb89d4241919a": {
      "model_module": "@jupyter-widgets/controls",
      "model_module_version": "1.5.0",
      "model_name": "DescriptionStyleModel",
      "state": {
       "description_width": ""
      }
     },
     "1a17c553d60d4e9da809d52e598e0afd": {
      "model_module": "@jupyter-widgets/controls",
      "model_module_version": "1.5.0",
      "model_name": "ProgressStyleModel",
      "state": {
       "description_width": ""
      }
     },
     "1a2d0d32b3d84267b3c9d8421d301771": {
      "model_module": "@jupyter-widgets/base",
      "model_module_version": "1.2.0",
      "model_name": "LayoutModel",
      "state": {}
     },
     "1afbdc86d050463d8f06d28a8a865f1e": {
      "model_module": "@jupyter-widgets/controls",
      "model_module_version": "1.5.0",
      "model_name": "ProgressStyleModel",
      "state": {
       "description_width": ""
      }
     },
     "1afc79e2003741cbae36b1efa34b8164": {
      "model_module": "@jupyter-widgets/controls",
      "model_module_version": "1.5.0",
      "model_name": "DescriptionStyleModel",
      "state": {
       "description_width": ""
      }
     },
     "1b593ebf95e54d0dae13241706d4292b": {
      "model_module": "@jupyter-widgets/controls",
      "model_module_version": "1.5.0",
      "model_name": "HTMLModel",
      "state": {
       "layout": "IPY_MODEL_f07987d665404146986194d3787660cb",
       "style": "IPY_MODEL_6ad6cdf0695649918ea03c83a84776a0",
       "value": "100% 1/1 in 0.28s"
      }
     },
     "1bd30508cd1644b980e07dfa9397b380": {
      "model_module": "@jupyter-widgets/base",
      "model_module_version": "1.2.0",
      "model_name": "LayoutModel",
      "state": {}
     },
     "1c410df595eb4799b625d1f3f21768a9": {
      "model_module": "@jupyter-widgets/base",
      "model_module_version": "1.2.0",
      "model_name": "LayoutModel",
      "state": {}
     },
     "1c9e276118744397a3966a95abc1484d": {
      "model_module": "@jupyter-widgets/controls",
      "model_module_version": "1.5.0",
      "model_name": "HTMLModel",
      "state": {
       "layout": "IPY_MODEL_439cf675d721430ba714debf8802984f",
       "style": "IPY_MODEL_346afdacb5884dabbe5d0550cf758640",
       "value": "recordings[ 0]:"
      }
     },
     "1cce4a468af5491298604753b2b94d70": {
      "model_module": "@jupyter-widgets/controls",
      "model_module_version": "1.5.0",
      "model_name": "HTMLModel",
      "state": {
       "layout": "IPY_MODEL_8cb7ab5ff2774b93b57d9e0d350aa8c6",
       "style": "IPY_MODEL_436034f6b93740f394db527d5f378908",
       "value": "Processed:"
      }
     },
     "1d0683ab70524428989ee51a30cd9765": {
      "model_module": "@jupyter-widgets/controls",
      "model_module_version": "1.5.0",
      "model_name": "DescriptionStyleModel",
      "state": {
       "description_width": ""
      }
     },
     "1e7e009edec94c8c83683a54c5d20355": {
      "model_module": "@jupyter-widgets/controls",
      "model_module_version": "1.5.0",
      "model_name": "DescriptionStyleModel",
      "state": {
       "description_width": ""
      }
     },
     "1ebd19e7808c4921a1c982b8b88a8a0f": {
      "model_module": "@jupyter-widgets/base",
      "model_module_version": "1.2.0",
      "model_name": "LayoutModel",
      "state": {}
     },
     "1f4c8a0cd0834e90b7fc44c4b01f38af": {
      "model_module": "@jupyter-widgets/base",
      "model_module_version": "1.2.0",
      "model_name": "LayoutModel",
      "state": {
       "display": "inline-flex",
       "flex_flow": "row wrap",
       "width": "100%"
      }
     },
     "1f7b9254d230420fa99a6043d0d43a79": {
      "model_module": "@jupyter-widgets/controls",
      "model_module_version": "1.5.0",
      "model_name": "HTMLModel",
      "state": {
       "layout": "IPY_MODEL_e656bcc8771a4db2a9585d1b5ed82490",
       "style": "IPY_MODEL_3ff68883e4c94a619dcec1d0f0f35d1f",
       "value": "Processed:"
      }
     },
     "1fceb634f0a14571b7d42d86fac956dd": {
      "model_module": "@jupyter-widgets/controls",
      "model_module_version": "1.5.0",
      "model_name": "HTMLModel",
      "state": {
       "layout": "IPY_MODEL_c16cd06833eb445fa20fd57c673b186a",
       "style": "IPY_MODEL_54dbdbee05b74f58999840e3391f9f79",
       "value": "100% 7/7, file=lsl_try1.xdf in 0.32s"
      }
     },
     "1fec8f13c47f4fa98478480d581e4805": {
      "model_module": "@jupyter-widgets/base",
      "model_module_version": "1.2.0",
      "model_name": "LayoutModel",
      "state": {}
     },
     "1ffd710849a942bd92dcf30b0bfb5f38": {
      "model_module": "@jupyter-widgets/base",
      "model_module_version": "1.2.0",
      "model_name": "LayoutModel",
      "state": {}
     },
     "2007a428536e4386b57188c993a6c141": {
      "model_module": "@jupyter-widgets/controls",
      "model_module_version": "1.5.0",
      "model_name": "FloatProgressModel",
      "state": {
       "bar_style": "success",
       "layout": "IPY_MODEL_4d84c71c85934129b19eda374aaa8f16",
       "max": 1,
       "style": "IPY_MODEL_7f34c79792a6469f81a2f7b3d18f9719",
       "value": 1
      }
     },
     "2058eea519964895a1dfffbd46fd715d": {
      "model_module": "@jupyter-widgets/base",
      "model_module_version": "1.2.0",
      "model_name": "LayoutModel",
      "state": {
       "display": "inline-flex",
       "flex_flow": "row wrap",
       "width": "100%"
      }
     },
     "208a35c2a8784165a2b1d72c353a7c76": {
      "model_module": "@jupyter-widgets/base",
      "model_module_version": "1.2.0",
      "model_name": "LayoutModel",
      "state": {}
     },
     "20b02b69b8ee4ebf93f62841b4d4c101": {
      "model_module": "@jupyter-widgets/controls",
      "model_module_version": "1.5.0",
      "model_name": "FloatProgressModel",
      "state": {
       "bar_style": "danger",
       "layout": "IPY_MODEL_525d0612bf474612992d0989571d0b8e",
       "max": 7,
       "style": "IPY_MODEL_f3aa6324199d43b0822be0404918d532",
       "value": 1
      }
     },
     "20f8bf980b1f4a898e6c9e5abca4ace0": {
      "model_module": "@jupyter-widgets/controls",
      "model_module_version": "1.5.0",
      "model_name": "DescriptionStyleModel",
      "state": {
       "description_width": ""
      }
     },
     "21208e1313d4456b8ba1b483baaf61d0": {
      "model_module": "@jupyter-widgets/base",
      "model_module_version": "1.2.0",
      "model_name": "LayoutModel",
      "state": {
       "flex": "2"
      }
     },
     "217ddc7afda9480fa22666533f38ec65": {
      "model_module": "@jupyter-widgets/controls",
      "model_module_version": "1.5.0",
      "model_name": "FloatProgressModel",
      "state": {
       "bar_style": "success",
       "layout": "IPY_MODEL_ad4384a72da447d8b2a75aac75a07118",
       "max": 1,
       "style": "IPY_MODEL_44ebc9030d7e4542b0a66243a64692af",
       "value": 1
      }
     },
     "21b7b6f52f694c51876ec433101d979d": {
      "model_module": "@jupyter-widgets/base",
      "model_module_version": "1.2.0",
      "model_name": "LayoutModel",
      "state": {}
     },
     "2276bda1bec841ec879d3073c8db3e74": {
      "model_module": "@jupyter-widgets/controls",
      "model_module_version": "1.5.0",
      "model_name": "FloatProgressModel",
      "state": {
       "bar_style": "danger",
       "layout": "IPY_MODEL_208a35c2a8784165a2b1d72c353a7c76",
       "max": 7,
       "style": "IPY_MODEL_edfd042017c5458284d2c68e486c07ed",
       "value": 1
      }
     },
     "23ae5b1fd9a248ffa5505bbebb0cefb5": {
      "model_module": "@jupyter-widgets/base",
      "model_module_version": "1.2.0",
      "model_name": "LayoutModel",
      "state": {
       "flex": "2"
      }
     },
     "23b432ef569149ce895aa493505989e7": {
      "model_module": "@jupyter-widgets/base",
      "model_module_version": "1.2.0",
      "model_name": "LayoutModel",
      "state": {
       "flex": "2"
      }
     },
     "2485a4aa4e844d8faf1f0ed46124d16c": {
      "model_module": "@jupyter-widgets/controls",
      "model_module_version": "1.5.0",
      "model_name": "FloatProgressModel",
      "state": {
       "bar_style": "success",
       "layout": "IPY_MODEL_e04e2f86402d43a6b795454193746d1b",
       "max": 1,
       "style": "IPY_MODEL_a5b390f4d133492185289f04749910b4",
       "value": 1
      }
     },
     "24c6959e2e05433fa377add388ebfcd0": {
      "model_module": "@jupyter-widgets/controls",
      "model_module_version": "1.5.0",
      "model_name": "FloatProgressModel",
      "state": {
       "bar_style": "danger",
       "layout": "IPY_MODEL_cf6770b5d38b47de9f19ddbc20c8ba0b",
       "max": 1,
       "style": "IPY_MODEL_9d253d7d3f224e7b96d9e37338001381"
      }
     },
     "24d9a5f6b7b0423f98994f41a3b68863": {
      "model_module": "@jupyter-widgets/base",
      "model_module_version": "1.2.0",
      "model_name": "LayoutModel",
      "state": {}
     },
     "255deab98e8449559d9ed4326b524c06": {
      "model_module": "@jupyter-widgets/controls",
      "model_module_version": "1.5.0",
      "model_name": "DescriptionStyleModel",
      "state": {
       "description_width": ""
      }
     },
     "262aad6734d348b48479aada8f45a41d": {
      "model_module": "@jupyter-widgets/controls",
      "model_module_version": "1.5.0",
      "model_name": "HTMLModel",
      "state": {
       "layout": "IPY_MODEL_f502544a74c349179b554206e362d962",
       "style": "IPY_MODEL_3b2eba6728b54819824da1155bf148e1",
       "value": "recordings[ 1]:"
      }
     },
     "2664ac99f4a44bffb09cfff9a5c28a08": {
      "model_module": "@jupyter-widgets/base",
      "model_module_version": "1.2.0",
      "model_name": "LayoutModel",
      "state": {}
     },
     "26a3c28d51e343f7865bd193969206ba": {
      "model_module": "@jupyter-widgets/controls",
      "model_module_version": "1.5.0",
      "model_name": "DescriptionStyleModel",
      "state": {
       "description_width": ""
      }
     },
     "27033c0b7c0546a5ab378fded3fcfbba": {
      "model_module": "@jupyter-widgets/base",
      "model_module_version": "1.2.0",
      "model_name": "LayoutModel",
      "state": {}
     },
     "27487479b65b47e4a937d224cbab7cb8": {
      "model_module": "@jupyter-widgets/controls",
      "model_module_version": "1.5.0",
      "model_name": "ProgressStyleModel",
      "state": {
       "description_width": ""
      }
     },
     "278274b7b76946e1af4da83e113351e2": {
      "model_module": "@jupyter-widgets/base",
      "model_module_version": "1.2.0",
      "model_name": "LayoutModel",
      "state": {}
     },
     "27da9a2e45a14bc694f1b16d720f4986": {
      "model_module": "@jupyter-widgets/controls",
      "model_module_version": "1.5.0",
      "model_name": "HBoxModel",
      "state": {
       "children": [
        "IPY_MODEL_764a12079f1149dc91af6ff9cb1e5020",
        "IPY_MODEL_e804fcbc2a514d2281fba38b251ed985",
        "IPY_MODEL_bb110f1c22f74e40ac585151fe72f6f6"
       ],
       "layout": "IPY_MODEL_66d85665416342ddba5acb9751f1c230"
      }
     },
     "27eb003f04c24b1e8b9d799de612c7a3": {
      "model_module": "@jupyter-widgets/base",
      "model_module_version": "1.2.0",
      "model_name": "LayoutModel",
      "state": {}
     },
     "287441bed9f4435ebeafe7f62adf34cb": {
      "model_module": "@jupyter-widgets/controls",
      "model_module_version": "1.5.0",
      "model_name": "DescriptionStyleModel",
      "state": {
       "description_width": ""
      }
     },
     "28a6eb4c494f4e00b64b7953fb5bbb62": {
      "model_module": "@jupyter-widgets/controls",
      "model_module_version": "1.5.0",
      "model_name": "ProgressStyleModel",
      "state": {
       "description_width": ""
      }
     },
     "291453b682584c77843df1d47404e673": {
      "model_module": "@jupyter-widgets/controls",
      "model_module_version": "1.5.0",
      "model_name": "HBoxModel",
      "state": {
       "children": [
        "IPY_MODEL_9031cbf87e7a4035977afc06ce86019a",
        "IPY_MODEL_2da1496abfb74be597070140bd550a72",
        "IPY_MODEL_a9f8f19b0ba54723952865e22ce622eb"
       ],
       "layout": "IPY_MODEL_d8e39f4f6f874010928ebf1478895a27"
      }
     },
     "2987cda8fc7447d7a6d12d45ff789bdb": {
      "model_module": "@jupyter-widgets/controls",
      "model_module_version": "1.5.0",
      "model_name": "DescriptionStyleModel",
      "state": {
       "description_width": ""
      }
     },
     "2b0edb34f10640b5923b699b9241509c": {
      "model_module": "@jupyter-widgets/base",
      "model_module_version": "1.2.0",
      "model_name": "LayoutModel",
      "state": {}
     },
     "2b375892ffcc466cbfbfab4c4d2dcc04": {
      "model_module": "@jupyter-widgets/base",
      "model_module_version": "1.2.0",
      "model_name": "LayoutModel",
      "state": {}
     },
     "2b4e08ce116e496eb406e56298b7534f": {
      "model_module": "@jupyter-widgets/controls",
      "model_module_version": "1.5.0",
      "model_name": "DescriptionStyleModel",
      "state": {
       "description_width": ""
      }
     },
     "2b6a9946c8d14260833734a77eda33fb": {
      "model_module": "@jupyter-widgets/base",
      "model_module_version": "1.2.0",
      "model_name": "LayoutModel",
      "state": {}
     },
     "2bb0361408eb41ceacf981ff5d24d8dd": {
      "model_module": "@jupyter-widgets/controls",
      "model_module_version": "1.5.0",
      "model_name": "HBoxModel",
      "state": {
       "children": [
        "IPY_MODEL_b79e7cdb411e4984b58d060155448cb7",
        "IPY_MODEL_2276bda1bec841ec879d3073c8db3e74",
        "IPY_MODEL_813b2f6df2274702947bd06c67755317"
       ],
       "layout": "IPY_MODEL_35c6a53878d8429b8c1b4f3955dc76a3"
      }
     },
     "2c315f531e4c4f57afee5a7883c7268b": {
      "model_module": "@jupyter-widgets/controls",
      "model_module_version": "1.5.0",
      "model_name": "FloatProgressModel",
      "state": {
       "bar_style": "danger",
       "layout": "IPY_MODEL_90c56c35af9644b2a194fb3bcb87a5ea",
       "max": 7,
       "style": "IPY_MODEL_860b1d0fea4042fbacc61418713e339d",
       "value": 6
      }
     },
     "2c5c0b6ad44d4d039106418fc8f27fc5": {
      "model_module": "@jupyter-widgets/base",
      "model_module_version": "1.2.0",
      "model_name": "LayoutModel",
      "state": {
       "display": "inline-flex",
       "flex_flow": "row wrap",
       "width": "100%"
      }
     },
     "2cc57985dfba4595a1e2b48fa52f98c6": {
      "model_module": "@jupyter-widgets/controls",
      "model_module_version": "1.5.0",
      "model_name": "HTMLModel",
      "state": {
       "layout": "IPY_MODEL_40712df7856c485d860fb540af85b569",
       "style": "IPY_MODEL_e8a369fa16c948969f3334e2bd942f7f",
       "value": "100% 1/1 in 0.27s"
      }
     },
     "2da1496abfb74be597070140bd550a72": {
      "model_module": "@jupyter-widgets/controls",
      "model_module_version": "1.5.0",
      "model_name": "FloatProgressModel",
      "state": {
       "bar_style": "success",
       "layout": "IPY_MODEL_c619ca7d049b4d0dbe2d3acb16182ae6",
       "max": 7,
       "style": "IPY_MODEL_6d3aa3bd98e84e58b0c056f40fe6a830",
       "value": 7
      }
     },
     "2df4bacafffc49ee85ee0bb8d58f0d59": {
      "model_module": "@jupyter-widgets/base",
      "model_module_version": "1.2.0",
      "model_name": "LayoutModel",
      "state": {}
     },
     "2e547dcbee9a4018a2ec9e832f41d5b3": {
      "model_module": "@jupyter-widgets/base",
      "model_module_version": "1.2.0",
      "model_name": "LayoutModel",
      "state": {}
     },
     "2e73edce575d4132b4c9216a6a3f0c50": {
      "model_module": "@jupyter-widgets/controls",
      "model_module_version": "1.5.0",
      "model_name": "DescriptionStyleModel",
      "state": {
       "description_width": ""
      }
     },
     "2f0be6599dfc4d8296d1a1cf1b31bc69": {
      "model_module": "@jupyter-widgets/controls",
      "model_module_version": "1.5.0",
      "model_name": "DescriptionStyleModel",
      "state": {
       "description_width": ""
      }
     },
     "2f2ccac64de541ba94e97983c110b18d": {
      "model_module": "@jupyter-widgets/controls",
      "model_module_version": "1.5.0",
      "model_name": "FloatProgressModel",
      "state": {
       "bar_style": "success",
       "layout": "IPY_MODEL_ad0f513aeb1b4d7580854d8a61ac0943",
       "max": 3,
       "style": "IPY_MODEL_896627c5993c4adab33ec7dfe5e475a8",
       "value": 3
      }
     },
     "2f323a642bb94273b5e89b6fd1f33e0a": {
      "model_module": "@jupyter-widgets/controls",
      "model_module_version": "1.5.0",
      "model_name": "HBoxModel",
      "state": {
       "children": [
        "IPY_MODEL_8c9728ddd709413aaa90f7563fbd9b7a",
        "IPY_MODEL_20b02b69b8ee4ebf93f62841b4d4c101",
        "IPY_MODEL_721ab6f51fa342979c878bef4ac67d1e"
       ],
       "layout": "IPY_MODEL_e8ef31f68703430fa41b533dd20d0496"
      }
     },
     "2f46d20ae493463283bd86576106c7b4": {
      "model_module": "@jupyter-widgets/controls",
      "model_module_version": "1.5.0",
      "model_name": "ProgressStyleModel",
      "state": {
       "description_width": ""
      }
     },
     "2f8beb6c6215439c9c8191c5d3cb0428": {
      "model_module": "@jupyter-widgets/controls",
      "model_module_version": "1.5.0",
      "model_name": "HTMLModel",
      "state": {
       "layout": "IPY_MODEL_ced5ad6d041d4e26a001fb2b2bd96c1f",
       "style": "IPY_MODEL_32c7e247b1cf420ab4b922e445944055",
       "value": "100% 7/7, file=lsl_try2.xdf in 1.06s"
      }
     },
     "2feb5310ac354bacab36b6c2f3f727ec": {
      "model_module": "@jupyter-widgets/controls",
      "model_module_version": "1.5.0",
      "model_name": "HTMLModel",
      "state": {
       "layout": "IPY_MODEL_904182d9e5574889a93b41fdacddd354",
       "style": "IPY_MODEL_dc7a66e18f724e268d971605f10b7f41",
       "value": " 29% 2/7, step=2. Store selected stream info, file=lsl_try1.xdf in 46.53s"
      }
     },
     "2fedfdfbfd7343f3b489235dffcb0eca": {
      "model_module": "@jupyter-widgets/controls",
      "model_module_version": "1.5.0",
      "model_name": "DescriptionStyleModel",
      "state": {
       "description_width": ""
      }
     },
     "2ff17eeeacb144edbe4ac0ba1ab77ed7": {
      "model_module": "@jupyter-widgets/base",
      "model_module_version": "1.2.0",
      "model_name": "LayoutModel",
      "state": {}
     },
     "301e1be4728d48e3b62a5cea08299771": {
      "model_module": "@jupyter-widgets/base",
      "model_module_version": "1.2.0",
      "model_name": "LayoutModel",
      "state": {}
     },
     "304754b38ed24a3bb1362b1742140414": {
      "model_module": "@jupyter-widgets/base",
      "model_module_version": "1.2.0",
      "model_name": "LayoutModel",
      "state": {
       "display": "inline-flex",
       "flex_flow": "row wrap",
       "width": "100%"
      }
     },
     "3069ecf4bc504b66ade58730477744af": {
      "model_module": "@jupyter-widgets/controls",
      "model_module_version": "1.5.0",
      "model_name": "HTMLModel",
      "state": {
       "layout": "IPY_MODEL_4bcccc4d1779443d8762fa0892099b70",
       "style": "IPY_MODEL_7547213a5a864c14a2c2fe6692c95fb9",
       "value": "100% 1/1 in 0.27s"
      }
     },
     "30a3e9fb303d4a8187924b924a5ba14b": {
      "model_module": "@jupyter-widgets/controls",
      "model_module_version": "1.5.0",
      "model_name": "ProgressStyleModel",
      "state": {
       "description_width": ""
      }
     },
     "31ab1bcda14947ee81696c9c50ddc2d2": {
      "model_module": "@jupyter-widgets/controls",
      "model_module_version": "1.5.0",
      "model_name": "ProgressStyleModel",
      "state": {
       "description_width": ""
      }
     },
     "320fcf0c10d04aa998b3653cb2f8701a": {
      "model_module": "@jupyter-widgets/controls",
      "model_module_version": "1.5.0",
      "model_name": "HTMLModel",
      "state": {
       "layout": "IPY_MODEL_73d2c84344d045889e1dc0a54d1f7960",
       "style": "IPY_MODEL_8bec103579d149a48cb85ddb605cf82f",
       "value": "100% 1/1 in 0.27s"
      }
     },
     "325290384fce4b7e9f4a5732e62a730a": {
      "model_module": "@jupyter-widgets/controls",
      "model_module_version": "1.5.0",
      "model_name": "ProgressStyleModel",
      "state": {
       "description_width": ""
      }
     },
     "32561874ddbe41a4924d5ddf27359fe6": {
      "model_module": "@jupyter-widgets/base",
      "model_module_version": "1.2.0",
      "model_name": "LayoutModel",
      "state": {
       "flex": "2"
      }
     },
     "3292e31a29bc4404bcc86891508f3c60": {
      "model_module": "@jupyter-widgets/base",
      "model_module_version": "1.2.0",
      "model_name": "LayoutModel",
      "state": {
       "flex": "2"
      }
     },
     "329652c47fd94facbad76ce37e3fdcc3": {
      "model_module": "@jupyter-widgets/controls",
      "model_module_version": "1.5.0",
      "model_name": "FloatProgressModel",
      "state": {
       "bar_style": "danger",
       "layout": "IPY_MODEL_17cbc6dcad1d4057844fbcfb921e9b80",
       "max": 7,
       "style": "IPY_MODEL_b50fcbce80a54b96868646f1dcd6931f",
       "value": 1
      }
     },
     "32ba9bc7b7314c70a05aa1dee680785c": {
      "model_module": "@jupyter-widgets/controls",
      "model_module_version": "1.5.0",
      "model_name": "HBoxModel",
      "state": {
       "children": [
        "IPY_MODEL_4f0f993ea9b34a5d9ff674b3d516fe40",
        "IPY_MODEL_a281a99a837844aebe6daa3dfb30df59",
        "IPY_MODEL_8729d03e95d649abb11b1752fdbf24e3"
       ],
       "layout": "IPY_MODEL_ae74f5a293f3470abd5c148b565a54c6"
      }
     },
     "32c7e247b1cf420ab4b922e445944055": {
      "model_module": "@jupyter-widgets/controls",
      "model_module_version": "1.5.0",
      "model_name": "DescriptionStyleModel",
      "state": {
       "description_width": ""
      }
     },
     "33e33e44f3a3446d8c28b4d7c5639737": {
      "model_module": "@jupyter-widgets/controls",
      "model_module_version": "1.5.0",
      "model_name": "FloatProgressModel",
      "state": {
       "bar_style": "success",
       "layout": "IPY_MODEL_860732f386bd4b3d846a94f8a669d069",
       "max": 1,
       "style": "IPY_MODEL_55b3c395e94744beacb764432a7f3ee0",
       "value": 1
      }
     },
     "346afdacb5884dabbe5d0550cf758640": {
      "model_module": "@jupyter-widgets/controls",
      "model_module_version": "1.5.0",
      "model_name": "DescriptionStyleModel",
      "state": {
       "description_width": ""
      }
     },
     "34c96b26bb5b4629ab918cb5ed790dd6": {
      "model_module": "@jupyter-widgets/controls",
      "model_module_version": "1.5.0",
      "model_name": "HBoxModel",
      "state": {
       "children": [
        "IPY_MODEL_f1e9765791684c309f942f67fa7c7ab3",
        "IPY_MODEL_a72abf1b7ccf42b199fac607f1346837",
        "IPY_MODEL_e7db2ce281c74bed9296fc6ad60609f9"
       ],
       "layout": "IPY_MODEL_150bbd0c25b74333ad681802c37cbd72"
      }
     },
     "34dc9886c58645b68f81462c95daebc9": {
      "model_module": "@jupyter-widgets/controls",
      "model_module_version": "1.5.0",
      "model_name": "FloatProgressModel",
      "state": {
       "bar_style": "success",
       "layout": "IPY_MODEL_2664ac99f4a44bffb09cfff9a5c28a08",
       "max": 7,
       "style": "IPY_MODEL_e43c5d6c48e44f99b3d0bbd14e7aee64",
       "value": 7
      }
     },
     "350dfa8be02c43a8873e61978dbd01f5": {
      "model_module": "@jupyter-widgets/controls",
      "model_module_version": "1.5.0",
      "model_name": "HTMLModel",
      "state": {
       "layout": "IPY_MODEL_27033c0b7c0546a5ab378fded3fcfbba",
       "style": "IPY_MODEL_f29563a393b64dc092a697d11eac4205",
       "value": "  0% 0/1 in 0.27s"
      }
     },
     "357047168f0c4fe5b93f3ca3ed593dcc": {
      "model_module": "@jupyter-widgets/controls",
      "model_module_version": "1.5.0",
      "model_name": "HTMLModel",
      "state": {
       "layout": "IPY_MODEL_b4c343978c7942e49e2c2ac07ef4b68b",
       "style": "IPY_MODEL_db57a4521538466da4f458535210692e",
       "value": "  0% 0/1 in 0.30s"
      }
     },
     "35c6a53878d8429b8c1b4f3955dc76a3": {
      "model_module": "@jupyter-widgets/base",
      "model_module_version": "1.2.0",
      "model_name": "LayoutModel",
      "state": {}
     },
     "35c9920ca4614bc1b94439f990d88fc1": {
      "model_module": "@jupyter-widgets/base",
      "model_module_version": "1.2.0",
      "model_name": "LayoutModel",
      "state": {
       "flex": "2"
      }
     },
     "3618bae4915d4dfba94be29bb73cfe19": {
      "model_module": "@jupyter-widgets/controls",
      "model_module_version": "1.5.0",
      "model_name": "FloatProgressModel",
      "state": {
       "bar_style": "success",
       "layout": "IPY_MODEL_a30dc72396e14007b42b341d456ed468",
       "max": 7,
       "style": "IPY_MODEL_1a17c553d60d4e9da809d52e598e0afd",
       "value": 7
      }
     },
     "3625ae3bd0824e8293bcca945c1dc48e": {
      "model_module": "@jupyter-widgets/controls",
      "model_module_version": "1.5.0",
      "model_name": "DescriptionStyleModel",
      "state": {
       "description_width": ""
      }
     },
     "363f558b7d944935a32ac0cc232cef88": {
      "model_module": "@jupyter-widgets/base",
      "model_module_version": "1.2.0",
      "model_name": "LayoutModel",
      "state": {}
     },
     "365e128ce10d4f9984d5a76de4deb6bd": {
      "model_module": "@jupyter-widgets/base",
      "model_module_version": "1.2.0",
      "model_name": "LayoutModel",
      "state": {}
     },
     "366c25535c544763be86d62bacc04340": {
      "model_module": "@jupyter-widgets/base",
      "model_module_version": "1.2.0",
      "model_name": "LayoutModel",
      "state": {}
     },
     "3677c53a1c5942b4afbfcb0de977c2fd": {
      "model_module": "@jupyter-widgets/base",
      "model_module_version": "1.2.0",
      "model_name": "LayoutModel",
      "state": {}
     },
     "368bfa2881f846b8bf3c6e00046af406": {
      "model_module": "@jupyter-widgets/base",
      "model_module_version": "1.2.0",
      "model_name": "LayoutModel",
      "state": {}
     },
     "36b8db384bf241c6867ae6f3212c6654": {
      "model_module": "@jupyter-widgets/base",
      "model_module_version": "1.2.0",
      "model_name": "LayoutModel",
      "state": {}
     },
     "36ef6d85a99e4391a8e698971846f304": {
      "model_module": "@jupyter-widgets/controls",
      "model_module_version": "1.5.0",
      "model_name": "HBoxModel",
      "state": {
       "children": [
        "IPY_MODEL_806703bb76db4961811d4e71c22799c5",
        "IPY_MODEL_24c6959e2e05433fa377add388ebfcd0",
        "IPY_MODEL_7a998d16682141afb6795ca38a732b6b"
       ],
       "layout": "IPY_MODEL_868c88e2f6e64187a16fb1c86951a526"
      }
     },
     "381802562af44d6aaf66ad2afe562d05": {
      "model_module": "@jupyter-widgets/base",
      "model_module_version": "1.2.0",
      "model_name": "LayoutModel",
      "state": {}
     },
     "3824c1553b024450b30f91dd5bbab4de": {
      "model_module": "@jupyter-widgets/controls",
      "model_module_version": "1.5.0",
      "model_name": "HTMLModel",
      "state": {
       "layout": "IPY_MODEL_fb8e04b1fead421fac88b19a9c69159b",
       "style": "IPY_MODEL_12fc832e99c441e08f29cf12b115e09b",
       "value": "Processed:"
      }
     },
     "382f27fe7fb446d899e4e091291af12f": {
      "model_module": "@jupyter-widgets/controls",
      "model_module_version": "1.5.0",
      "model_name": "FloatProgressModel",
      "state": {
       "bar_style": "success",
       "layout": "IPY_MODEL_32561874ddbe41a4924d5ddf27359fe6",
       "max": 1,
       "style": "IPY_MODEL_6a81a16f05544eb69ac1e40251c5221a",
       "value": 1
      }
     },
     "38ab15cdc4b946f1bda3d47127f502ae": {
      "model_module": "@jupyter-widgets/base",
      "model_module_version": "1.2.0",
      "model_name": "LayoutModel",
      "state": {}
     },
     "38e0dd29fb154907b8f01b402351da15": {
      "model_module": "@jupyter-widgets/base",
      "model_module_version": "1.2.0",
      "model_name": "LayoutModel",
      "state": {}
     },
     "390446bc75ca42e680d842fbb47d156c": {
      "model_module": "@jupyter-widgets/controls",
      "model_module_version": "1.5.0",
      "model_name": "DescriptionStyleModel",
      "state": {
       "description_width": ""
      }
     },
     "3a05b8f4a9af40f0b92727a90afa98aa": {
      "model_module": "@jupyter-widgets/controls",
      "model_module_version": "1.5.0",
      "model_name": "ProgressStyleModel",
      "state": {
       "description_width": ""
      }
     },
     "3aec6555e6c74ad9a9b02cd166342047": {
      "model_module": "@jupyter-widgets/controls",
      "model_module_version": "1.5.0",
      "model_name": "ProgressStyleModel",
      "state": {
       "description_width": ""
      }
     },
     "3b2eba6728b54819824da1155bf148e1": {
      "model_module": "@jupyter-widgets/controls",
      "model_module_version": "1.5.0",
      "model_name": "DescriptionStyleModel",
      "state": {
       "description_width": ""
      }
     },
     "3b6dde2a0a18467eb449a2f7339debe4": {
      "model_module": "@jupyter-widgets/base",
      "model_module_version": "1.2.0",
      "model_name": "LayoutModel",
      "state": {}
     },
     "3b962796813e4a07a5b11cab24d70c94": {
      "model_module": "@jupyter-widgets/controls",
      "model_module_version": "1.5.0",
      "model_name": "HBoxModel",
      "state": {
       "children": [
        "IPY_MODEL_bfb34af58b974a6299cab44c88f84de8",
        "IPY_MODEL_f6b266c925054424bc7f0c5c8308cc79",
        "IPY_MODEL_d9f1f3552ba3471ea54fe7dc48855a69"
       ],
       "layout": "IPY_MODEL_8fa03c00193047578e62dc8c5ccacd24"
      }
     },
     "3bdf919624254400af9d712a1bcc78b2": {
      "model_module": "@jupyter-widgets/base",
      "model_module_version": "1.2.0",
      "model_name": "LayoutModel",
      "state": {}
     },
     "3bfab1db14724fcba202e8c5c31055f1": {
      "model_module": "@jupyter-widgets/controls",
      "model_module_version": "1.5.0",
      "model_name": "HTMLModel",
      "state": {
       "layout": "IPY_MODEL_e0e276bb07b344d392890de717ba2f56",
       "style": "IPY_MODEL_5bfcacd477c141ab81dca99222c39775",
       "value": "recordings[ 0]:"
      }
     },
     "3c2aca6a7f774ef28a2ee8de4e664c90": {
      "model_module": "@jupyter-widgets/controls",
      "model_module_version": "1.5.0",
      "model_name": "FloatProgressModel",
      "state": {
       "bar_style": "success",
       "layout": "IPY_MODEL_23b432ef569149ce895aa493505989e7",
       "max": 1,
       "style": "IPY_MODEL_6cfa33dfcdeb4626a932c67484062855",
       "value": 1
      }
     },
     "3c46511c860043fb8cb10f60e568fcb8": {
      "model_module": "@jupyter-widgets/base",
      "model_module_version": "1.2.0",
      "model_name": "LayoutModel",
      "state": {
       "flex": "2"
      }
     },
     "3c5cd1970df6474aaf600952811aac8f": {
      "model_module": "@jupyter-widgets/controls",
      "model_module_version": "1.5.0",
      "model_name": "HTMLModel",
      "state": {
       "layout": "IPY_MODEL_9e59a0462f0f4c2cbabe659259e0fe02",
       "style": "IPY_MODEL_3625ae3bd0824e8293bcca945c1dc48e",
       "value": "100% 3/3 in 2.02s"
      }
     },
     "3c75c60a9db3491ab5823a95dbe02950": {
      "model_module": "@jupyter-widgets/controls",
      "model_module_version": "1.5.0",
      "model_name": "DescriptionStyleModel",
      "state": {
       "description_width": ""
      }
     },
     "3c9af7347b054a2b8ef9391185c57e55": {
      "model_module": "@jupyter-widgets/controls",
      "model_module_version": "1.5.0",
      "model_name": "FloatProgressModel",
      "state": {
       "bar_style": "success",
       "layout": "IPY_MODEL_8206a151811d4f4cb0b8afa32833add4",
       "max": 1,
       "style": "IPY_MODEL_41439f22da634f8ea90ecdcc4c3d9225",
       "value": 1
      }
     },
     "3c9bfe637167403eb29b2c9a17bc2d52": {
      "model_module": "@jupyter-widgets/controls",
      "model_module_version": "1.5.0",
      "model_name": "DescriptionStyleModel",
      "state": {
       "description_width": ""
      }
     },
     "3ca968e0135e4e1c9059b5d58b6313cd": {
      "model_module": "@jupyter-widgets/base",
      "model_module_version": "1.2.0",
      "model_name": "LayoutModel",
      "state": {}
     },
     "3cddb24cdbed44ea8f0a43976eb9f18b": {
      "model_module": "@jupyter-widgets/controls",
      "model_module_version": "1.5.0",
      "model_name": "HTMLModel",
      "state": {
       "layout": "IPY_MODEL_f1d79d73df3442138bb417349d60b8a8",
       "style": "IPY_MODEL_c323cde53b97440d90c58640800c06c6",
       "value": "recordings[ 0]:"
      }
     },
     "3d1360e9d7a745e9b4dc81dd610f8b07": {
      "model_module": "@jupyter-widgets/controls",
      "model_module_version": "1.5.0",
      "model_name": "DescriptionStyleModel",
      "state": {
       "description_width": ""
      }
     },
     "3d59d527538e4a6db5d6f51e5837cd68": {
      "model_module": "@jupyter-widgets/base",
      "model_module_version": "1.2.0",
      "model_name": "LayoutModel",
      "state": {}
     },
     "3dd278e5f5ca46a0a4a6bd8cef92421a": {
      "model_module": "@jupyter-widgets/base",
      "model_module_version": "1.2.0",
      "model_name": "LayoutModel",
      "state": {}
     },
     "3e0912c69f604f5990ada7550678c870": {
      "model_module": "@jupyter-widgets/controls",
      "model_module_version": "1.5.0",
      "model_name": "HBoxModel",
      "state": {
       "children": [
        "IPY_MODEL_1cce4a468af5491298604753b2b94d70",
        "IPY_MODEL_f8ab31916dda407dba515eab18df267f",
        "IPY_MODEL_320fcf0c10d04aa998b3653cb2f8701a"
       ],
       "layout": "IPY_MODEL_e9f722d4ef52414d9b9003fca50b4777"
      }
     },
     "3e0aeb88dbb246d39acec3347585f409": {
      "model_module": "@jupyter-widgets/controls",
      "model_module_version": "1.5.0",
      "model_name": "HBoxModel",
      "state": {
       "children": [
        "IPY_MODEL_f34192ab41c14679a4dfe930672d64e8",
        "IPY_MODEL_956ba19ea45f4906b33c57f43e677011",
        "IPY_MODEL_5af36ca90f694aec97a1149eb4acf910"
       ],
       "layout": "IPY_MODEL_8f0195503b8844b7a9c9da545381ff4d"
      }
     },
     "3f0b20a3464f4b2d9ae78208944bb8d1": {
      "model_module": "@jupyter-widgets/base",
      "model_module_version": "1.2.0",
      "model_name": "LayoutModel",
      "state": {}
     },
     "3f29a4928a8f4380b49b4b6972ed8643": {
      "model_module": "@jupyter-widgets/controls",
      "model_module_version": "1.5.0",
      "model_name": "ProgressStyleModel",
      "state": {
       "description_width": ""
      }
     },
     "3f7f4933965146019f14dbae8e7e6527": {
      "model_module": "@jupyter-widgets/base",
      "model_module_version": "1.2.0",
      "model_name": "LayoutModel",
      "state": {}
     },
     "3ff68883e4c94a619dcec1d0f0f35d1f": {
      "model_module": "@jupyter-widgets/controls",
      "model_module_version": "1.5.0",
      "model_name": "DescriptionStyleModel",
      "state": {
       "description_width": ""
      }
     },
     "40712df7856c485d860fb540af85b569": {
      "model_module": "@jupyter-widgets/base",
      "model_module_version": "1.2.0",
      "model_name": "LayoutModel",
      "state": {}
     },
     "40f561da5e884b1396ced59d600cfff5": {
      "model_module": "@jupyter-widgets/controls",
      "model_module_version": "1.5.0",
      "model_name": "HTMLModel",
      "state": {
       "layout": "IPY_MODEL_ffcee996f1004b0cad06502ae5ac3f05",
       "style": "IPY_MODEL_2f0be6599dfc4d8296d1a1cf1b31bc69",
       "value": "Processed:"
      }
     },
     "410cf3a04dab4f7d864eb62b1557e6c0": {
      "model_module": "@jupyter-widgets/controls",
      "model_module_version": "1.5.0",
      "model_name": "HBoxModel",
      "state": {
       "children": [
        "IPY_MODEL_13c115580241487482fc1f977d3738da",
        "IPY_MODEL_447a67095d644bbc921591e52231e388",
        "IPY_MODEL_8fc67c2e986c41fda0d3b801c26730c2"
       ],
       "layout": "IPY_MODEL_663de1cf2c7d461bb46a49c965416123"
      }
     },
     "41439f22da634f8ea90ecdcc4c3d9225": {
      "model_module": "@jupyter-widgets/controls",
      "model_module_version": "1.5.0",
      "model_name": "ProgressStyleModel",
      "state": {
       "description_width": ""
      }
     },
     "41876b9745db46ee9e809eebf19ac210": {
      "model_module": "@jupyter-widgets/controls",
      "model_module_version": "1.5.0",
      "model_name": "HBoxModel",
      "state": {
       "children": [
        "IPY_MODEL_3cddb24cdbed44ea8f0a43976eb9f18b",
        "IPY_MODEL_9e9a9d3570264e6ea61e7bc03cd163ca",
        "IPY_MODEL_469e130c1f4349deab382b73b7863429"
       ],
       "layout": "IPY_MODEL_46d52d941bcd4a7abebd5348677246d2"
      }
     },
     "428d47aba98342b2b46af140ee323227": {
      "model_module": "@jupyter-widgets/base",
      "model_module_version": "1.2.0",
      "model_name": "LayoutModel",
      "state": {
       "flex": "2"
      }
     },
     "428ffdf4da6b449cb05dab03f46c7c5f": {
      "model_module": "@jupyter-widgets/controls",
      "model_module_version": "1.5.0",
      "model_name": "FloatProgressModel",
      "state": {
       "bar_style": "danger",
       "layout": "IPY_MODEL_b07dcc4cca784c52ad90cad78babfad4",
       "max": 7,
       "style": "IPY_MODEL_e4f769209c6548848ebe3c7a615a0f16",
       "value": 1
      }
     },
     "42deb94963ad491881ab01eb74d76bc3": {
      "model_module": "@jupyter-widgets/base",
      "model_module_version": "1.2.0",
      "model_name": "LayoutModel",
      "state": {}
     },
     "436034f6b93740f394db527d5f378908": {
      "model_module": "@jupyter-widgets/controls",
      "model_module_version": "1.5.0",
      "model_name": "DescriptionStyleModel",
      "state": {
       "description_width": ""
      }
     },
     "439cf675d721430ba714debf8802984f": {
      "model_module": "@jupyter-widgets/base",
      "model_module_version": "1.2.0",
      "model_name": "LayoutModel",
      "state": {}
     },
     "445b43d1c9f1499a9b8c0db514f24bcf": {
      "model_module": "@jupyter-widgets/controls",
      "model_module_version": "1.5.0",
      "model_name": "HTMLModel",
      "state": {
       "layout": "IPY_MODEL_72e2f6fa13e54aeaa2b2c82d437744b9",
       "style": "IPY_MODEL_e5fa1ad7ff7944668aa34db3183a04f6",
       "value": "100% 1/1 in 0.33s"
      }
     },
     "447a67095d644bbc921591e52231e388": {
      "model_module": "@jupyter-widgets/controls",
      "model_module_version": "1.5.0",
      "model_name": "FloatProgressModel",
      "state": {
       "bar_style": "success",
       "layout": "IPY_MODEL_1ebd19e7808c4921a1c982b8b88a8a0f",
       "max": 7,
       "style": "IPY_MODEL_2f46d20ae493463283bd86576106c7b4",
       "value": 7
      }
     },
     "44c8605c0dc94edb8a04517b2092758c": {
      "model_module": "@jupyter-widgets/controls",
      "model_module_version": "1.5.0",
      "model_name": "ProgressStyleModel",
      "state": {
       "description_width": ""
      }
     },
     "44ebc9030d7e4542b0a66243a64692af": {
      "model_module": "@jupyter-widgets/controls",
      "model_module_version": "1.5.0",
      "model_name": "ProgressStyleModel",
      "state": {
       "description_width": ""
      }
     },
     "45114082f29143679ad678c9f1898005": {
      "model_module": "@jupyter-widgets/controls",
      "model_module_version": "1.5.0",
      "model_name": "DescriptionStyleModel",
      "state": {
       "description_width": ""
      }
     },
     "4522e43e54f24307b653c02d2df80f88": {
      "model_module": "@jupyter-widgets/base",
      "model_module_version": "1.2.0",
      "model_name": "LayoutModel",
      "state": {}
     },
     "469e130c1f4349deab382b73b7863429": {
      "model_module": "@jupyter-widgets/controls",
      "model_module_version": "1.5.0",
      "model_name": "HTMLModel",
      "state": {
       "layout": "IPY_MODEL_7e5fdba5ced14edf8417e0f88de6afe3",
       "style": "IPY_MODEL_287441bed9f4435ebeafe7f62adf34cb",
       "value": " 14% 1/7, step=2. Store selected stream info, file=lsl_try1.xdf in 244.73s"
      }
     },
     "46d52d941bcd4a7abebd5348677246d2": {
      "model_module": "@jupyter-widgets/base",
      "model_module_version": "1.2.0",
      "model_name": "LayoutModel",
      "state": {}
     },
     "46e7deded47d44a9a68ff153a4244377": {
      "model_module": "@jupyter-widgets/base",
      "model_module_version": "1.2.0",
      "model_name": "LayoutModel",
      "state": {}
     },
     "48461a26db164135b7a362f157262fc5": {
      "model_module": "@jupyter-widgets/base",
      "model_module_version": "1.2.0",
      "model_name": "LayoutModel",
      "state": {}
     },
     "48b4c1ecc8f746babbca43958b731081": {
      "model_module": "@jupyter-widgets/controls",
      "model_module_version": "1.5.0",
      "model_name": "HBoxModel",
      "state": {
       "children": [
        "IPY_MODEL_9222e8f9b44e4f8d93e908b59c7af345",
        "IPY_MODEL_b1aea1460f1f4f0ca8dc7f7080508669",
        "IPY_MODEL_c2a916606098422c91a92a4f4aa4b176"
       ],
       "layout": "IPY_MODEL_1f4c8a0cd0834e90b7fc44c4b01f38af"
      }
     },
     "494f01efb7d944d9999f102b7d87779f": {
      "model_module": "@jupyter-widgets/controls",
      "model_module_version": "1.5.0",
      "model_name": "DescriptionStyleModel",
      "state": {
       "description_width": ""
      }
     },
     "49663c6711724786b06ac3bc73ce7c8b": {
      "model_module": "@jupyter-widgets/controls",
      "model_module_version": "1.5.0",
      "model_name": "HBoxModel",
      "state": {
       "children": [
        "IPY_MODEL_f25f9a53787448779d26de621410d9f6",
        "IPY_MODEL_8f38cfe5c45a4b9d9ca0fd4878743c8e",
        "IPY_MODEL_4c8f73e2fb724eaa9e38fb73a87e2c46"
       ],
       "layout": "IPY_MODEL_366c25535c544763be86d62bacc04340"
      }
     },
     "4abd890d778646e8a482b40b0c55abda": {
      "model_module": "@jupyter-widgets/base",
      "model_module_version": "1.2.0",
      "model_name": "LayoutModel",
      "state": {}
     },
     "4b0c4b00e30b4bbdad704c2a06e62196": {
      "model_module": "@jupyter-widgets/controls",
      "model_module_version": "1.5.0",
      "model_name": "DescriptionStyleModel",
      "state": {
       "description_width": ""
      }
     },
     "4bcccc4d1779443d8762fa0892099b70": {
      "model_module": "@jupyter-widgets/base",
      "model_module_version": "1.2.0",
      "model_name": "LayoutModel",
      "state": {}
     },
     "4c1563155ebc4699b3b2579b2d9db45f": {
      "model_module": "@jupyter-widgets/base",
      "model_module_version": "1.2.0",
      "model_name": "LayoutModel",
      "state": {}
     },
     "4c2e3b070bb44490b69f9cb986f405be": {
      "model_module": "@jupyter-widgets/controls",
      "model_module_version": "1.5.0",
      "model_name": "HBoxModel",
      "state": {
       "children": [
        "IPY_MODEL_aa03ac36cd7a40a4915bea593daf73ba",
        "IPY_MODEL_dcc21342d12b4ebcb504a6704172e506",
        "IPY_MODEL_cf0af736fbe540038c2cd08bc3037509"
       ],
       "layout": "IPY_MODEL_b2454bcad01c4b8ab64b2f96d1b27dd6"
      }
     },
     "4c39313aafe847e1a9555187ebee3dae": {
      "model_module": "@jupyter-widgets/controls",
      "model_module_version": "1.5.0",
      "model_name": "HTMLModel",
      "state": {
       "layout": "IPY_MODEL_2df4bacafffc49ee85ee0bb8d58f0d59",
       "style": "IPY_MODEL_fbd3f34b48fa47f9b83fbcaa19d2f000",
       "value": " 86% 6/7, step=6. Store Unity values, file=lsl_try1.xdf in 189.48s"
      }
     },
     "4c39f5fc31b449288dda485848c5d6ed": {
      "model_module": "@jupyter-widgets/controls",
      "model_module_version": "1.5.0",
      "model_name": "DescriptionStyleModel",
      "state": {
       "description_width": ""
      }
     },
     "4c8f73e2fb724eaa9e38fb73a87e2c46": {
      "model_module": "@jupyter-widgets/controls",
      "model_module_version": "1.5.0",
      "model_name": "HTMLModel",
      "state": {
       "layout": "IPY_MODEL_83670688b39749fd99567772b6efc7dd",
       "style": "IPY_MODEL_1e7e009edec94c8c83683a54c5d20355",
       "value": " 14% 1/7, step=2. Store selected stream info, file=lsl_try2.xdf in 166.37s"
      }
     },
     "4cb409597c7b41258f96cd76767a2047": {
      "model_module": "@jupyter-widgets/controls",
      "model_module_version": "1.5.0",
      "model_name": "HTMLModel",
      "state": {
       "layout": "IPY_MODEL_4c1563155ebc4699b3b2579b2d9db45f",
       "style": "IPY_MODEL_758e8f5c5a6d4998a3acd455874b1db6",
       "value": "recordings[ 0]:"
      }
     },
     "4d6bc8e1da434751a789c4b793a1414d": {
      "model_module": "@jupyter-widgets/base",
      "model_module_version": "1.2.0",
      "model_name": "LayoutModel",
      "state": {}
     },
     "4d7bb56abb13496a87261da08d00eb46": {
      "model_module": "@jupyter-widgets/controls",
      "model_module_version": "1.5.0",
      "model_name": "HTMLModel",
      "state": {
       "layout": "IPY_MODEL_ab183acf51d648afb5d5d0b57d732bff",
       "style": "IPY_MODEL_520223e89c134f2d82388c44838479c5",
       "value": "100% 1/1 in 0.02s"
      }
     },
     "4d84c71c85934129b19eda374aaa8f16": {
      "model_module": "@jupyter-widgets/base",
      "model_module_version": "1.2.0",
      "model_name": "LayoutModel",
      "state": {
       "flex": "2"
      }
     },
     "4d93f55224ec49abbcee2257720164eb": {
      "model_module": "@jupyter-widgets/controls",
      "model_module_version": "1.5.0",
      "model_name": "DescriptionStyleModel",
      "state": {
       "description_width": ""
      }
     },
     "4dcb8c5a1046478eb2e43d6e47831071": {
      "model_module": "@jupyter-widgets/controls",
      "model_module_version": "1.5.0",
      "model_name": "HTMLModel",
      "state": {
       "layout": "IPY_MODEL_8fec3f22c2d24bddb294a5cbbba2d9b7",
       "style": "IPY_MODEL_59d0778abc8f41dab52f75887ab62311",
       "value": "recordings[ 0]:"
      }
     },
     "4dd9749c71274743a2037fa5ac0a12f9": {
      "model_module": "@jupyter-widgets/base",
      "model_module_version": "1.2.0",
      "model_name": "LayoutModel",
      "state": {}
     },
     "4debd47bfdab4715b57106067129678f": {
      "model_module": "@jupyter-widgets/base",
      "model_module_version": "1.2.0",
      "model_name": "LayoutModel",
      "state": {}
     },
     "4df6176d59484123999882604ddae280": {
      "model_module": "@jupyter-widgets/controls",
      "model_module_version": "1.5.0",
      "model_name": "DescriptionStyleModel",
      "state": {
       "description_width": ""
      }
     },
     "4e0798a08ada4200b53cef15ec9c9383": {
      "model_module": "@jupyter-widgets/controls",
      "model_module_version": "1.5.0",
      "model_name": "FloatProgressModel",
      "state": {
       "bar_style": "success",
       "layout": "IPY_MODEL_24d9a5f6b7b0423f98994f41a3b68863",
       "max": 7,
       "style": "IPY_MODEL_533d36bed95649728abf68dc3e024bd2",
       "value": 7
      }
     },
     "4e3003d177b749539c0b87de3398d2cf": {
      "model_module": "@jupyter-widgets/controls",
      "model_module_version": "1.5.0",
      "model_name": "DescriptionStyleModel",
      "state": {
       "description_width": ""
      }
     },
     "4f0f993ea9b34a5d9ff674b3d516fe40": {
      "model_module": "@jupyter-widgets/controls",
      "model_module_version": "1.5.0",
      "model_name": "HTMLModel",
      "state": {
       "layout": "IPY_MODEL_0fa2864212074f2da65cfa47e872c574",
       "style": "IPY_MODEL_5e380e39f6c143fa94bca6a1985fb57e",
       "value": "Processed:"
      }
     },
     "4f679dc02d28414ab35cb6468741dfd8": {
      "model_module": "@jupyter-widgets/controls",
      "model_module_version": "1.5.0",
      "model_name": "HTMLModel",
      "state": {
       "layout": "IPY_MODEL_8633d3a05b3b477db40f8ca108d01882",
       "style": "IPY_MODEL_5761ed4923d94caa98984bbf45a9dccb",
       "value": "100% 1/1 in 0.29s"
      }
     },
     "51098e12f4f14634b14d4a6ce37ecf30": {
      "model_module": "@jupyter-widgets/base",
      "model_module_version": "1.2.0",
      "model_name": "LayoutModel",
      "state": {}
     },
     "5137c1e88e18417aa934853e461c724f": {
      "model_module": "@jupyter-widgets/controls",
      "model_module_version": "1.5.0",
      "model_name": "HBoxModel",
      "state": {
       "children": [
        "IPY_MODEL_913ce884b3894590926b6a6a56c45d40",
        "IPY_MODEL_2485a4aa4e844d8faf1f0ed46124d16c",
        "IPY_MODEL_4f679dc02d28414ab35cb6468741dfd8"
       ],
       "layout": "IPY_MODEL_7f05bbf0c7654039bd87060e8f42fa8e"
      }
     },
     "5165563ac60646b8a1d27fb002d9cf1e": {
      "model_module": "@jupyter-widgets/controls",
      "model_module_version": "1.5.0",
      "model_name": "HTMLModel",
      "state": {
       "layout": "IPY_MODEL_a9df5c8effe94535b5845fc29e446b21",
       "style": "IPY_MODEL_3c75c60a9db3491ab5823a95dbe02950",
       "value": "Processed:"
      }
     },
     "520223e89c134f2d82388c44838479c5": {
      "model_module": "@jupyter-widgets/controls",
      "model_module_version": "1.5.0",
      "model_name": "DescriptionStyleModel",
      "state": {
       "description_width": ""
      }
     },
     "525742a8c2e24621b7dadeb0ecb12333": {
      "model_module": "@jupyter-widgets/base",
      "model_module_version": "1.2.0",
      "model_name": "LayoutModel",
      "state": {}
     },
     "52576142f11443e8a54f7c50d02d9b02": {
      "model_module": "@jupyter-widgets/base",
      "model_module_version": "1.2.0",
      "model_name": "LayoutModel",
      "state": {
       "display": "inline-flex",
       "flex_flow": "row wrap",
       "width": "100%"
      }
     },
     "5259db9d6a574c0ba64769a9c30bfdc3": {
      "model_module": "@jupyter-widgets/controls",
      "model_module_version": "1.5.0",
      "model_name": "HTMLModel",
      "state": {
       "layout": "IPY_MODEL_af459471671842e0ab27895d8603ce6d",
       "style": "IPY_MODEL_0004bc7dad1c4043a993a259f92dfdc0",
       "value": " 86% 6/7, step=6. Store Unity values, file=lsl_try1.xdf in 857.65s"
      }
     },
     "525d0612bf474612992d0989571d0b8e": {
      "model_module": "@jupyter-widgets/base",
      "model_module_version": "1.2.0",
      "model_name": "LayoutModel",
      "state": {}
     },
     "52a49a634c624ab79e9c33b379cf88f7": {
      "model_module": "@jupyter-widgets/base",
      "model_module_version": "1.2.0",
      "model_name": "LayoutModel",
      "state": {}
     },
     "532885bb810b4fccab597e48e81bc857": {
      "model_module": "@jupyter-widgets/controls",
      "model_module_version": "1.5.0",
      "model_name": "HTMLModel",
      "state": {
       "layout": "IPY_MODEL_984db3153cee4181ba9bceb2d784cb19",
       "style": "IPY_MODEL_1d0683ab70524428989ee51a30cd9765",
       "value": "100% 1/1 in 0.32s"
      }
     },
     "533d36bed95649728abf68dc3e024bd2": {
      "model_module": "@jupyter-widgets/controls",
      "model_module_version": "1.5.0",
      "model_name": "ProgressStyleModel",
      "state": {
       "description_width": ""
      }
     },
     "539ab7d6c0094e29874fd2de8054a30d": {
      "model_module": "@jupyter-widgets/base",
      "model_module_version": "1.2.0",
      "model_name": "LayoutModel",
      "state": {}
     },
     "53e62d22e69443739ed705b1db1f653d": {
      "model_module": "@jupyter-widgets/base",
      "model_module_version": "1.2.0",
      "model_name": "LayoutModel",
      "state": {
       "flex": "2"
      }
     },
     "5444952e473c4ba49c7d45e219076743": {
      "model_module": "@jupyter-widgets/controls",
      "model_module_version": "1.5.0",
      "model_name": "DescriptionStyleModel",
      "state": {
       "description_width": ""
      }
     },
     "544502bea10f49118d152ea57bb70dce": {
      "model_module": "@jupyter-widgets/controls",
      "model_module_version": "1.5.0",
      "model_name": "DescriptionStyleModel",
      "state": {
       "description_width": ""
      }
     },
     "54bef8ce0fb6406491881167502c29d1": {
      "model_module": "@jupyter-widgets/controls",
      "model_module_version": "1.5.0",
      "model_name": "HTMLModel",
      "state": {
       "layout": "IPY_MODEL_2b0edb34f10640b5923b699b9241509c",
       "style": "IPY_MODEL_8558f121e13f4953b1dcea87c93a6ae9",
       "value": "recordings[ 0]:"
      }
     },
     "54cebfcf0b324f359dea22c54b4034af": {
      "model_module": "@jupyter-widgets/controls",
      "model_module_version": "1.5.0",
      "model_name": "HBoxModel",
      "state": {
       "children": [
        "IPY_MODEL_e4fd03ac01c24886bf1aa92ddc65c5b4",
        "IPY_MODEL_b46d8e615b8f4c08afb88e92db0cb8ee",
        "IPY_MODEL_a7c15228a83d43519236f63cd47d0c14"
       ],
       "layout": "IPY_MODEL_2058eea519964895a1dfffbd46fd715d"
      }
     },
     "54dbdbee05b74f58999840e3391f9f79": {
      "model_module": "@jupyter-widgets/controls",
      "model_module_version": "1.5.0",
      "model_name": "DescriptionStyleModel",
      "state": {
       "description_width": ""
      }
     },
     "551067133bba4962885b8d4bb82f96f1": {
      "model_module": "@jupyter-widgets/controls",
      "model_module_version": "1.5.0",
      "model_name": "DescriptionStyleModel",
      "state": {
       "description_width": ""
      }
     },
     "5528110e01584128a404f1365628f54b": {
      "model_module": "@jupyter-widgets/controls",
      "model_module_version": "1.5.0",
      "model_name": "ProgressStyleModel",
      "state": {
       "description_width": ""
      }
     },
     "552f42f6104b40e69095facf58ae6037": {
      "model_module": "@jupyter-widgets/controls",
      "model_module_version": "1.5.0",
      "model_name": "HBoxModel",
      "state": {
       "children": [
        "IPY_MODEL_3824c1553b024450b30f91dd5bbab4de",
        "IPY_MODEL_a9e40995a2114874982b0be4ad6e237c",
        "IPY_MODEL_7a517837f32f462f93b46701b28a7514"
       ],
       "layout": "IPY_MODEL_304754b38ed24a3bb1362b1742140414"
      }
     },
     "55ac54efa41a40d6beac9e1b8541e376": {
      "model_module": "@jupyter-widgets/base",
      "model_module_version": "1.2.0",
      "model_name": "LayoutModel",
      "state": {}
     },
     "55b3c395e94744beacb764432a7f3ee0": {
      "model_module": "@jupyter-widgets/controls",
      "model_module_version": "1.5.0",
      "model_name": "ProgressStyleModel",
      "state": {
       "description_width": ""
      }
     },
     "55dd0905475d43349549c8d8cef7d4bf": {
      "model_module": "@jupyter-widgets/base",
      "model_module_version": "1.2.0",
      "model_name": "LayoutModel",
      "state": {}
     },
     "575e74fa429b498fb461182cad6f7326": {
      "model_module": "@jupyter-widgets/controls",
      "model_module_version": "1.5.0",
      "model_name": "DescriptionStyleModel",
      "state": {
       "description_width": ""
      }
     },
     "5761ed4923d94caa98984bbf45a9dccb": {
      "model_module": "@jupyter-widgets/controls",
      "model_module_version": "1.5.0",
      "model_name": "DescriptionStyleModel",
      "state": {
       "description_width": ""
      }
     },
     "5777b2c2a77a4fc5a3d3ff8a578c5ccc": {
      "model_module": "@jupyter-widgets/base",
      "model_module_version": "1.2.0",
      "model_name": "LayoutModel",
      "state": {}
     },
     "57d4da4894cd44f188820822a6a226f2": {
      "model_module": "@jupyter-widgets/base",
      "model_module_version": "1.2.0",
      "model_name": "LayoutModel",
      "state": {}
     },
     "5806625453d6444cb9907fcd7099a504": {
      "model_module": "@jupyter-widgets/controls",
      "model_module_version": "1.5.0",
      "model_name": "HBoxModel",
      "state": {
       "children": [
        "IPY_MODEL_91b13387b4e2458fbc820ebfa3a6475d",
        "IPY_MODEL_bb3e5cdd158143eab605a7401cdf8908",
        "IPY_MODEL_357047168f0c4fe5b93f3ca3ed593dcc"
       ],
       "layout": "IPY_MODEL_83801abb81f249a68df9ed47de2523af"
      }
     },
     "5832034274e748eb9f00abde57594410": {
      "model_module": "@jupyter-widgets/controls",
      "model_module_version": "1.5.0",
      "model_name": "HTMLModel",
      "state": {
       "layout": "IPY_MODEL_fda6622b3eff48c681eed881ea70548b",
       "style": "IPY_MODEL_6348a9f65b7242de92f2a78e585d29ba",
       "value": "Processed:"
      }
     },
     "58fab23083004bb0b7454678537d98f4": {
      "model_module": "@jupyter-widgets/base",
      "model_module_version": "1.2.0",
      "model_name": "LayoutModel",
      "state": {}
     },
     "591c38d39c5d476b8617e9a3517ed9d5": {
      "model_module": "@jupyter-widgets/controls",
      "model_module_version": "1.5.0",
      "model_name": "HTMLModel",
      "state": {
       "layout": "IPY_MODEL_f660e660f1bb4c12a6a16f9cc828bbf8",
       "style": "IPY_MODEL_7f995b7070a84be3b08eea10b9ba8046",
       "value": "  0% 0/7, step=1. Load the XDF file, file=lsl_try1.xdf in 1919.43s"
      }
     },
     "59703c7bac0f4f22b28396d31f4688a7": {
      "model_module": "@jupyter-widgets/base",
      "model_module_version": "1.2.0",
      "model_name": "LayoutModel",
      "state": {}
     },
     "5981ad25c1594577ba9fb3d5757e4b6d": {
      "model_module": "@jupyter-widgets/controls",
      "model_module_version": "1.5.0",
      "model_name": "DescriptionStyleModel",
      "state": {
       "description_width": ""
      }
     },
     "59889ec00493419fba772d843b42889f": {
      "model_module": "@jupyter-widgets/controls",
      "model_module_version": "1.5.0",
      "model_name": "HBoxModel",
      "state": {
       "children": [
        "IPY_MODEL_8482d278c4f34a779b2131d6149b2e93",
        "IPY_MODEL_73d5aa78c6244050a3d0057e4242140e",
        "IPY_MODEL_c118d45c161447abba470379fe2d5d4f"
       ],
       "layout": "IPY_MODEL_55ac54efa41a40d6beac9e1b8541e376"
      }
     },
     "59b4372bf84e4d09b7cc954522e8f11a": {
      "model_module": "@jupyter-widgets/base",
      "model_module_version": "1.2.0",
      "model_name": "LayoutModel",
      "state": {}
     },
     "59d0778abc8f41dab52f75887ab62311": {
      "model_module": "@jupyter-widgets/controls",
      "model_module_version": "1.5.0",
      "model_name": "DescriptionStyleModel",
      "state": {
       "description_width": ""
      }
     },
     "5a199281ceb54592b06d064cf17c1226": {
      "model_module": "@jupyter-widgets/controls",
      "model_module_version": "1.5.0",
      "model_name": "DescriptionStyleModel",
      "state": {
       "description_width": ""
      }
     },
     "5ad36e9311d446c3b0de33c22e842e9a": {
      "model_module": "@jupyter-widgets/controls",
      "model_module_version": "1.5.0",
      "model_name": "HBoxModel",
      "state": {
       "children": [
        "IPY_MODEL_c98a38c554e243e3b0fab08dcfe63875",
        "IPY_MODEL_4e0798a08ada4200b53cef15ec9c9383",
        "IPY_MODEL_1fceb634f0a14571b7d42d86fac956dd"
       ],
       "layout": "IPY_MODEL_f3c4cb9d3ffb41e9a33cd1a803181eb9"
      }
     },
     "5af36ca90f694aec97a1149eb4acf910": {
      "model_module": "@jupyter-widgets/controls",
      "model_module_version": "1.5.0",
      "model_name": "HTMLModel",
      "state": {
       "layout": "IPY_MODEL_921c30e409d74d97bf8858eb7b67d530",
       "style": "IPY_MODEL_f04583799ed344fdb8460b621b5effd8",
       "value": " 43% 3/7, step=3. Store timestamps, file=lsl_try1.xdf in 65.75s"
      }
     },
     "5afe69f48ca4424cb831bc4011c58260": {
      "model_module": "@jupyter-widgets/controls",
      "model_module_version": "1.5.0",
      "model_name": "DescriptionStyleModel",
      "state": {
       "description_width": ""
      }
     },
     "5b65b24bb5ee46d9853110517106b03c": {
      "model_module": "@jupyter-widgets/controls",
      "model_module_version": "1.5.0",
      "model_name": "FloatProgressModel",
      "state": {
       "bar_style": "danger",
       "layout": "IPY_MODEL_5ce2045c501a4e4ea27a12323a11407c",
       "max": 7,
       "style": "IPY_MODEL_0ab1b444460f4895b06aed722a6aa8a1",
       "value": 1
      }
     },
     "5b73db4d127b4b2f88e9220776b98ea3": {
      "model_module": "@jupyter-widgets/base",
      "model_module_version": "1.2.0",
      "model_name": "LayoutModel",
      "state": {}
     },
     "5be3d2c7a2bf4950ba147ebb7d1f98e6": {
      "model_module": "@jupyter-widgets/controls",
      "model_module_version": "1.5.0",
      "model_name": "ProgressStyleModel",
      "state": {
       "description_width": ""
      }
     },
     "5bfcacd477c141ab81dca99222c39775": {
      "model_module": "@jupyter-widgets/controls",
      "model_module_version": "1.5.0",
      "model_name": "DescriptionStyleModel",
      "state": {
       "description_width": ""
      }
     },
     "5cda847d50a349fcb2e56d788848ecd4": {
      "model_module": "@jupyter-widgets/controls",
      "model_module_version": "1.5.0",
      "model_name": "HTMLModel",
      "state": {
       "layout": "IPY_MODEL_ee630ee53df64c97b693dd3021566e10",
       "style": "IPY_MODEL_45114082f29143679ad678c9f1898005",
       "value": "Processed:"
      }
     },
     "5ce2045c501a4e4ea27a12323a11407c": {
      "model_module": "@jupyter-widgets/base",
      "model_module_version": "1.2.0",
      "model_name": "LayoutModel",
      "state": {}
     },
     "5cf0a0d75e1b45cfb359e427ac9ca685": {
      "model_module": "@jupyter-widgets/controls",
      "model_module_version": "1.5.0",
      "model_name": "DescriptionStyleModel",
      "state": {
       "description_width": ""
      }
     },
     "5d5096d80bf14a1aa3360a87be266ff3": {
      "model_module": "@jupyter-widgets/base",
      "model_module_version": "1.2.0",
      "model_name": "LayoutModel",
      "state": {}
     },
     "5e1dfa50553d47518acd1cfe5672a821": {
      "model_module": "@jupyter-widgets/controls",
      "model_module_version": "1.5.0",
      "model_name": "DescriptionStyleModel",
      "state": {
       "description_width": ""
      }
     },
     "5e380e39f6c143fa94bca6a1985fb57e": {
      "model_module": "@jupyter-widgets/controls",
      "model_module_version": "1.5.0",
      "model_name": "DescriptionStyleModel",
      "state": {
       "description_width": ""
      }
     },
     "5e3aa94cdc1849f4b5a32b1a601bd88c": {
      "model_module": "@jupyter-widgets/controls",
      "model_module_version": "1.5.0",
      "model_name": "DescriptionStyleModel",
      "state": {
       "description_width": ""
      }
     },
     "5e9df3d52d5d4c4c868f9cd140a65cf6": {
      "model_module": "@jupyter-widgets/base",
      "model_module_version": "1.2.0",
      "model_name": "LayoutModel",
      "state": {}
     },
     "5ed359e7fc624abcb3ecb73d9d62266f": {
      "model_module": "@jupyter-widgets/base",
      "model_module_version": "1.2.0",
      "model_name": "LayoutModel",
      "state": {}
     },
     "6031d40f57254ddd84b044d799723524": {
      "model_module": "@jupyter-widgets/base",
      "model_module_version": "1.2.0",
      "model_name": "LayoutModel",
      "state": {
       "display": "inline-flex",
       "flex_flow": "row wrap",
       "width": "100%"
      }
     },
     "6143e5d091664e26989e9084dd41ff98": {
      "model_module": "@jupyter-widgets/controls",
      "model_module_version": "1.5.0",
      "model_name": "DescriptionStyleModel",
      "state": {
       "description_width": ""
      }
     },
     "6164221db0d548e3bb8c1fa446fe976c": {
      "model_module": "@jupyter-widgets/base",
      "model_module_version": "1.2.0",
      "model_name": "LayoutModel",
      "state": {}
     },
     "626e1f1c17254d47881888ff810da82b": {
      "model_module": "@jupyter-widgets/controls",
      "model_module_version": "1.5.0",
      "model_name": "FloatProgressModel",
      "state": {
       "bar_style": "danger",
       "layout": "IPY_MODEL_0ad8b9db186c452da340ada745e7f5de",
       "max": 7,
       "style": "IPY_MODEL_aea37e9bdd43424a8c35fe8a9ef1d55c"
      }
     },
     "63480e8111c94ba5aa572f9ea257ec11": {
      "model_module": "@jupyter-widgets/controls",
      "model_module_version": "1.5.0",
      "model_name": "ProgressStyleModel",
      "state": {
       "description_width": ""
      }
     },
     "6348a9f65b7242de92f2a78e585d29ba": {
      "model_module": "@jupyter-widgets/controls",
      "model_module_version": "1.5.0",
      "model_name": "DescriptionStyleModel",
      "state": {
       "description_width": ""
      }
     },
     "638e2578a8f2474f82bdf53b93bda29f": {
      "model_module": "@jupyter-widgets/base",
      "model_module_version": "1.2.0",
      "model_name": "LayoutModel",
      "state": {}
     },
     "64992b737019422e99e69eaf78c24178": {
      "model_module": "@jupyter-widgets/controls",
      "model_module_version": "1.5.0",
      "model_name": "HTMLModel",
      "state": {
       "layout": "IPY_MODEL_824b30c4aab343159611cb45c623eb19",
       "style": "IPY_MODEL_12d0b9e6661d49cba80f9c7683940776",
       "value": " 14% 1/7, step=2. Store selected stream info, file=lsl_try1.xdf in 152.14s"
      }
     },
     "64b205d5933f4ef3a0594d9f925020a4": {
      "model_module": "@jupyter-widgets/base",
      "model_module_version": "1.2.0",
      "model_name": "LayoutModel",
      "state": {}
     },
     "653a211e00284c3ea6948761813dbd45": {
      "model_module": "@jupyter-widgets/base",
      "model_module_version": "1.2.0",
      "model_name": "LayoutModel",
      "state": {}
     },
     "6612a969dbca4f00850960f21029e567": {
      "model_module": "@jupyter-widgets/controls",
      "model_module_version": "1.5.0",
      "model_name": "DescriptionStyleModel",
      "state": {
       "description_width": ""
      }
     },
     "663de1cf2c7d461bb46a49c965416123": {
      "model_module": "@jupyter-widgets/base",
      "model_module_version": "1.2.0",
      "model_name": "LayoutModel",
      "state": {}
     },
     "66b1bcb5b00247d68147aa63005132b9": {
      "model_module": "@jupyter-widgets/controls",
      "model_module_version": "1.5.0",
      "model_name": "FloatProgressModel",
      "state": {
       "bar_style": "danger",
       "layout": "IPY_MODEL_0b5a0c0b50ed4563b869106ad99de2a1",
       "max": 7,
       "style": "IPY_MODEL_89f0720cedac4a55849f103d91862915",
       "value": 6
      }
     },
     "66d85665416342ddba5acb9751f1c230": {
      "model_module": "@jupyter-widgets/base",
      "model_module_version": "1.2.0",
      "model_name": "LayoutModel",
      "state": {
       "display": "inline-flex",
       "flex_flow": "row wrap",
       "width": "100%"
      }
     },
     "6745de8b8c954906a09489f222f8ab51": {
      "model_module": "@jupyter-widgets/controls",
      "model_module_version": "1.5.0",
      "model_name": "HBoxModel",
      "state": {
       "children": [
        "IPY_MODEL_1f7b9254d230420fa99a6043d0d43a79",
        "IPY_MODEL_c8aa424d0a294b11895dd4713686c3d5",
        "IPY_MODEL_445b43d1c9f1499a9b8c0db514f24bcf"
       ],
       "layout": "IPY_MODEL_9d7f7511d6a2474388cbd744fb6f4b67"
      }
     },
     "67ab71d480104deba21577f1cda7b9f7": {
      "model_module": "@jupyter-widgets/controls",
      "model_module_version": "1.5.0",
      "model_name": "HBoxModel",
      "state": {
       "children": [
        "IPY_MODEL_5cda847d50a349fcb2e56d788848ecd4",
        "IPY_MODEL_e8cb74c6cbf34e69adc66ac98ea3dbd3",
        "IPY_MODEL_0679ce0ee50f42c1bf2e7c5cd39c65fb"
       ],
       "layout": "IPY_MODEL_9199705b52f7453dbca56f76fa0bdaba"
      }
     },
     "67d60afd361f422596438dd609afb836": {
      "model_module": "@jupyter-widgets/controls",
      "model_module_version": "1.5.0",
      "model_name": "DescriptionStyleModel",
      "state": {
       "description_width": ""
      }
     },
     "68cfd5d56e0f4af7af12f3451473d8d2": {
      "model_module": "@jupyter-widgets/controls",
      "model_module_version": "1.5.0",
      "model_name": "HTMLModel",
      "state": {
       "layout": "IPY_MODEL_132991c2809c493f828ff08f1a69b546",
       "style": "IPY_MODEL_255deab98e8449559d9ed4326b524c06",
       "value": "  0% 0/7, step=1. Load the XDF file, file=lsl_try1.xdf in 1966.69s"
      }
     },
     "69d3b77898f64a59ab168e81d4bece13": {
      "model_module": "@jupyter-widgets/controls",
      "model_module_version": "1.5.0",
      "model_name": "HTMLModel",
      "state": {
       "layout": "IPY_MODEL_ade9e3311ad648ef97357cebb5587d22",
       "style": "IPY_MODEL_4b0c4b00e30b4bbdad704c2a06e62196",
       "value": "Processed:"
      }
     },
     "69fce329600b44089760004db946640a": {
      "model_module": "@jupyter-widgets/controls",
      "model_module_version": "1.5.0",
      "model_name": "HBoxModel",
      "state": {
       "children": [
        "IPY_MODEL_ad326330fa8b4ddbad6f4bc0c2943c26",
        "IPY_MODEL_d0708dde1faf43dfa836d210a039c05b",
        "IPY_MODEL_949dc0d707d84963a44ce7ad960b6bbd"
       ],
       "layout": "IPY_MODEL_8d98d7d407a34507a0ed4ef59ad10b1c"
      }
     },
     "6a0bf85de5a348e384848255bc845261": {
      "model_module": "@jupyter-widgets/controls",
      "model_module_version": "1.5.0",
      "model_name": "HTMLModel",
      "state": {
       "layout": "IPY_MODEL_f5ed641fd1ce4ad9a99d0cd3054a9700",
       "style": "IPY_MODEL_3c9bfe637167403eb29b2c9a17bc2d52",
       "value": " 14% 1/7, step=2. Store selected stream info, file=lsl_try1.xdf in 1373.48s"
      }
     },
     "6a317530fe8a448ebd581685dab19d93": {
      "model_module": "@jupyter-widgets/controls",
      "model_module_version": "1.5.0",
      "model_name": "ProgressStyleModel",
      "state": {
       "description_width": ""
      }
     },
     "6a81a16f05544eb69ac1e40251c5221a": {
      "model_module": "@jupyter-widgets/controls",
      "model_module_version": "1.5.0",
      "model_name": "ProgressStyleModel",
      "state": {
       "description_width": ""
      }
     },
     "6ad6cdf0695649918ea03c83a84776a0": {
      "model_module": "@jupyter-widgets/controls",
      "model_module_version": "1.5.0",
      "model_name": "DescriptionStyleModel",
      "state": {
       "description_width": ""
      }
     },
     "6bf58b58095f450d878dbd5c3b9337d9": {
      "model_module": "@jupyter-widgets/base",
      "model_module_version": "1.2.0",
      "model_name": "LayoutModel",
      "state": {}
     },
     "6c1048dec906447d9d3516fd2337f800": {
      "model_module": "@jupyter-widgets/base",
      "model_module_version": "1.2.0",
      "model_name": "LayoutModel",
      "state": {}
     },
     "6cfa33dfcdeb4626a932c67484062855": {
      "model_module": "@jupyter-widgets/controls",
      "model_module_version": "1.5.0",
      "model_name": "ProgressStyleModel",
      "state": {
       "description_width": ""
      }
     },
     "6d3aa3bd98e84e58b0c056f40fe6a830": {
      "model_module": "@jupyter-widgets/controls",
      "model_module_version": "1.5.0",
      "model_name": "ProgressStyleModel",
      "state": {
       "description_width": ""
      }
     },
     "6e892a719a60406a9165add51388ae3f": {
      "model_module": "@jupyter-widgets/controls",
      "model_module_version": "1.5.0",
      "model_name": "FloatProgressModel",
      "state": {
       "bar_style": "danger",
       "layout": "IPY_MODEL_0ae88106efe844f2ad25bacd36b3c1b3",
       "max": 1,
       "style": "IPY_MODEL_63480e8111c94ba5aa572f9ea257ec11"
      }
     },
     "6f12f4b15aa8469d8f9e675886b63784": {
      "model_module": "@jupyter-widgets/controls",
      "model_module_version": "1.5.0",
      "model_name": "HTMLModel",
      "state": {
       "layout": "IPY_MODEL_1a2d0d32b3d84267b3c9d8421d301771",
       "style": "IPY_MODEL_2fedfdfbfd7343f3b489235dffcb0eca",
       "value": "  0% 0/1 in 0.34s"
      }
     },
     "6fae3628df6447da8c5a2e735a2964b0": {
      "model_module": "@jupyter-widgets/controls",
      "model_module_version": "1.5.0",
      "model_name": "ProgressStyleModel",
      "state": {
       "description_width": ""
      }
     },
     "7055eede75f8428cb88d4b404c7beb1d": {
      "model_module": "@jupyter-widgets/controls",
      "model_module_version": "1.5.0",
      "model_name": "HTMLModel",
      "state": {
       "layout": "IPY_MODEL_48461a26db164135b7a362f157262fc5",
       "style": "IPY_MODEL_a191c40f96fa4b3ab58864b84d0cef0b",
       "value": " 33% 1/3 in 0.89s"
      }
     },
     "708c676807cb49479b849fa09d14f02c": {
      "model_module": "@jupyter-widgets/controls",
      "model_module_version": "1.5.0",
      "model_name": "HTMLModel",
      "state": {
       "layout": "IPY_MODEL_59703c7bac0f4f22b28396d31f4688a7",
       "style": "IPY_MODEL_1afc79e2003741cbae36b1efa34b8164",
       "value": "recordings[ 0]:"
      }
     },
     "721ab6f51fa342979c878bef4ac67d1e": {
      "model_module": "@jupyter-widgets/controls",
      "model_module_version": "1.5.0",
      "model_name": "HTMLModel",
      "state": {
       "layout": "IPY_MODEL_f430c6573e8946389ed51347d3b484a4",
       "style": "IPY_MODEL_143aeddb3b44448fa38d322cd7cb257b",
       "value": " 14% 1/7, step=2. Store selected stream info, file=lsl_try1.xdf in 1636.55s"
      }
     },
     "727cf112adc140c5baae53def386d28a": {
      "model_module": "@jupyter-widgets/base",
      "model_module_version": "1.2.0",
      "model_name": "LayoutModel",
      "state": {}
     },
     "72dc78df5a714d95b66c2508d22810df": {
      "model_module": "@jupyter-widgets/controls",
      "model_module_version": "1.5.0",
      "model_name": "DescriptionStyleModel",
      "state": {
       "description_width": ""
      }
     },
     "72e2f6fa13e54aeaa2b2c82d437744b9": {
      "model_module": "@jupyter-widgets/base",
      "model_module_version": "1.2.0",
      "model_name": "LayoutModel",
      "state": {}
     },
     "72f522f61ad54489918e8b5f25fc0a60": {
      "model_module": "@jupyter-widgets/controls",
      "model_module_version": "1.5.0",
      "model_name": "HTMLModel",
      "state": {
       "layout": "IPY_MODEL_ae1ba79eb4c04d1fb086acce976876d5",
       "style": "IPY_MODEL_9f48efcdb56c4d16928d604332db86d5",
       "value": " 43% 3/7, step=3. Store timestamps, file=lsl_try1.xdf in 1195.11s"
      }
     },
     "7354a6727adb46c08a3ec8954c8c6159": {
      "model_module": "@jupyter-widgets/controls",
      "model_module_version": "1.5.0",
      "model_name": "HBoxModel",
      "state": {
       "children": [
        "IPY_MODEL_d395407846dd4a13ac591982a80d0d41",
        "IPY_MODEL_aa43572328b14d71bccab394a22f1e23",
        "IPY_MODEL_5259db9d6a574c0ba64769a9c30bfdc3"
       ],
       "layout": "IPY_MODEL_d3a419e15595431b9242fdc1d9bb4836"
      }
     },
     "73c9b14f59134814b778abd77d7dcffe": {
      "model_module": "@jupyter-widgets/controls",
      "model_module_version": "1.5.0",
      "model_name": "DescriptionStyleModel",
      "state": {
       "description_width": ""
      }
     },
     "73cca3fcd1284f57bfcb08e1aca3d640": {
      "model_module": "@jupyter-widgets/controls",
      "model_module_version": "1.5.0",
      "model_name": "HTMLModel",
      "state": {
       "layout": "IPY_MODEL_ef2147c51c824818ab0bd8da96c15067",
       "style": "IPY_MODEL_26a3c28d51e343f7865bd193969206ba",
       "value": "Processed:"
      }
     },
     "73d2c84344d045889e1dc0a54d1f7960": {
      "model_module": "@jupyter-widgets/base",
      "model_module_version": "1.2.0",
      "model_name": "LayoutModel",
      "state": {}
     },
     "73d5aa78c6244050a3d0057e4242140e": {
      "model_module": "@jupyter-widgets/controls",
      "model_module_version": "1.5.0",
      "model_name": "FloatProgressModel",
      "state": {
       "bar_style": "danger",
       "layout": "IPY_MODEL_c19ca39218614a639bc6f3b3a8d05d91",
       "max": 7,
       "style": "IPY_MODEL_325290384fce4b7e9f4a5732e62a730a"
      }
     },
     "7450d21c170b4a5a90676089460edca6": {
      "model_module": "@jupyter-widgets/base",
      "model_module_version": "1.2.0",
      "model_name": "LayoutModel",
      "state": {}
     },
     "749c8458a2414848bf9b22a3091b824f": {
      "model_module": "@jupyter-widgets/controls",
      "model_module_version": "1.5.0",
      "model_name": "DescriptionStyleModel",
      "state": {
       "description_width": ""
      }
     },
     "7547213a5a864c14a2c2fe6692c95fb9": {
      "model_module": "@jupyter-widgets/controls",
      "model_module_version": "1.5.0",
      "model_name": "DescriptionStyleModel",
      "state": {
       "description_width": ""
      }
     },
     "758e8f5c5a6d4998a3acd455874b1db6": {
      "model_module": "@jupyter-widgets/controls",
      "model_module_version": "1.5.0",
      "model_name": "DescriptionStyleModel",
      "state": {
       "description_width": ""
      }
     },
     "75c040dc7da946e49de7c39017c2fc8c": {
      "model_module": "@jupyter-widgets/controls",
      "model_module_version": "1.5.0",
      "model_name": "HBoxModel",
      "state": {
       "children": [
        "IPY_MODEL_69d3b77898f64a59ab168e81d4bece13",
        "IPY_MODEL_3c2aca6a7f774ef28a2ee8de4e664c90",
        "IPY_MODEL_2cc57985dfba4595a1e2b48fa52f98c6"
       ],
       "layout": "IPY_MODEL_a91b6c63929042f4bc1b013b900c7a3d"
      }
     },
     "764a12079f1149dc91af6ff9cb1e5020": {
      "model_module": "@jupyter-widgets/controls",
      "model_module_version": "1.5.0",
      "model_name": "HTMLModel",
      "state": {
       "layout": "IPY_MODEL_dcef0c10a6aa48f488aff8515d9da543",
       "style": "IPY_MODEL_033ad3bce5644103a8f74fd9e0ec99a2",
       "value": "Processed:"
      }
     },
     "769786a0be8748cda0d77a55f24f097b": {
      "model_module": "@jupyter-widgets/controls",
      "model_module_version": "1.5.0",
      "model_name": "HTMLModel",
      "state": {
       "layout": "IPY_MODEL_b07283fb826745b388a4062e4231885e",
       "style": "IPY_MODEL_1438b193e38640d184d5d2cf3f6412f3",
       "value": "recordings[ 0]:"
      }
     },
     "7773f2d6cd944d2b9b9f138067057a18": {
      "model_module": "@jupyter-widgets/base",
      "model_module_version": "1.2.0",
      "model_name": "LayoutModel",
      "state": {
       "flex": "2"
      }
     },
     "787103da991643258c39d1d4d702dd3a": {
      "model_module": "@jupyter-widgets/base",
      "model_module_version": "1.2.0",
      "model_name": "LayoutModel",
      "state": {}
     },
     "78d9c3afe5a8484c97d28aab6b43fb8f": {
      "model_module": "@jupyter-widgets/base",
      "model_module_version": "1.2.0",
      "model_name": "LayoutModel",
      "state": {}
     },
     "78e526668faf43249521a20d957670f7": {
      "model_module": "@jupyter-widgets/base",
      "model_module_version": "1.2.0",
      "model_name": "LayoutModel",
      "state": {
       "display": "inline-flex",
       "flex_flow": "row wrap",
       "width": "100%"
      }
     },
     "79a7273268e24f37a90507511048f395": {
      "model_module": "@jupyter-widgets/controls",
      "model_module_version": "1.5.0",
      "model_name": "DescriptionStyleModel",
      "state": {
       "description_width": ""
      }
     },
     "7a1dbecd0205496daf7e9cbff9a6dde7": {
      "model_module": "@jupyter-widgets/controls",
      "model_module_version": "1.5.0",
      "model_name": "HTMLModel",
      "state": {
       "layout": "IPY_MODEL_363f558b7d944935a32ac0cc232cef88",
       "style": "IPY_MODEL_749c8458a2414848bf9b22a3091b824f",
       "value": "recordings[ 0]:"
      }
     },
     "7a3b0620f9a548e1b6190308ddb890cd": {
      "model_module": "@jupyter-widgets/controls",
      "model_module_version": "1.5.0",
      "model_name": "HTMLModel",
      "state": {
       "layout": "IPY_MODEL_8221911410ab41af9de4ce6ece950fb9",
       "style": "IPY_MODEL_79a7273268e24f37a90507511048f395",
       "value": "100% 7/7, file=lsl_try1.xdf in 0.32s"
      }
     },
     "7a517837f32f462f93b46701b28a7514": {
      "model_module": "@jupyter-widgets/controls",
      "model_module_version": "1.5.0",
      "model_name": "HTMLModel",
      "state": {
       "layout": "IPY_MODEL_5777b2c2a77a4fc5a3d3ff8a578c5ccc",
       "style": "IPY_MODEL_f574a8b4957d405081614fade543404d",
       "value": "100% 1/1 in 0.27s"
      }
     },
     "7a7963d596c44e33b2ccb97c21b7c14a": {
      "model_module": "@jupyter-widgets/controls",
      "model_module_version": "1.5.0",
      "model_name": "DescriptionStyleModel",
      "state": {
       "description_width": ""
      }
     },
     "7a998d16682141afb6795ca38a732b6b": {
      "model_module": "@jupyter-widgets/controls",
      "model_module_version": "1.5.0",
      "model_name": "HTMLModel",
      "state": {
       "layout": "IPY_MODEL_85a04d028108449689c1d9d617d41fee",
       "style": "IPY_MODEL_da33b0d5cdb245ebaa18c161af7d7edd",
       "value": "  0% 0/1 in 0.27s"
      }
     },
     "7b80ed269f1748368534341d7c2576be": {
      "model_module": "@jupyter-widgets/controls",
      "model_module_version": "1.5.0",
      "model_name": "FloatProgressModel",
      "state": {
       "bar_style": "danger",
       "layout": "IPY_MODEL_381802562af44d6aaf66ad2afe562d05",
       "max": 7,
       "style": "IPY_MODEL_5be3d2c7a2bf4950ba147ebb7d1f98e6"
      }
     },
     "7b88b4cb86e04f88bc22afa20c18d835": {
      "model_module": "@jupyter-widgets/controls",
      "model_module_version": "1.5.0",
      "model_name": "HBoxModel",
      "state": {
       "children": [
        "IPY_MODEL_cedf7f7f96b045de9398c68faf4385a7",
        "IPY_MODEL_8795b86ff1fe482aab9ae873bac8d604",
        "IPY_MODEL_896dd574fe3d473489bb0e6d73703590"
       ],
       "layout": "IPY_MODEL_a25fdf71e7cc462886a20e2586d963f1"
      }
     },
     "7c04823a31b84729a9b4a6c99fa1cccc": {
      "model_module": "@jupyter-widgets/controls",
      "model_module_version": "1.5.0",
      "model_name": "HBoxModel",
      "state": {
       "children": [
        "IPY_MODEL_0befa1dadefd48c2819273f3086eee2f",
        "IPY_MODEL_b1678ae0da024d33a42dc5f41d7f4ce8",
        "IPY_MODEL_4c39313aafe847e1a9555187ebee3dae"
       ],
       "layout": "IPY_MODEL_46e7deded47d44a9a68ff153a4244377"
      }
     },
     "7c0c54f784bc47c2a9477ea744cf2bff": {
      "model_module": "@jupyter-widgets/base",
      "model_module_version": "1.2.0",
      "model_name": "LayoutModel",
      "state": {}
     },
     "7c7947faaad94075b758463fe8f0eadd": {
      "model_module": "@jupyter-widgets/base",
      "model_module_version": "1.2.0",
      "model_name": "LayoutModel",
      "state": {}
     },
     "7cbc3f01a8334e62bff89081af3150fe": {
      "model_module": "@jupyter-widgets/controls",
      "model_module_version": "1.5.0",
      "model_name": "HTMLModel",
      "state": {
       "layout": "IPY_MODEL_38ab15cdc4b946f1bda3d47127f502ae",
       "style": "IPY_MODEL_91cd884328b94c8f9f3309715c68e75f",
       "value": " 14% 1/7, step=2. Store selected stream info, file=lsl_try1.xdf in 1645.24s"
      }
     },
     "7d14472e2f5f477b94ac037734f0903a": {
      "model_module": "@jupyter-widgets/controls",
      "model_module_version": "1.5.0",
      "model_name": "HTMLModel",
      "state": {
       "layout": "IPY_MODEL_8492201f74f74f238941d8dbbf45a9a4",
       "style": "IPY_MODEL_bbb1200ade6c453897ab3f8ea806fbb1",
       "value": " 57% 4/7, step=4. Compare streams timestamps distance and order, file=lsl_try1.xdf in 1099.54s"
      }
     },
     "7d76382a2a9a497d88177f9fd45b7e59": {
      "model_module": "@jupyter-widgets/controls",
      "model_module_version": "1.5.0",
      "model_name": "HTMLModel",
      "state": {
       "layout": "IPY_MODEL_974f79f18908442a9962242609d51731",
       "style": "IPY_MODEL_cdf36e30e679496ca1a9a95f9f4bf431",
       "value": "recordings[ 0]:"
      }
     },
     "7e5fdba5ced14edf8417e0f88de6afe3": {
      "model_module": "@jupyter-widgets/base",
      "model_module_version": "1.2.0",
      "model_name": "LayoutModel",
      "state": {}
     },
     "7eb1208b0901441da464b5fa5e11fcf4": {
      "model_module": "@jupyter-widgets/controls",
      "model_module_version": "1.5.0",
      "model_name": "DescriptionStyleModel",
      "state": {
       "description_width": ""
      }
     },
     "7f05bbf0c7654039bd87060e8f42fa8e": {
      "model_module": "@jupyter-widgets/base",
      "model_module_version": "1.2.0",
      "model_name": "LayoutModel",
      "state": {
       "display": "inline-flex",
       "flex_flow": "row wrap",
       "width": "100%"
      }
     },
     "7f34c79792a6469f81a2f7b3d18f9719": {
      "model_module": "@jupyter-widgets/controls",
      "model_module_version": "1.5.0",
      "model_name": "ProgressStyleModel",
      "state": {
       "description_width": ""
      }
     },
     "7f4d3e85ad3a4e148bbc9262e60280c4": {
      "model_module": "@jupyter-widgets/controls",
      "model_module_version": "1.5.0",
      "model_name": "ProgressStyleModel",
      "state": {
       "description_width": ""
      }
     },
     "7f995b7070a84be3b08eea10b9ba8046": {
      "model_module": "@jupyter-widgets/controls",
      "model_module_version": "1.5.0",
      "model_name": "DescriptionStyleModel",
      "state": {
       "description_width": ""
      }
     },
     "806703bb76db4961811d4e71c22799c5": {
      "model_module": "@jupyter-widgets/controls",
      "model_module_version": "1.5.0",
      "model_name": "HTMLModel",
      "state": {
       "layout": "IPY_MODEL_5b73db4d127b4b2f88e9220776b98ea3",
       "style": "IPY_MODEL_551067133bba4962885b8d4bb82f96f1",
       "value": "Processed:"
      }
     },
     "8096ef9623ad4eb9b9f2ca402f02c41c": {
      "model_module": "@jupyter-widgets/base",
      "model_module_version": "1.2.0",
      "model_name": "LayoutModel",
      "state": {}
     },
     "8105c5fd2b2e438faf848282ad0bec96": {
      "model_module": "@jupyter-widgets/controls",
      "model_module_version": "1.5.0",
      "model_name": "HTMLModel",
      "state": {
       "layout": "IPY_MODEL_d7db0164fc3b4f4dbc73cf3f66776959",
       "style": "IPY_MODEL_5a199281ceb54592b06d064cf17c1226",
       "value": " 14% 1/7, step=2. Store selected stream info, file=lsl_try1.xdf in 214.45s"
      }
     },
     "813b2f6df2274702947bd06c67755317": {
      "model_module": "@jupyter-widgets/controls",
      "model_module_version": "1.5.0",
      "model_name": "HTMLModel",
      "state": {
       "layout": "IPY_MODEL_0b772b06512d47f6a2abc14f358ecd3a",
       "style": "IPY_MODEL_b36ac78feea14f0192322c377f6da0b7",
       "value": " 14% 1/7, step=2. Store selected stream info, file=lsl_try1.xdf in 271.12s"
      }
     },
     "8206a151811d4f4cb0b8afa32833add4": {
      "model_module": "@jupyter-widgets/base",
      "model_module_version": "1.2.0",
      "model_name": "LayoutModel",
      "state": {
       "flex": "2"
      }
     },
     "8221911410ab41af9de4ce6ece950fb9": {
      "model_module": "@jupyter-widgets/base",
      "model_module_version": "1.2.0",
      "model_name": "LayoutModel",
      "state": {}
     },
     "824b30c4aab343159611cb45c623eb19": {
      "model_module": "@jupyter-widgets/base",
      "model_module_version": "1.2.0",
      "model_name": "LayoutModel",
      "state": {}
     },
     "83329e607e3b4a8b8063df8c74b6fef8": {
      "model_module": "@jupyter-widgets/base",
      "model_module_version": "1.2.0",
      "model_name": "LayoutModel",
      "state": {
       "display": "inline-flex",
       "flex_flow": "row wrap",
       "width": "100%"
      }
     },
     "83670688b39749fd99567772b6efc7dd": {
      "model_module": "@jupyter-widgets/base",
      "model_module_version": "1.2.0",
      "model_name": "LayoutModel",
      "state": {}
     },
     "83801abb81f249a68df9ed47de2523af": {
      "model_module": "@jupyter-widgets/base",
      "model_module_version": "1.2.0",
      "model_name": "LayoutModel",
      "state": {
       "display": "inline-flex",
       "flex_flow": "row wrap",
       "width": "100%"
      }
     },
     "83877181259540a8afe848c8962a2a22": {
      "model_module": "@jupyter-widgets/controls",
      "model_module_version": "1.5.0",
      "model_name": "DescriptionStyleModel",
      "state": {
       "description_width": ""
      }
     },
     "83b1829387834ac1a58849a4580885ad": {
      "model_module": "@jupyter-widgets/controls",
      "model_module_version": "1.5.0",
      "model_name": "DescriptionStyleModel",
      "state": {
       "description_width": ""
      }
     },
     "84258189d2f8498f88e2dcc65dc990a0": {
      "model_module": "@jupyter-widgets/controls",
      "model_module_version": "1.5.0",
      "model_name": "FloatProgressModel",
      "state": {
       "bar_style": "danger",
       "layout": "IPY_MODEL_3292e31a29bc4404bcc86891508f3c60",
       "max": 1,
       "style": "IPY_MODEL_b297ad005e564e858c5696eaf4d51623"
      }
     },
     "845568636adc42508ebb6b33fe780870": {
      "model_module": "@jupyter-widgets/base",
      "model_module_version": "1.2.0",
      "model_name": "LayoutModel",
      "state": {}
     },
     "8482d278c4f34a779b2131d6149b2e93": {
      "model_module": "@jupyter-widgets/controls",
      "model_module_version": "1.5.0",
      "model_name": "HTMLModel",
      "state": {
       "layout": "IPY_MODEL_912eb075a0f841ff87a6e594fa642e1e",
       "style": "IPY_MODEL_d732b8b3a31f4e468b632a54e867631e",
       "value": "recordings[ 0]:"
      }
     },
     "8492201f74f74f238941d8dbbf45a9a4": {
      "model_module": "@jupyter-widgets/base",
      "model_module_version": "1.2.0",
      "model_name": "LayoutModel",
      "state": {}
     },
     "84d2bdfb32af4083925f6ec59f759611": {
      "model_module": "@jupyter-widgets/base",
      "model_module_version": "1.2.0",
      "model_name": "LayoutModel",
      "state": {}
     },
     "8558f121e13f4953b1dcea87c93a6ae9": {
      "model_module": "@jupyter-widgets/controls",
      "model_module_version": "1.5.0",
      "model_name": "DescriptionStyleModel",
      "state": {
       "description_width": ""
      }
     },
     "85a04d028108449689c1d9d617d41fee": {
      "model_module": "@jupyter-widgets/base",
      "model_module_version": "1.2.0",
      "model_name": "LayoutModel",
      "state": {}
     },
     "85b1552b1721497e90f07691363e81ad": {
      "model_module": "@jupyter-widgets/base",
      "model_module_version": "1.2.0",
      "model_name": "LayoutModel",
      "state": {
       "display": "inline-flex",
       "flex_flow": "row wrap",
       "width": "100%"
      }
     },
     "85c47e47ba3f4c16bb801fa74e947d97": {
      "model_module": "@jupyter-widgets/base",
      "model_module_version": "1.2.0",
      "model_name": "LayoutModel",
      "state": {}
     },
     "85ef7bc8f3a7424ab41757ef0d3a3cf0": {
      "model_module": "@jupyter-widgets/controls",
      "model_module_version": "1.5.0",
      "model_name": "DescriptionStyleModel",
      "state": {
       "description_width": ""
      }
     },
     "860732f386bd4b3d846a94f8a669d069": {
      "model_module": "@jupyter-widgets/base",
      "model_module_version": "1.2.0",
      "model_name": "LayoutModel",
      "state": {
       "flex": "2"
      }
     },
     "860b1d0fea4042fbacc61418713e339d": {
      "model_module": "@jupyter-widgets/controls",
      "model_module_version": "1.5.0",
      "model_name": "ProgressStyleModel",
      "state": {
       "description_width": ""
      }
     },
     "8633d3a05b3b477db40f8ca108d01882": {
      "model_module": "@jupyter-widgets/base",
      "model_module_version": "1.2.0",
      "model_name": "LayoutModel",
      "state": {}
     },
     "8652fd3020734e23a6f82b4b54283637": {
      "model_module": "@jupyter-widgets/controls",
      "model_module_version": "1.5.0",
      "model_name": "DescriptionStyleModel",
      "state": {
       "description_width": ""
      }
     },
     "868c88e2f6e64187a16fb1c86951a526": {
      "model_module": "@jupyter-widgets/base",
      "model_module_version": "1.2.0",
      "model_name": "LayoutModel",
      "state": {
       "display": "inline-flex",
       "flex_flow": "row wrap",
       "width": "100%"
      }
     },
     "86bbd815b45c40f9956095771c24107b": {
      "model_module": "@jupyter-widgets/controls",
      "model_module_version": "1.5.0",
      "model_name": "HBoxModel",
      "state": {
       "children": [
        "IPY_MODEL_90d405d2abbe4dd987f443e3c5dff746",
        "IPY_MODEL_aba33cd211f847e796581ff623673096",
        "IPY_MODEL_7055eede75f8428cb88d4b404c7beb1d"
       ],
       "layout": "IPY_MODEL_6031d40f57254ddd84b044d799723524"
      }
     },
     "8729d03e95d649abb11b1752fdbf24e3": {
      "model_module": "@jupyter-widgets/controls",
      "model_module_version": "1.5.0",
      "model_name": "HTMLModel",
      "state": {
       "layout": "IPY_MODEL_3f7f4933965146019f14dbae8e7e6527",
       "style": "IPY_MODEL_f29c27fb68ab411192e7e4fd97a043c6",
       "value": "100% 1/1 in 0.33s"
      }
     },
     "87807c1e914c4cae80aa2c844ff5768b": {
      "model_module": "@jupyter-widgets/controls",
      "model_module_version": "1.5.0",
      "model_name": "FloatProgressModel",
      "state": {
       "bar_style": "danger",
       "layout": "IPY_MODEL_98c633b292874823bc18cb1681f46b45",
       "max": 7,
       "style": "IPY_MODEL_3aec6555e6c74ad9a9b02cd166342047",
       "value": 1
      }
     },
     "8795b86ff1fe482aab9ae873bac8d604": {
      "model_module": "@jupyter-widgets/controls",
      "model_module_version": "1.5.0",
      "model_name": "FloatProgressModel",
      "state": {
       "bar_style": "success",
       "layout": "IPY_MODEL_cd4d399f91ed46f68b59467d332c169c",
       "max": 1,
       "style": "IPY_MODEL_08948b622e4640199dbe84bbfe05f45a",
       "value": 1
      }
     },
     "87c2856f0ed44ffca1be76b1fa4fbf0d": {
      "model_module": "@jupyter-widgets/base",
      "model_module_version": "1.2.0",
      "model_name": "LayoutModel",
      "state": {
       "flex": "2"
      }
     },
     "882333d22e5244068febac4e9a0dacd8": {
      "model_module": "@jupyter-widgets/base",
      "model_module_version": "1.2.0",
      "model_name": "LayoutModel",
      "state": {
       "display": "inline-flex",
       "flex_flow": "row wrap",
       "width": "100%"
      }
     },
     "884d22ed5de84b929824b1d09b3d2509": {
      "model_module": "@jupyter-widgets/controls",
      "model_module_version": "1.5.0",
      "model_name": "DescriptionStyleModel",
      "state": {
       "description_width": ""
      }
     },
     "888b35446aad4409bc233cee44caf4f5": {
      "model_module": "@jupyter-widgets/base",
      "model_module_version": "1.2.0",
      "model_name": "LayoutModel",
      "state": {}
     },
     "88fa50ff8be445c6ba2672d8ad39fc9b": {
      "model_module": "@jupyter-widgets/controls",
      "model_module_version": "1.5.0",
      "model_name": "HBoxModel",
      "state": {
       "children": [
        "IPY_MODEL_7d76382a2a9a497d88177f9fd45b7e59",
        "IPY_MODEL_5b65b24bb5ee46d9853110517106b03c",
        "IPY_MODEL_a6523bfca2374a5da93938ede4531a09"
       ],
       "layout": "IPY_MODEL_f2180249d8bd4ab0b8a0a7eb544241d2"
      }
     },
     "896627c5993c4adab33ec7dfe5e475a8": {
      "model_module": "@jupyter-widgets/controls",
      "model_module_version": "1.5.0",
      "model_name": "ProgressStyleModel",
      "state": {
       "description_width": ""
      }
     },
     "896dd574fe3d473489bb0e6d73703590": {
      "model_module": "@jupyter-widgets/controls",
      "model_module_version": "1.5.0",
      "model_name": "HTMLModel",
      "state": {
       "layout": "IPY_MODEL_6bf58b58095f450d878dbd5c3b9337d9",
       "style": "IPY_MODEL_83877181259540a8afe848c8962a2a22",
       "value": "100% 1/1 in 0.27s"
      }
     },
     "89f0720cedac4a55849f103d91862915": {
      "model_module": "@jupyter-widgets/controls",
      "model_module_version": "1.5.0",
      "model_name": "ProgressStyleModel",
      "state": {
       "description_width": ""
      }
     },
     "8a2f282553bf445e9044fa467fbf9e2c": {
      "model_module": "@jupyter-widgets/base",
      "model_module_version": "1.2.0",
      "model_name": "LayoutModel",
      "state": {
       "flex": "2"
      }
     },
     "8b2765273cbd48839b3469b1a0375799": {
      "model_module": "@jupyter-widgets/base",
      "model_module_version": "1.2.0",
      "model_name": "LayoutModel",
      "state": {
       "display": "inline-flex",
       "flex_flow": "row wrap",
       "width": "100%"
      }
     },
     "8b6d40629bee4bca856917139381c0fc": {
      "model_module": "@jupyter-widgets/controls",
      "model_module_version": "1.5.0",
      "model_name": "HBoxModel",
      "state": {
       "children": [
        "IPY_MODEL_54bef8ce0fb6406491881167502c29d1",
        "IPY_MODEL_b11ed354eff14cacb325daafb9409f6f",
        "IPY_MODEL_abbe9597580247fc975703ae68bdfbb7"
       ],
       "layout": "IPY_MODEL_e012b23cdcd244db9c832e079ba0e849"
      }
     },
     "8bda61ec6e2c4c058e66ecb22b342334": {
      "model_module": "@jupyter-widgets/controls",
      "model_module_version": "1.5.0",
      "model_name": "ProgressStyleModel",
      "state": {
       "description_width": ""
      }
     },
     "8bec103579d149a48cb85ddb605cf82f": {
      "model_module": "@jupyter-widgets/controls",
      "model_module_version": "1.5.0",
      "model_name": "DescriptionStyleModel",
      "state": {
       "description_width": ""
      }
     },
     "8c9728ddd709413aaa90f7563fbd9b7a": {
      "model_module": "@jupyter-widgets/controls",
      "model_module_version": "1.5.0",
      "model_name": "HTMLModel",
      "state": {
       "layout": "IPY_MODEL_368bfa2881f846b8bf3c6e00046af406",
       "style": "IPY_MODEL_7a7963d596c44e33b2ccb97c21b7c14a",
       "value": "recordings[ 0]:"
      }
     },
     "8cb7ab5ff2774b93b57d9e0d350aa8c6": {
      "model_module": "@jupyter-widgets/base",
      "model_module_version": "1.2.0",
      "model_name": "LayoutModel",
      "state": {}
     },
     "8d98d7d407a34507a0ed4ef59ad10b1c": {
      "model_module": "@jupyter-widgets/base",
      "model_module_version": "1.2.0",
      "model_name": "LayoutModel",
      "state": {
       "display": "inline-flex",
       "flex_flow": "row wrap",
       "width": "100%"
      }
     },
     "8decb04a52904d8a8ddb21433a78030d": {
      "model_module": "@jupyter-widgets/controls",
      "model_module_version": "1.5.0",
      "model_name": "HTMLModel",
      "state": {
       "layout": "IPY_MODEL_78d9c3afe5a8484c97d28aab6b43fb8f",
       "style": "IPY_MODEL_b8f564e4a4f344c5853a8baabd1b15a0",
       "value": "  0% 0/7, step=1. Load the XDF file, file=lsl_try1.xdf in 61.45s"
      }
     },
     "8e24946699ae4d64a9451999625e717f": {
      "model_module": "@jupyter-widgets/controls",
      "model_module_version": "1.5.0",
      "model_name": "DescriptionStyleModel",
      "state": {
       "description_width": ""
      }
     },
     "8e2c3d5375d04c4f980d05140769f70a": {
      "model_module": "@jupyter-widgets/controls",
      "model_module_version": "1.5.0",
      "model_name": "HBoxModel",
      "state": {
       "children": [
        "IPY_MODEL_91fa04901dcd4ec3bf301013aa56760b",
        "IPY_MODEL_d1521083e882412c89db0ecf16bc74c3",
        "IPY_MODEL_4d7bb56abb13496a87261da08d00eb46"
       ],
       "layout": "IPY_MODEL_b23a9bcc0abe49f3acac6612254dc493"
      }
     },
     "8e447d035c7a4aef99cdb9ba05afb8cf": {
      "model_module": "@jupyter-widgets/controls",
      "model_module_version": "1.5.0",
      "model_name": "HBoxModel",
      "state": {
       "children": [
        "IPY_MODEL_9e0375f30ec346e1bf849ca78a4f830d",
        "IPY_MODEL_d45093eaa67740a790a8c2694127f8b1",
        "IPY_MODEL_68cfd5d56e0f4af7af12f3451473d8d2"
       ],
       "layout": "IPY_MODEL_06c352fe48f64902a37bd0e4ec2e7cac"
      }
     },
     "8e66143ec0814a089fcb1b420ca9f7a1": {
      "model_module": "@jupyter-widgets/controls",
      "model_module_version": "1.5.0",
      "model_name": "HTMLModel",
      "state": {
       "layout": "IPY_MODEL_94ec56225b2540ed8686d3b48a351d9f",
       "style": "IPY_MODEL_1a042748a1e0416587bdb89d4241919a",
       "value": "Processed:"
      }
     },
     "8eb85998378940a7952128d3ff79f6d1": {
      "model_module": "@jupyter-widgets/base",
      "model_module_version": "1.2.0",
      "model_name": "LayoutModel",
      "state": {}
     },
     "8ecb0235a51444ceb187830e48a841fe": {
      "model_module": "@jupyter-widgets/base",
      "model_module_version": "1.2.0",
      "model_name": "LayoutModel",
      "state": {}
     },
     "8f0195503b8844b7a9c9da545381ff4d": {
      "model_module": "@jupyter-widgets/base",
      "model_module_version": "1.2.0",
      "model_name": "LayoutModel",
      "state": {}
     },
     "8f1f7641f8f24257885cfea2b2b21d7a": {
      "model_module": "@jupyter-widgets/controls",
      "model_module_version": "1.5.0",
      "model_name": "DescriptionStyleModel",
      "state": {
       "description_width": ""
      }
     },
     "8f2856b960d64823ada2374a311baadf": {
      "model_module": "@jupyter-widgets/controls",
      "model_module_version": "1.5.0",
      "model_name": "DescriptionStyleModel",
      "state": {
       "description_width": ""
      }
     },
     "8f34c8bf234f4eef9be94eab613ffe6a": {
      "model_module": "@jupyter-widgets/controls",
      "model_module_version": "1.5.0",
      "model_name": "HBoxModel",
      "state": {
       "children": [
        "IPY_MODEL_708c676807cb49479b849fa09d14f02c",
        "IPY_MODEL_a5caefa8188c44f1b267be701e2cfb35",
        "IPY_MODEL_7d14472e2f5f477b94ac037734f0903a"
       ],
       "layout": "IPY_MODEL_a6123976f84341ffb950ce40e691166e"
      }
     },
     "8f38cfe5c45a4b9d9ca0fd4878743c8e": {
      "model_module": "@jupyter-widgets/controls",
      "model_module_version": "1.5.0",
      "model_name": "FloatProgressModel",
      "state": {
       "bar_style": "danger",
       "layout": "IPY_MODEL_3b6dde2a0a18467eb449a2f7339debe4",
       "max": 7,
       "style": "IPY_MODEL_0cca0240bebe4353bf6115ce1b65bd4b",
       "value": 1
      }
     },
     "8fa03c00193047578e62dc8c5ccacd24": {
      "model_module": "@jupyter-widgets/base",
      "model_module_version": "1.2.0",
      "model_name": "LayoutModel",
      "state": {
       "display": "inline-flex",
       "flex_flow": "row wrap",
       "width": "100%"
      }
     },
     "8fc67c2e986c41fda0d3b801c26730c2": {
      "model_module": "@jupyter-widgets/controls",
      "model_module_version": "1.5.0",
      "model_name": "HTMLModel",
      "state": {
       "layout": "IPY_MODEL_dad74130c97d481087f29aad99813b75",
       "style": "IPY_MODEL_dd1271af17e44dedba586ee514c12c12",
       "value": "100% 7/7, file=lsl_try1.xdf in 0.32s"
      }
     },
     "8fca6265e79048c09a67f81bfe634c77": {
      "model_module": "@jupyter-widgets/base",
      "model_module_version": "1.2.0",
      "model_name": "LayoutModel",
      "state": {}
     },
     "8fec3f22c2d24bddb294a5cbbba2d9b7": {
      "model_module": "@jupyter-widgets/base",
      "model_module_version": "1.2.0",
      "model_name": "LayoutModel",
      "state": {}
     },
     "9031cbf87e7a4035977afc06ce86019a": {
      "model_module": "@jupyter-widgets/controls",
      "model_module_version": "1.5.0",
      "model_name": "HTMLModel",
      "state": {
       "layout": "IPY_MODEL_57d4da4894cd44f188820822a6a226f2",
       "style": "IPY_MODEL_4d93f55224ec49abbcee2257720164eb",
       "value": "recordings[ 2]:"
      }
     },
     "904182d9e5574889a93b41fdacddd354": {
      "model_module": "@jupyter-widgets/base",
      "model_module_version": "1.2.0",
      "model_name": "LayoutModel",
      "state": {}
     },
     "90c56c35af9644b2a194fb3bcb87a5ea": {
      "model_module": "@jupyter-widgets/base",
      "model_module_version": "1.2.0",
      "model_name": "LayoutModel",
      "state": {}
     },
     "90d405d2abbe4dd987f443e3c5dff746": {
      "model_module": "@jupyter-widgets/controls",
      "model_module_version": "1.5.0",
      "model_name": "HTMLModel",
      "state": {
       "layout": "IPY_MODEL_a553a57746b74f1f930e5b84ecc1690d",
       "style": "IPY_MODEL_8f1f7641f8f24257885cfea2b2b21d7a",
       "value": "Processed:"
      }
     },
     "91297707b1d64fb48a61a5f74ec6722b": {
      "model_module": "@jupyter-widgets/controls",
      "model_module_version": "1.5.0",
      "model_name": "DescriptionStyleModel",
      "state": {
       "description_width": ""
      }
     },
     "912eb075a0f841ff87a6e594fa642e1e": {
      "model_module": "@jupyter-widgets/base",
      "model_module_version": "1.2.0",
      "model_name": "LayoutModel",
      "state": {}
     },
     "913ce884b3894590926b6a6a56c45d40": {
      "model_module": "@jupyter-widgets/controls",
      "model_module_version": "1.5.0",
      "model_name": "HTMLModel",
      "state": {
       "layout": "IPY_MODEL_21b7b6f52f694c51876ec433101d979d",
       "style": "IPY_MODEL_c632eaaf668f491f8ce66627dd4a0135",
       "value": "Processed:"
      }
     },
     "917a73828b494833b79788b990f52289": {
      "model_module": "@jupyter-widgets/base",
      "model_module_version": "1.2.0",
      "model_name": "LayoutModel",
      "state": {}
     },
     "9199705b52f7453dbca56f76fa0bdaba": {
      "model_module": "@jupyter-widgets/base",
      "model_module_version": "1.2.0",
      "model_name": "LayoutModel",
      "state": {
       "display": "inline-flex",
       "flex_flow": "row wrap",
       "width": "100%"
      }
     },
     "919efefe9eac4b839bfebf8347131657": {
      "model_module": "@jupyter-widgets/controls",
      "model_module_version": "1.5.0",
      "model_name": "ProgressStyleModel",
      "state": {
       "description_width": ""
      }
     },
     "91b13387b4e2458fbc820ebfa3a6475d": {
      "model_module": "@jupyter-widgets/controls",
      "model_module_version": "1.5.0",
      "model_name": "HTMLModel",
      "state": {
       "layout": "IPY_MODEL_7c0c54f784bc47c2a9477ea744cf2bff",
       "style": "IPY_MODEL_83b1829387834ac1a58849a4580885ad",
       "value": "Processed:"
      }
     },
     "91c0b701cff54bb788807f7df6cf26c9": {
      "model_module": "@jupyter-widgets/base",
      "model_module_version": "1.2.0",
      "model_name": "LayoutModel",
      "state": {
       "flex": "2"
      }
     },
     "91cd884328b94c8f9f3309715c68e75f": {
      "model_module": "@jupyter-widgets/controls",
      "model_module_version": "1.5.0",
      "model_name": "DescriptionStyleModel",
      "state": {
       "description_width": ""
      }
     },
     "91fa04901dcd4ec3bf301013aa56760b": {
      "model_module": "@jupyter-widgets/controls",
      "model_module_version": "1.5.0",
      "model_name": "HTMLModel",
      "state": {
       "layout": "IPY_MODEL_ab09f78f1b584a6a94a99a7a98b1e933",
       "style": "IPY_MODEL_f7c8232c1c3f4445b6951de4e38594b5",
       "value": "Processed:"
      }
     },
     "921c30e409d74d97bf8858eb7b67d530": {
      "model_module": "@jupyter-widgets/base",
      "model_module_version": "1.2.0",
      "model_name": "LayoutModel",
      "state": {}
     },
     "9222e8f9b44e4f8d93e908b59c7af345": {
      "model_module": "@jupyter-widgets/controls",
      "model_module_version": "1.5.0",
      "model_name": "HTMLModel",
      "state": {
       "layout": "IPY_MODEL_d8e5ea9432244151b1203f3c4dff02cd",
       "style": "IPY_MODEL_8f2856b960d64823ada2374a311baadf",
       "value": "Processed:"
      }
     },
     "9356943895584be6aa141590d51df8b9": {
      "model_module": "@jupyter-widgets/controls",
      "model_module_version": "1.5.0",
      "model_name": "HTMLModel",
      "state": {
       "layout": "IPY_MODEL_888b35446aad4409bc233cee44caf4f5",
       "style": "IPY_MODEL_e7d867da06da4fb18e2379326074e0c6",
       "value": " 14% 1/7, step=2. Store selected stream info, file=lsl_try1.xdf in 7.85s"
      }
     },
     "93799d7265524cfe89a7083c80f2c667": {
      "model_module": "@jupyter-widgets/controls",
      "model_module_version": "1.5.0",
      "model_name": "ProgressStyleModel",
      "state": {
       "description_width": ""
      }
     },
     "93d2dd5a736846f4b3f24ab836641464": {
      "model_module": "@jupyter-widgets/controls",
      "model_module_version": "1.5.0",
      "model_name": "HTMLModel",
      "state": {
       "layout": "IPY_MODEL_0384900bcb2748bc8915f09fb1c4e0ef",
       "style": "IPY_MODEL_1619876132b946b9bd9fd67332722284",
       "value": "Processed:"
      }
     },
     "9401192d226d4c77bd8aa1c550e24dda": {
      "model_module": "@jupyter-widgets/controls",
      "model_module_version": "1.5.0",
      "model_name": "FloatProgressModel",
      "state": {
       "bar_style": "danger",
       "layout": "IPY_MODEL_c97cbb7b7f2f43008b37f00c09bdd651",
       "max": 7,
       "style": "IPY_MODEL_e78292b21a3c46eaaa65fa6cd19f74b1",
       "value": 1
      }
     },
     "94274166527c4da88d4dde5866eab02f": {
      "model_module": "@jupyter-widgets/controls",
      "model_module_version": "1.5.0",
      "model_name": "HTMLModel",
      "state": {
       "layout": "IPY_MODEL_bffb64ec45874806909e9b9017861f6e",
       "style": "IPY_MODEL_91297707b1d64fb48a61a5f74ec6722b",
       "value": "100% 1/1 in 0.32s"
      }
     },
     "949dc0d707d84963a44ce7ad960b6bbd": {
      "model_module": "@jupyter-widgets/controls",
      "model_module_version": "1.5.0",
      "model_name": "HTMLModel",
      "state": {
       "layout": "IPY_MODEL_daf94bd8e9974240a82b285f3a28f595",
       "style": "IPY_MODEL_d48d5c34ddeb462c8eb2ef5c7dc0cf02",
       "value": "100% 1/1 in 0.33s"
      }
     },
     "94ec56225b2540ed8686d3b48a351d9f": {
      "model_module": "@jupyter-widgets/base",
      "model_module_version": "1.2.0",
      "model_name": "LayoutModel",
      "state": {}
     },
     "955ce26acfc04792852481e909d70139": {
      "model_module": "@jupyter-widgets/base",
      "model_module_version": "1.2.0",
      "model_name": "LayoutModel",
      "state": {}
     },
     "956ba19ea45f4906b33c57f43e677011": {
      "model_module": "@jupyter-widgets/controls",
      "model_module_version": "1.5.0",
      "model_name": "FloatProgressModel",
      "state": {
       "bar_style": "danger",
       "layout": "IPY_MODEL_8fca6265e79048c09a67f81bfe634c77",
       "max": 7,
       "style": "IPY_MODEL_27487479b65b47e4a937d224cbab7cb8",
       "value": 3
      }
     },
     "96405aea16ce4b83ab56459db7d302fc": {
      "model_module": "@jupyter-widgets/base",
      "model_module_version": "1.2.0",
      "model_name": "LayoutModel",
      "state": {}
     },
     "96544c5a87474a9687664e656dff1ff7": {
      "model_module": "@jupyter-widgets/controls",
      "model_module_version": "1.5.0",
      "model_name": "ProgressStyleModel",
      "state": {
       "description_width": ""
      }
     },
     "96e254c1df834a97ae0504ff515fa659": {
      "model_module": "@jupyter-widgets/base",
      "model_module_version": "1.2.0",
      "model_name": "LayoutModel",
      "state": {}
     },
     "974f79f18908442a9962242609d51731": {
      "model_module": "@jupyter-widgets/base",
      "model_module_version": "1.2.0",
      "model_name": "LayoutModel",
      "state": {}
     },
     "97bd460d3d6a4e3aada0ab6794d894bb": {
      "model_module": "@jupyter-widgets/base",
      "model_module_version": "1.2.0",
      "model_name": "LayoutModel",
      "state": {
       "display": "inline-flex",
       "flex_flow": "row wrap",
       "width": "100%"
      }
     },
     "984db3153cee4181ba9bceb2d784cb19": {
      "model_module": "@jupyter-widgets/base",
      "model_module_version": "1.2.0",
      "model_name": "LayoutModel",
      "state": {}
     },
     "98bff91aa1c74e5dbe5bf0bd3d0a272e": {
      "model_module": "@jupyter-widgets/base",
      "model_module_version": "1.2.0",
      "model_name": "LayoutModel",
      "state": {}
     },
     "98c633b292874823bc18cb1681f46b45": {
      "model_module": "@jupyter-widgets/base",
      "model_module_version": "1.2.0",
      "model_name": "LayoutModel",
      "state": {}
     },
     "994a4c1eed374b5aa7419a5cd1780d82": {
      "model_module": "@jupyter-widgets/controls",
      "model_module_version": "1.5.0",
      "model_name": "HBoxModel",
      "state": {
       "children": [
        "IPY_MODEL_1578c4d5d64f4973ba68e043605a4aaf",
        "IPY_MODEL_07ab0cf126df4e468d209bc7fb11d2e9",
        "IPY_MODEL_a83cad3994dc4056a99876a62094fd4c"
       ],
       "layout": "IPY_MODEL_78e526668faf43249521a20d957670f7"
      }
     },
     "9a0362605d394f93b9b63aed98b7ac62": {
      "model_module": "@jupyter-widgets/controls",
      "model_module_version": "1.5.0",
      "model_name": "DescriptionStyleModel",
      "state": {
       "description_width": ""
      }
     },
     "9b5ddd14abb44a6890e9ac7ba5354bc9": {
      "model_module": "@jupyter-widgets/controls",
      "model_module_version": "1.5.0",
      "model_name": "DescriptionStyleModel",
      "state": {
       "description_width": ""
      }
     },
     "9bd2081c6fb54d9da9d08858ca380fc5": {
      "model_module": "@jupyter-widgets/controls",
      "model_module_version": "1.5.0",
      "model_name": "DescriptionStyleModel",
      "state": {
       "description_width": ""
      }
     },
     "9c11f8183c3340ee85199923e781185f": {
      "model_module": "@jupyter-widgets/base",
      "model_module_version": "1.2.0",
      "model_name": "LayoutModel",
      "state": {}
     },
     "9c8135bade2a4773851a456f021d7968": {
      "model_module": "@jupyter-widgets/controls",
      "model_module_version": "1.5.0",
      "model_name": "HTMLModel",
      "state": {
       "layout": "IPY_MODEL_51098e12f4f14634b14d4a6ce37ecf30",
       "style": "IPY_MODEL_575e74fa429b498fb461182cad6f7326",
       "value": "recordings[ 0]:"
      }
     },
     "9c87ebb6c6fb457faa72345222a2d7a0": {
      "model_module": "@jupyter-widgets/base",
      "model_module_version": "1.2.0",
      "model_name": "LayoutModel",
      "state": {}
     },
     "9cc00028399f44b4814b97d6df0577ba": {
      "model_module": "@jupyter-widgets/controls",
      "model_module_version": "1.5.0",
      "model_name": "ProgressStyleModel",
      "state": {
       "description_width": ""
      }
     },
     "9d253d7d3f224e7b96d9e37338001381": {
      "model_module": "@jupyter-widgets/controls",
      "model_module_version": "1.5.0",
      "model_name": "ProgressStyleModel",
      "state": {
       "description_width": ""
      }
     },
     "9d48b7d0bd554e98887a745bbbef90ab": {
      "model_module": "@jupyter-widgets/controls",
      "model_module_version": "1.5.0",
      "model_name": "FloatProgressModel",
      "state": {
       "bar_style": "danger",
       "layout": "IPY_MODEL_5e9df3d52d5d4c4c868f9cd140a65cf6",
       "max": 7,
       "style": "IPY_MODEL_0c3a11aac8eb49efac72dab2a8081130",
       "value": 1
      }
     },
     "9d7f7511d6a2474388cbd744fb6f4b67": {
      "model_module": "@jupyter-widgets/base",
      "model_module_version": "1.2.0",
      "model_name": "LayoutModel",
      "state": {
       "display": "inline-flex",
       "flex_flow": "row wrap",
       "width": "100%"
      }
     },
     "9e0375f30ec346e1bf849ca78a4f830d": {
      "model_module": "@jupyter-widgets/controls",
      "model_module_version": "1.5.0",
      "model_name": "HTMLModel",
      "state": {
       "layout": "IPY_MODEL_4debd47bfdab4715b57106067129678f",
       "style": "IPY_MODEL_fd424b7a179045feb01149d21b97f407",
       "value": "recordings[ 0]:"
      }
     },
     "9e59a0462f0f4c2cbabe659259e0fe02": {
      "model_module": "@jupyter-widgets/base",
      "model_module_version": "1.2.0",
      "model_name": "LayoutModel",
      "state": {}
     },
     "9e8b646f6eff4bf7b9902bafc27204b8": {
      "model_module": "@jupyter-widgets/controls",
      "model_module_version": "1.5.0",
      "model_name": "FloatProgressModel",
      "state": {
       "bar_style": "success",
       "layout": "IPY_MODEL_db2a51e4bc1e44b98251e890874cd6b7",
       "max": 1,
       "style": "IPY_MODEL_c889e3534b8c4525844319dff2251833",
       "value": 1
      }
     },
     "9e9a9d3570264e6ea61e7bc03cd163ca": {
      "model_module": "@jupyter-widgets/controls",
      "model_module_version": "1.5.0",
      "model_name": "FloatProgressModel",
      "state": {
       "bar_style": "danger",
       "layout": "IPY_MODEL_efa75b04bb0547378cf986c29a1b8528",
       "max": 7,
       "style": "IPY_MODEL_3a05b8f4a9af40f0b92727a90afa98aa",
       "value": 1
      }
     },
     "9edba2520f8048cfb73c17e90514229c": {
      "model_module": "@jupyter-widgets/controls",
      "model_module_version": "1.5.0",
      "model_name": "HTMLModel",
      "state": {
       "layout": "IPY_MODEL_955ce26acfc04792852481e909d70139",
       "style": "IPY_MODEL_8e24946699ae4d64a9451999625e717f",
       "value": "Processed:"
      }
     },
     "9f48efcdb56c4d16928d604332db86d5": {
      "model_module": "@jupyter-widgets/controls",
      "model_module_version": "1.5.0",
      "model_name": "DescriptionStyleModel",
      "state": {
       "description_width": ""
      }
     },
     "a000741aa6ec468f99374a7a0f2cbf4b": {
      "model_module": "@jupyter-widgets/controls",
      "model_module_version": "1.5.0",
      "model_name": "HTMLModel",
      "state": {
       "layout": "IPY_MODEL_917a73828b494833b79788b990f52289",
       "style": "IPY_MODEL_5981ad25c1594577ba9fb3d5757e4b6d",
       "value": " 86% 6/7, step=7. Select and store EEG values, file=lsl_try1.xdf in 648.50s"
      }
     },
     "a01900d666624c8f9262b09c33ef9f11": {
      "model_module": "@jupyter-widgets/controls",
      "model_module_version": "1.5.0",
      "model_name": "HBoxModel",
      "state": {
       "children": [
        "IPY_MODEL_5832034274e748eb9f00abde57594410",
        "IPY_MODEL_ccb05225d77d46aa9c07a5b2b0bdfd68",
        "IPY_MODEL_c7f501ed14d74a39a8934bf267c18bde"
       ],
       "layout": "IPY_MODEL_ce9f78bce53c43b0984787a1019c8302"
      }
     },
     "a0a5cbb99d684feb85ea9d7ea27d7bee": {
      "model_module": "@jupyter-widgets/base",
      "model_module_version": "1.2.0",
      "model_name": "LayoutModel",
      "state": {}
     },
     "a191c40f96fa4b3ab58864b84d0cef0b": {
      "model_module": "@jupyter-widgets/controls",
      "model_module_version": "1.5.0",
      "model_name": "DescriptionStyleModel",
      "state": {
       "description_width": ""
      }
     },
     "a1cbcafd857a4ced95a010d85991e57c": {
      "model_module": "@jupyter-widgets/controls",
      "model_module_version": "1.5.0",
      "model_name": "HTMLModel",
      "state": {
       "layout": "IPY_MODEL_525742a8c2e24621b7dadeb0ecb12333",
       "style": "IPY_MODEL_884d22ed5de84b929824b1d09b3d2509",
       "value": "100% 7/7, file=lsl_try1.xdf in 0.32s"
      }
     },
     "a25fdf71e7cc462886a20e2586d963f1": {
      "model_module": "@jupyter-widgets/base",
      "model_module_version": "1.2.0",
      "model_name": "LayoutModel",
      "state": {
       "display": "inline-flex",
       "flex_flow": "row wrap",
       "width": "100%"
      }
     },
     "a281a99a837844aebe6daa3dfb30df59": {
      "model_module": "@jupyter-widgets/controls",
      "model_module_version": "1.5.0",
      "model_name": "FloatProgressModel",
      "state": {
       "bar_style": "success",
       "layout": "IPY_MODEL_075aa60e028c4936995ccb5f757bfa24",
       "max": 1,
       "style": "IPY_MODEL_93799d7265524cfe89a7083c80f2c667",
       "value": 1
      }
     },
     "a30dc72396e14007b42b341d456ed468": {
      "model_module": "@jupyter-widgets/base",
      "model_module_version": "1.2.0",
      "model_name": "LayoutModel",
      "state": {}
     },
     "a337d1d5a8694c548426d7e25200a27f": {
      "model_module": "@jupyter-widgets/controls",
      "model_module_version": "1.5.0",
      "model_name": "DescriptionStyleModel",
      "state": {
       "description_width": ""
      }
     },
     "a3a184554444480e99d51ed83abf2caf": {
      "model_module": "@jupyter-widgets/base",
      "model_module_version": "1.2.0",
      "model_name": "LayoutModel",
      "state": {
       "display": "inline-flex",
       "flex_flow": "row wrap",
       "width": "100%"
      }
     },
     "a464050228494fc08b2987c3cae46df9": {
      "model_module": "@jupyter-widgets/controls",
      "model_module_version": "1.5.0",
      "model_name": "HTMLModel",
      "state": {
       "layout": "IPY_MODEL_38e0dd29fb154907b8f01b402351da15",
       "style": "IPY_MODEL_b4e01bc8465d49b38b844ca7c11a0b47",
       "value": "recordings[ 0]:"
      }
     },
     "a52d8be411534b5c86309328a8bed248": {
      "model_module": "@jupyter-widgets/controls",
      "model_module_version": "1.5.0",
      "model_name": "HBoxModel",
      "state": {
       "children": [
        "IPY_MODEL_a464050228494fc08b2987c3cae46df9",
        "IPY_MODEL_ffee559d54ec4961b17dcfd1e598fb05",
        "IPY_MODEL_7a3b0620f9a548e1b6190308ddb890cd"
       ],
       "layout": "IPY_MODEL_9c11f8183c3340ee85199923e781185f"
      }
     },
     "a553a57746b74f1f930e5b84ecc1690d": {
      "model_module": "@jupyter-widgets/base",
      "model_module_version": "1.2.0",
      "model_name": "LayoutModel",
      "state": {}
     },
     "a5b390f4d133492185289f04749910b4": {
      "model_module": "@jupyter-widgets/controls",
      "model_module_version": "1.5.0",
      "model_name": "ProgressStyleModel",
      "state": {
       "description_width": ""
      }
     },
     "a5caefa8188c44f1b267be701e2cfb35": {
      "model_module": "@jupyter-widgets/controls",
      "model_module_version": "1.5.0",
      "model_name": "FloatProgressModel",
      "state": {
       "bar_style": "danger",
       "layout": "IPY_MODEL_4522e43e54f24307b653c02d2df80f88",
       "max": 7,
       "style": "IPY_MODEL_0adfebea3da74e83a4f09b14a37e6c14",
       "value": 4
      }
     },
     "a6123976f84341ffb950ce40e691166e": {
      "model_module": "@jupyter-widgets/base",
      "model_module_version": "1.2.0",
      "model_name": "LayoutModel",
      "state": {}
     },
     "a6523bfca2374a5da93938ede4531a09": {
      "model_module": "@jupyter-widgets/controls",
      "model_module_version": "1.5.0",
      "model_name": "HTMLModel",
      "state": {
       "layout": "IPY_MODEL_14a1770d467d4f2c85f8c02d399a47a4",
       "style": "IPY_MODEL_bf7b292f016a4dadbfe231d7e61ca58f",
       "value": " 14% 1/7, step=2. Store selected stream info, file=lsl_try1.xdf in 18.66s"
      }
     },
     "a70892513caa4a77ab4f8faf6b0d82d2": {
      "model_module": "@jupyter-widgets/controls",
      "model_module_version": "1.5.0",
      "model_name": "DescriptionStyleModel",
      "state": {
       "description_width": ""
      }
     },
     "a7113268b73d4e2a96bc756ab9616127": {
      "model_module": "@jupyter-widgets/base",
      "model_module_version": "1.2.0",
      "model_name": "LayoutModel",
      "state": {
       "flex": "2"
      }
     },
     "a72abf1b7ccf42b199fac607f1346837": {
      "model_module": "@jupyter-widgets/controls",
      "model_module_version": "1.5.0",
      "model_name": "FloatProgressModel",
      "state": {
       "bar_style": "danger",
       "layout": "IPY_MODEL_96405aea16ce4b83ab56459db7d302fc",
       "max": 7,
       "style": "IPY_MODEL_919efefe9eac4b839bfebf8347131657",
       "value": 5
      }
     },
     "a7c15228a83d43519236f63cd47d0c14": {
      "model_module": "@jupyter-widgets/controls",
      "model_module_version": "1.5.0",
      "model_name": "HTMLModel",
      "state": {
       "layout": "IPY_MODEL_301e1be4728d48e3b62a5cea08299771",
       "style": "IPY_MODEL_bbc38f8f1bba4ce886de3a069f20ec07",
       "value": "100% 1/1 in 0.28s"
      }
     },
     "a7e34d3fbfb24c16a5bc55e589929ff7": {
      "model_module": "@jupyter-widgets/controls",
      "model_module_version": "1.5.0",
      "model_name": "HBoxModel",
      "state": {
       "children": [
        "IPY_MODEL_4dcb8c5a1046478eb2e43d6e47831071",
        "IPY_MODEL_d6008debb57040e3b92887fe94522c89",
        "IPY_MODEL_72f522f61ad54489918e8b5f25fc0a60"
       ],
       "layout": "IPY_MODEL_2b6a9946c8d14260833734a77eda33fb"
      }
     },
     "a83cad3994dc4056a99876a62094fd4c": {
      "model_module": "@jupyter-widgets/controls",
      "model_module_version": "1.5.0",
      "model_name": "HTMLModel",
      "state": {
       "layout": "IPY_MODEL_c0cf4d8d6469417e96c8ee1b5748dce4",
       "style": "IPY_MODEL_c2bca429d24e4ab3b012e6ad91d0030a",
       "value": "  0% 0/1 in 0.27s"
      }
     },
     "a90dae688f7843bb839a4a5a9a6d5e67": {
      "model_module": "@jupyter-widgets/controls",
      "model_module_version": "1.5.0",
      "model_name": "HBoxModel",
      "state": {
       "children": [
        "IPY_MODEL_73cca3fcd1284f57bfcb08e1aca3d640",
        "IPY_MODEL_e6c0c0f15fc549cab1ee9b7238e5bb61",
        "IPY_MODEL_350dfa8be02c43a8873e61978dbd01f5"
       ],
       "layout": "IPY_MODEL_52576142f11443e8a54f7c50d02d9b02"
      }
     },
     "a91b6c63929042f4bc1b013b900c7a3d": {
      "model_module": "@jupyter-widgets/base",
      "model_module_version": "1.2.0",
      "model_name": "LayoutModel",
      "state": {
       "display": "inline-flex",
       "flex_flow": "row wrap",
       "width": "100%"
      }
     },
     "a980b5bc7231411092583a851bed2511": {
      "model_module": "@jupyter-widgets/base",
      "model_module_version": "1.2.0",
      "model_name": "LayoutModel",
      "state": {}
     },
     "a9df5c8effe94535b5845fc29e446b21": {
      "model_module": "@jupyter-widgets/base",
      "model_module_version": "1.2.0",
      "model_name": "LayoutModel",
      "state": {}
     },
     "a9e40995a2114874982b0be4ad6e237c": {
      "model_module": "@jupyter-widgets/controls",
      "model_module_version": "1.5.0",
      "model_name": "FloatProgressModel",
      "state": {
       "bar_style": "success",
       "layout": "IPY_MODEL_c7d27bdcd59f46cc9474165aeb637a15",
       "max": 1,
       "style": "IPY_MODEL_173ca6b4f1f543879a55f151379419d6",
       "value": 1
      }
     },
     "a9f8f19b0ba54723952865e22ce622eb": {
      "model_module": "@jupyter-widgets/controls",
      "model_module_version": "1.5.0",
      "model_name": "HTMLModel",
      "state": {
       "layout": "IPY_MODEL_5ed359e7fc624abcb3ecb73d9d62266f",
       "style": "IPY_MODEL_5e1dfa50553d47518acd1cfe5672a821",
       "value": "100% 7/7, file=lsl_try3.xdf in 0.63s"
      }
     },
     "aa03ac36cd7a40a4915bea593daf73ba": {
      "model_module": "@jupyter-widgets/controls",
      "model_module_version": "1.5.0",
      "model_name": "HTMLModel",
      "state": {
       "layout": "IPY_MODEL_2ff17eeeacb144edbe4ac0ba1ab77ed7",
       "style": "IPY_MODEL_4c39f5fc31b449288dda485848c5d6ed",
       "value": "Processed:"
      }
     },
     "aa43572328b14d71bccab394a22f1e23": {
      "model_module": "@jupyter-widgets/controls",
      "model_module_version": "1.5.0",
      "model_name": "FloatProgressModel",
      "state": {
       "bar_style": "danger",
       "layout": "IPY_MODEL_59b4372bf84e4d09b7cc954522e8f11a",
       "max": 7,
       "style": "IPY_MODEL_ff10fd4a03c24f2e8cb81003d6317087",
       "value": 6
      }
     },
     "aa913ab9a5ae4d689eb5cea46bc5f515": {
      "model_module": "@jupyter-widgets/base",
      "model_module_version": "1.2.0",
      "model_name": "LayoutModel",
      "state": {
       "flex": "2"
      }
     },
     "aad73518170140e5b7a02604153cc965": {
      "model_module": "@jupyter-widgets/controls",
      "model_module_version": "1.5.0",
      "model_name": "DescriptionStyleModel",
      "state": {
       "description_width": ""
      }
     },
     "ab09f78f1b584a6a94a99a7a98b1e933": {
      "model_module": "@jupyter-widgets/base",
      "model_module_version": "1.2.0",
      "model_name": "LayoutModel",
      "state": {}
     },
     "ab183acf51d648afb5d5d0b57d732bff": {
      "model_module": "@jupyter-widgets/base",
      "model_module_version": "1.2.0",
      "model_name": "LayoutModel",
      "state": {}
     },
     "ab5335ea12ac4272a5ba657248bb1ed3": {
      "model_module": "@jupyter-widgets/controls",
      "model_module_version": "1.5.0",
      "model_name": "HTMLModel",
      "state": {
       "layout": "IPY_MODEL_27eb003f04c24b1e8b9d799de612c7a3",
       "style": "IPY_MODEL_5afe69f48ca4424cb831bc4011c58260",
       "value": "Processed:"
      }
     },
     "aba33cd211f847e796581ff623673096": {
      "model_module": "@jupyter-widgets/controls",
      "model_module_version": "1.5.0",
      "model_name": "FloatProgressModel",
      "state": {
       "bar_style": "danger",
       "layout": "IPY_MODEL_53e62d22e69443739ed705b1db1f653d",
       "max": 3,
       "style": "IPY_MODEL_1afbdc86d050463d8f06d28a8a865f1e",
       "value": 1
      }
     },
     "abbe9597580247fc975703ae68bdfbb7": {
      "model_module": "@jupyter-widgets/controls",
      "model_module_version": "1.5.0",
      "model_name": "HTMLModel",
      "state": {
       "layout": "IPY_MODEL_3bdf919624254400af9d712a1bcc78b2",
       "style": "IPY_MODEL_a70892513caa4a77ab4f8faf6b0d82d2",
       "value": "  0% 0/7, step=1. Load the XDF file, file=lsl_try1.xdf in 2010.04s"
      }
     },
     "ac890e47c1a34c67bb5f8c2fd4775d73": {
      "model_module": "@jupyter-widgets/controls",
      "model_module_version": "1.5.0",
      "model_name": "HBoxModel",
      "state": {
       "children": [
        "IPY_MODEL_9c8135bade2a4773851a456f021d7968",
        "IPY_MODEL_07e709e8aacd41388979a195f0fb3484",
        "IPY_MODEL_a1cbcafd857a4ced95a010d85991e57c"
       ],
       "layout": "IPY_MODEL_85c47e47ba3f4c16bb801fa74e947d97"
      }
     },
     "ac9c11a674a741e193286b992b4c5be5": {
      "model_module": "@jupyter-widgets/controls",
      "model_module_version": "1.5.0",
      "model_name": "DescriptionStyleModel",
      "state": {
       "description_width": ""
      }
     },
     "accaa7fbe2c949d7999a54a6e6671346": {
      "model_module": "@jupyter-widgets/controls",
      "model_module_version": "1.5.0",
      "model_name": "FloatProgressModel",
      "state": {
       "bar_style": "danger",
       "layout": "IPY_MODEL_fa2edd4b267b428aa2058d4dddc345be",
       "max": 7,
       "style": "IPY_MODEL_3f29a4928a8f4380b49b4b6972ed8643",
       "value": 6
      }
     },
     "ad0f513aeb1b4d7580854d8a61ac0943": {
      "model_module": "@jupyter-widgets/base",
      "model_module_version": "1.2.0",
      "model_name": "LayoutModel",
      "state": {
       "flex": "2"
      }
     },
     "ad326330fa8b4ddbad6f4bc0c2943c26": {
      "model_module": "@jupyter-widgets/controls",
      "model_module_version": "1.5.0",
      "model_name": "HTMLModel",
      "state": {
       "layout": "IPY_MODEL_ee97defd103845ad948cd64ea8b17d2d",
       "style": "IPY_MODEL_e5842763c9d543f799e2370181a5d09a",
       "value": "Processed:"
      }
     },
     "ad4384a72da447d8b2a75aac75a07118": {
      "model_module": "@jupyter-widgets/base",
      "model_module_version": "1.2.0",
      "model_name": "LayoutModel",
      "state": {
       "flex": "2"
      }
     },
     "adcbe8a16a664ef391b8dd2aa08c7a09": {
      "model_module": "@jupyter-widgets/controls",
      "model_module_version": "1.5.0",
      "model_name": "HBoxModel",
      "state": {
       "children": [
        "IPY_MODEL_4cb409597c7b41258f96cd76767a2047",
        "IPY_MODEL_2c315f531e4c4f57afee5a7883c7268b",
        "IPY_MODEL_a000741aa6ec468f99374a7a0f2cbf4b"
       ],
       "layout": "IPY_MODEL_e202482ec78b4c0b8d39b066dc646c49"
      }
     },
     "ade9e3311ad648ef97357cebb5587d22": {
      "model_module": "@jupyter-widgets/base",
      "model_module_version": "1.2.0",
      "model_name": "LayoutModel",
      "state": {}
     },
     "ae1ba79eb4c04d1fb086acce976876d5": {
      "model_module": "@jupyter-widgets/base",
      "model_module_version": "1.2.0",
      "model_name": "LayoutModel",
      "state": {}
     },
     "ae74f5a293f3470abd5c148b565a54c6": {
      "model_module": "@jupyter-widgets/base",
      "model_module_version": "1.2.0",
      "model_name": "LayoutModel",
      "state": {
       "display": "inline-flex",
       "flex_flow": "row wrap",
       "width": "100%"
      }
     },
     "ae82c4d1cffa462bab8537e1aba68a29": {
      "model_module": "@jupyter-widgets/controls",
      "model_module_version": "1.5.0",
      "model_name": "HBoxModel",
      "state": {
       "children": [
        "IPY_MODEL_d2eae4aa7c8a40d5adc1436aacedaee8",
        "IPY_MODEL_7b80ed269f1748368534341d7c2576be",
        "IPY_MODEL_591c38d39c5d476b8617e9a3517ed9d5"
       ],
       "layout": "IPY_MODEL_638e2578a8f2474f82bdf53b93bda29f"
      }
     },
     "ae961e21c6574f20a9d32ee61455f426": {
      "model_module": "@jupyter-widgets/controls",
      "model_module_version": "1.5.0",
      "model_name": "DescriptionStyleModel",
      "state": {
       "description_width": ""
      }
     },
     "aea37e9bdd43424a8c35fe8a9ef1d55c": {
      "model_module": "@jupyter-widgets/controls",
      "model_module_version": "1.5.0",
      "model_name": "ProgressStyleModel",
      "state": {
       "description_width": ""
      }
     },
     "aeb4596412114b98ad4a7870e96d9277": {
      "model_module": "@jupyter-widgets/controls",
      "model_module_version": "1.5.0",
      "model_name": "HTMLModel",
      "state": {
       "layout": "IPY_MODEL_f087690df2ab49c3b5e691d957142d51",
       "style": "IPY_MODEL_ae961e21c6574f20a9d32ee61455f426",
       "value": "recordings[ 0]:"
      }
     },
     "af459471671842e0ab27895d8603ce6d": {
      "model_module": "@jupyter-widgets/base",
      "model_module_version": "1.2.0",
      "model_name": "LayoutModel",
      "state": {}
     },
     "b07283fb826745b388a4062e4231885e": {
      "model_module": "@jupyter-widgets/base",
      "model_module_version": "1.2.0",
      "model_name": "LayoutModel",
      "state": {}
     },
     "b07dcc4cca784c52ad90cad78babfad4": {
      "model_module": "@jupyter-widgets/base",
      "model_module_version": "1.2.0",
      "model_name": "LayoutModel",
      "state": {}
     },
     "b11ed354eff14cacb325daafb9409f6f": {
      "model_module": "@jupyter-widgets/controls",
      "model_module_version": "1.5.0",
      "model_name": "FloatProgressModel",
      "state": {
       "bar_style": "danger",
       "layout": "IPY_MODEL_787103da991643258c39d1d4d702dd3a",
       "max": 7,
       "style": "IPY_MODEL_c77e09ba2a594a878c72e4348f2d92a0"
      }
     },
     "b1678ae0da024d33a42dc5f41d7f4ce8": {
      "model_module": "@jupyter-widgets/controls",
      "model_module_version": "1.5.0",
      "model_name": "FloatProgressModel",
      "state": {
       "bar_style": "danger",
       "layout": "IPY_MODEL_7c7947faaad94075b758463fe8f0eadd",
       "max": 7,
       "style": "IPY_MODEL_31ab1bcda14947ee81696c9c50ddc2d2",
       "value": 6
      }
     },
     "b1aea1460f1f4f0ca8dc7f7080508669": {
      "model_module": "@jupyter-widgets/controls",
      "model_module_version": "1.5.0",
      "model_name": "FloatProgressModel",
      "state": {
       "bar_style": "success",
       "layout": "IPY_MODEL_d498272a4f0c44799d67e849a683e2c6",
       "max": 1,
       "style": "IPY_MODEL_e677b7faafd64440b89f58dd452137c2",
       "value": 1
      }
     },
     "b23a9bcc0abe49f3acac6612254dc493": {
      "model_module": "@jupyter-widgets/base",
      "model_module_version": "1.2.0",
      "model_name": "LayoutModel",
      "state": {
       "display": "inline-flex",
       "flex_flow": "row wrap",
       "width": "100%"
      }
     },
     "b23fed2c3d1242adb3594d3df38227ac": {
      "model_module": "@jupyter-widgets/controls",
      "model_module_version": "1.5.0",
      "model_name": "ProgressStyleModel",
      "state": {
       "description_width": ""
      }
     },
     "b2454bcad01c4b8ab64b2f96d1b27dd6": {
      "model_module": "@jupyter-widgets/base",
      "model_module_version": "1.2.0",
      "model_name": "LayoutModel",
      "state": {
       "display": "inline-flex",
       "flex_flow": "row wrap",
       "width": "100%"
      }
     },
     "b295692f39214f54a3c38b77e032cb2d": {
      "model_module": "@jupyter-widgets/base",
      "model_module_version": "1.2.0",
      "model_name": "LayoutModel",
      "state": {}
     },
     "b297ad005e564e858c5696eaf4d51623": {
      "model_module": "@jupyter-widgets/controls",
      "model_module_version": "1.5.0",
      "model_name": "ProgressStyleModel",
      "state": {
       "description_width": ""
      }
     },
     "b36ac78feea14f0192322c377f6da0b7": {
      "model_module": "@jupyter-widgets/controls",
      "model_module_version": "1.5.0",
      "model_name": "DescriptionStyleModel",
      "state": {
       "description_width": ""
      }
     },
     "b466540a748f4113b1d39edc5363bd7e": {
      "model_module": "@jupyter-widgets/controls",
      "model_module_version": "1.5.0",
      "model_name": "ProgressStyleModel",
      "state": {
       "description_width": ""
      }
     },
     "b46d8e615b8f4c08afb88e92db0cb8ee": {
      "model_module": "@jupyter-widgets/controls",
      "model_module_version": "1.5.0",
      "model_name": "FloatProgressModel",
      "state": {
       "bar_style": "success",
       "layout": "IPY_MODEL_7773f2d6cd944d2b9b9f138067057a18",
       "max": 1,
       "style": "IPY_MODEL_ced45dd1045343d59a5fa225dfd6f691",
       "value": 1
      }
     },
     "b4c343978c7942e49e2c2ac07ef4b68b": {
      "model_module": "@jupyter-widgets/base",
      "model_module_version": "1.2.0",
      "model_name": "LayoutModel",
      "state": {}
     },
     "b4e01bc8465d49b38b844ca7c11a0b47": {
      "model_module": "@jupyter-widgets/controls",
      "model_module_version": "1.5.0",
      "model_name": "DescriptionStyleModel",
      "state": {
       "description_width": ""
      }
     },
     "b50fcbce80a54b96868646f1dcd6931f": {
      "model_module": "@jupyter-widgets/controls",
      "model_module_version": "1.5.0",
      "model_name": "ProgressStyleModel",
      "state": {
       "description_width": ""
      }
     },
     "b5c932cdd60c4991ae60a3da2ca77967": {
      "model_module": "@jupyter-widgets/base",
      "model_module_version": "1.2.0",
      "model_name": "LayoutModel",
      "state": {
       "display": "inline-flex",
       "flex_flow": "row wrap",
       "width": "100%"
      }
     },
     "b6aba28684684223b7be61c2467c0519": {
      "model_module": "@jupyter-widgets/controls",
      "model_module_version": "1.5.0",
      "model_name": "HTMLModel",
      "state": {
       "layout": "IPY_MODEL_3f0b20a3464f4b2d9ae78208944bb8d1",
       "style": "IPY_MODEL_7eb1208b0901441da464b5fa5e11fcf4",
       "value": " 14% 1/7, step=2. Store selected stream info, file=lsl_try1.xdf in 229.52s"
      }
     },
     "b79e7cdb411e4984b58d060155448cb7": {
      "model_module": "@jupyter-widgets/controls",
      "model_module_version": "1.5.0",
      "model_name": "HTMLModel",
      "state": {
       "layout": "IPY_MODEL_085af8ffb4e348f0876802fe8cf1073d",
       "style": "IPY_MODEL_5444952e473c4ba49c7d45e219076743",
       "value": "recordings[ 0]:"
      }
     },
     "b8f564e4a4f344c5853a8baabd1b15a0": {
      "model_module": "@jupyter-widgets/controls",
      "model_module_version": "1.5.0",
      "model_name": "DescriptionStyleModel",
      "state": {
       "description_width": ""
      }
     },
     "ba6dab01c0b94266b8cca49073f6556b": {
      "model_module": "@jupyter-widgets/controls",
      "model_module_version": "1.5.0",
      "model_name": "HBoxModel",
      "state": {
       "children": [
        "IPY_MODEL_e7bb96f8e01348f3a390db65cba37115",
        "IPY_MODEL_329652c47fd94facbad76ce37e3fdcc3",
        "IPY_MODEL_7cbc3f01a8334e62bff89081af3150fe"
       ],
       "layout": "IPY_MODEL_4abd890d778646e8a482b40b0c55abda"
      }
     },
     "ba95d4aac8de4b26a8e17d0ed0152863": {
      "model_module": "@jupyter-widgets/controls",
      "model_module_version": "1.5.0",
      "model_name": "DescriptionStyleModel",
      "state": {
       "description_width": ""
      }
     },
     "bb110f1c22f74e40ac585151fe72f6f6": {
      "model_module": "@jupyter-widgets/controls",
      "model_module_version": "1.5.0",
      "model_name": "HTMLModel",
      "state": {
       "layout": "IPY_MODEL_845568636adc42508ebb6b33fe780870",
       "style": "IPY_MODEL_5e3aa94cdc1849f4b5a32b1a601bd88c",
       "value": "100% 1/1 in 0.29s"
      }
     },
     "bb3e5cdd158143eab605a7401cdf8908": {
      "model_module": "@jupyter-widgets/controls",
      "model_module_version": "1.5.0",
      "model_name": "FloatProgressModel",
      "state": {
       "bar_style": "danger",
       "layout": "IPY_MODEL_91c0b701cff54bb788807f7df6cf26c9",
       "max": 1,
       "style": "IPY_MODEL_faddb08f2c1a442d9658f983d52a6f71"
      }
     },
     "bb41747c41ca47c18ad8a6adf62ce4dd": {
      "model_module": "@jupyter-widgets/controls",
      "model_module_version": "1.5.0",
      "model_name": "HTMLModel",
      "state": {
       "layout": "IPY_MODEL_a0a5cbb99d684feb85ea9d7ea27d7bee",
       "style": "IPY_MODEL_0379434592ab4804b7c4e0998e88e180",
       "value": " 43% 3/7, step=3. Store timestamps, file=lsl_try1.xdf in 84.13s"
      }
     },
     "bb482673ba854bf79d4ec34adda47eaa": {
      "model_module": "@jupyter-widgets/base",
      "model_module_version": "1.2.0",
      "model_name": "LayoutModel",
      "state": {
       "display": "inline-flex",
       "flex_flow": "row wrap",
       "width": "100%"
      }
     },
     "bbb1200ade6c453897ab3f8ea806fbb1": {
      "model_module": "@jupyter-widgets/controls",
      "model_module_version": "1.5.0",
      "model_name": "DescriptionStyleModel",
      "state": {
       "description_width": ""
      }
     },
     "bbc38f8f1bba4ce886de3a069f20ec07": {
      "model_module": "@jupyter-widgets/controls",
      "model_module_version": "1.5.0",
      "model_name": "DescriptionStyleModel",
      "state": {
       "description_width": ""
      }
     },
     "bd3be2e219b64bf4addc725392eb19a5": {
      "model_module": "@jupyter-widgets/controls",
      "model_module_version": "1.5.0",
      "model_name": "HBoxModel",
      "state": {
       "children": [
        "IPY_MODEL_3bfab1db14724fcba202e8c5c31055f1",
        "IPY_MODEL_accaa7fbe2c949d7999a54a6e6671346",
        "IPY_MODEL_e2ce00d9391f43d2a4166a432d25b70a"
       ],
       "layout": "IPY_MODEL_03d90718a46c41b99b238c51b552d114"
      }
     },
     "be5107b3121845788a5d8e100ef114b4": {
      "model_module": "@jupyter-widgets/base",
      "model_module_version": "1.2.0",
      "model_name": "LayoutModel",
      "state": {
       "flex": "2"
      }
     },
     "bf7b292f016a4dadbfe231d7e61ca58f": {
      "model_module": "@jupyter-widgets/controls",
      "model_module_version": "1.5.0",
      "model_name": "DescriptionStyleModel",
      "state": {
       "description_width": ""
      }
     },
     "bfb34af58b974a6299cab44c88f84de8": {
      "model_module": "@jupyter-widgets/controls",
      "model_module_version": "1.5.0",
      "model_name": "HTMLModel",
      "state": {
       "layout": "IPY_MODEL_e0c09da61e284031b4cf13a319d70476",
       "style": "IPY_MODEL_5cf0a0d75e1b45cfb359e427ac9ca685",
       "value": "Processed:"
      }
     },
     "bffb64ec45874806909e9b9017861f6e": {
      "model_module": "@jupyter-widgets/base",
      "model_module_version": "1.2.0",
      "model_name": "LayoutModel",
      "state": {}
     },
     "c0cf4d8d6469417e96c8ee1b5748dce4": {
      "model_module": "@jupyter-widgets/base",
      "model_module_version": "1.2.0",
      "model_name": "LayoutModel",
      "state": {}
     },
     "c118d45c161447abba470379fe2d5d4f": {
      "model_module": "@jupyter-widgets/controls",
      "model_module_version": "1.5.0",
      "model_name": "HTMLModel",
      "state": {
       "layout": "IPY_MODEL_e4304fd795d74c6291610be0b6d5f63f",
       "style": "IPY_MODEL_9b5ddd14abb44a6890e9ac7ba5354bc9",
       "value": "  0% 0/7, step=1. Load the XDF file, file=lsl_try1.xdf in 136.98s"
      }
     },
     "c16cd06833eb445fa20fd57c673b186a": {
      "model_module": "@jupyter-widgets/base",
      "model_module_version": "1.2.0",
      "model_name": "LayoutModel",
      "state": {}
     },
     "c19ca39218614a639bc6f3b3a8d05d91": {
      "model_module": "@jupyter-widgets/base",
      "model_module_version": "1.2.0",
      "model_name": "LayoutModel",
      "state": {}
     },
     "c1d8540de058458c9cfa752ba37bd3cf": {
      "model_module": "@jupyter-widgets/controls",
      "model_module_version": "1.5.0",
      "model_name": "HBoxModel",
      "state": {
       "children": [
        "IPY_MODEL_d4f45ac446a24d8baf78a48feaa627c0",
        "IPY_MODEL_33e33e44f3a3446d8c28b4d7c5639737",
        "IPY_MODEL_1b593ebf95e54d0dae13241706d4292b"
       ],
       "layout": "IPY_MODEL_b5c932cdd60c4991ae60a3da2ca77967"
      }
     },
     "c25bea4d8e9341999ed4889f19180afb": {
      "model_module": "@jupyter-widgets/base",
      "model_module_version": "1.2.0",
      "model_name": "LayoutModel",
      "state": {}
     },
     "c2a916606098422c91a92a4f4aa4b176": {
      "model_module": "@jupyter-widgets/controls",
      "model_module_version": "1.5.0",
      "model_name": "HTMLModel",
      "state": {
       "layout": "IPY_MODEL_1c410df595eb4799b625d1f3f21768a9",
       "style": "IPY_MODEL_6612a969dbca4f00850960f21029e567",
       "value": "100% 1/1 in 0.32s"
      }
     },
     "c2bca429d24e4ab3b012e6ad91d0030a": {
      "model_module": "@jupyter-widgets/controls",
      "model_module_version": "1.5.0",
      "model_name": "DescriptionStyleModel",
      "state": {
       "description_width": ""
      }
     },
     "c323cde53b97440d90c58640800c06c6": {
      "model_module": "@jupyter-widgets/controls",
      "model_module_version": "1.5.0",
      "model_name": "DescriptionStyleModel",
      "state": {
       "description_width": ""
      }
     },
     "c44b65094c35463eb282fda4d530e979": {
      "model_module": "@jupyter-widgets/controls",
      "model_module_version": "1.5.0",
      "model_name": "DescriptionStyleModel",
      "state": {
       "description_width": ""
      }
     },
     "c4554187e1524f92a530045073cd71ab": {
      "model_module": "@jupyter-widgets/base",
      "model_module_version": "1.2.0",
      "model_name": "LayoutModel",
      "state": {}
     },
     "c59df0495a8546b39988e854332ed02d": {
      "model_module": "@jupyter-widgets/base",
      "model_module_version": "1.2.0",
      "model_name": "LayoutModel",
      "state": {}
     },
     "c619ca7d049b4d0dbe2d3acb16182ae6": {
      "model_module": "@jupyter-widgets/base",
      "model_module_version": "1.2.0",
      "model_name": "LayoutModel",
      "state": {}
     },
     "c632eaaf668f491f8ce66627dd4a0135": {
      "model_module": "@jupyter-widgets/controls",
      "model_module_version": "1.5.0",
      "model_name": "DescriptionStyleModel",
      "state": {
       "description_width": ""
      }
     },
     "c63cbe4770024e4d950deadf661af358": {
      "model_module": "@jupyter-widgets/base",
      "model_module_version": "1.2.0",
      "model_name": "LayoutModel",
      "state": {}
     },
     "c6f12690c8b741298694544b30a1431b": {
      "model_module": "@jupyter-widgets/controls",
      "model_module_version": "1.5.0",
      "model_name": "HBoxModel",
      "state": {
       "children": [
        "IPY_MODEL_ef8623dd2c9a41f593bc5c51e2b4b6b3",
        "IPY_MODEL_382f27fe7fb446d899e4e091291af12f",
        "IPY_MODEL_d742cd26c1be46e581900613e07b09ce"
       ],
       "layout": "IPY_MODEL_8b2765273cbd48839b3469b1a0375799"
      }
     },
     "c706dab2d0054e929d2b608b2e60b32b": {
      "model_module": "@jupyter-widgets/controls",
      "model_module_version": "1.5.0",
      "model_name": "HTMLModel",
      "state": {
       "layout": "IPY_MODEL_84d2bdfb32af4083925f6ec59f759611",
       "style": "IPY_MODEL_4df6176d59484123999882604ddae280",
       "value": "100% 7/7, file=lsl_try1.xdf in 0.32s"
      }
     },
     "c70723cf29b64be6aea028cea327fda1": {
      "model_module": "@jupyter-widgets/controls",
      "model_module_version": "1.5.0",
      "model_name": "HBoxModel",
      "state": {
       "children": [
        "IPY_MODEL_d1ddc2da011e42b49f4ec295b6f8f638",
        "IPY_MODEL_626e1f1c17254d47881888ff810da82b",
        "IPY_MODEL_8decb04a52904d8a8ddb21433a78030d"
       ],
       "layout": "IPY_MODEL_1fec8f13c47f4fa98478480d581e4805"
      }
     },
     "c77e09ba2a594a878c72e4348f2d92a0": {
      "model_module": "@jupyter-widgets/controls",
      "model_module_version": "1.5.0",
      "model_name": "ProgressStyleModel",
      "state": {
       "description_width": ""
      }
     },
     "c7d27bdcd59f46cc9474165aeb637a15": {
      "model_module": "@jupyter-widgets/base",
      "model_module_version": "1.2.0",
      "model_name": "LayoutModel",
      "state": {
       "flex": "2"
      }
     },
     "c7f501ed14d74a39a8934bf267c18bde": {
      "model_module": "@jupyter-widgets/controls",
      "model_module_version": "1.5.0",
      "model_name": "HTMLModel",
      "state": {
       "layout": "IPY_MODEL_3677c53a1c5942b4afbfcb0de977c2fd",
       "style": "IPY_MODEL_f42e5febdc69421493934eb66dd64dad",
       "value": "100% 1/1 in 0.27s"
      }
     },
     "c889e3534b8c4525844319dff2251833": {
      "model_module": "@jupyter-widgets/controls",
      "model_module_version": "1.5.0",
      "model_name": "ProgressStyleModel",
      "state": {
       "description_width": ""
      }
     },
     "c88a8cab680d402e820ad59a4077e738": {
      "model_module": "@jupyter-widgets/controls",
      "model_module_version": "1.5.0",
      "model_name": "HBoxModel",
      "state": {
       "children": [
        "IPY_MODEL_40f561da5e884b1396ced59d600cfff5",
        "IPY_MODEL_2007a428536e4386b57188c993a6c141",
        "IPY_MODEL_532885bb810b4fccab597e48e81bc857"
       ],
       "layout": "IPY_MODEL_0b76faac8a004bde8696d74a935f195c"
      }
     },
     "c8aa424d0a294b11895dd4713686c3d5": {
      "model_module": "@jupyter-widgets/controls",
      "model_module_version": "1.5.0",
      "model_name": "FloatProgressModel",
      "state": {
       "bar_style": "success",
       "layout": "IPY_MODEL_3c46511c860043fb8cb10f60e568fcb8",
       "max": 1,
       "style": "IPY_MODEL_e2f9274e0c1a421ebb33b815f499683a",
       "value": 1
      }
     },
     "c97cbb7b7f2f43008b37f00c09bdd651": {
      "model_module": "@jupyter-widgets/base",
      "model_module_version": "1.2.0",
      "model_name": "LayoutModel",
      "state": {}
     },
     "c98a38c554e243e3b0fab08dcfe63875": {
      "model_module": "@jupyter-widgets/controls",
      "model_module_version": "1.5.0",
      "model_name": "HTMLModel",
      "state": {
       "layout": "IPY_MODEL_8ecb0235a51444ceb187830e48a841fe",
       "style": "IPY_MODEL_ac9c11a674a741e193286b992b4c5be5",
       "value": "recordings[ 0]:"
      }
     },
     "c9973e17c4eb414bb815c7bc2b48e56c": {
      "model_module": "@jupyter-widgets/controls",
      "model_module_version": "1.5.0",
      "model_name": "HBoxModel",
      "state": {
       "children": [
        "IPY_MODEL_ef89e809ac704f9596f26d39a0466fe2",
        "IPY_MODEL_eebc828454ec45f5ad4451a2a6cac453",
        "IPY_MODEL_0c0c1c9aefed472e864830910330e7ea"
       ],
       "layout": "IPY_MODEL_c25bea4d8e9341999ed4889f19180afb"
      }
     },
     "cba32c923c02438493b526c09a584192": {
      "model_module": "@jupyter-widgets/base",
      "model_module_version": "1.2.0",
      "model_name": "LayoutModel",
      "state": {}
     },
     "ccb05225d77d46aa9c07a5b2b0bdfd68": {
      "model_module": "@jupyter-widgets/controls",
      "model_module_version": "1.5.0",
      "model_name": "FloatProgressModel",
      "state": {
       "bar_style": "success",
       "layout": "IPY_MODEL_35c9920ca4614bc1b94439f990d88fc1",
       "max": 1,
       "style": "IPY_MODEL_edb2d93be2b049d3ba789076a62c6819",
       "value": 1
      }
     },
     "cd4d399f91ed46f68b59467d332c169c": {
      "model_module": "@jupyter-widgets/base",
      "model_module_version": "1.2.0",
      "model_name": "LayoutModel",
      "state": {
       "flex": "2"
      }
     },
     "cdf36e30e679496ca1a9a95f9f4bf431": {
      "model_module": "@jupyter-widgets/controls",
      "model_module_version": "1.5.0",
      "model_name": "DescriptionStyleModel",
      "state": {
       "description_width": ""
      }
     },
     "ce9f78bce53c43b0984787a1019c8302": {
      "model_module": "@jupyter-widgets/base",
      "model_module_version": "1.2.0",
      "model_name": "LayoutModel",
      "state": {
       "display": "inline-flex",
       "flex_flow": "row wrap",
       "width": "100%"
      }
     },
     "ced44bca7ab54d53aa27a1dafa452540": {
      "model_module": "@jupyter-widgets/controls",
      "model_module_version": "1.5.0",
      "model_name": "ProgressStyleModel",
      "state": {
       "description_width": ""
      }
     },
     "ced45dd1045343d59a5fa225dfd6f691": {
      "model_module": "@jupyter-widgets/controls",
      "model_module_version": "1.5.0",
      "model_name": "ProgressStyleModel",
      "state": {
       "description_width": ""
      }
     },
     "ced5ad6d041d4e26a001fb2b2bd96c1f": {
      "model_module": "@jupyter-widgets/base",
      "model_module_version": "1.2.0",
      "model_name": "LayoutModel",
      "state": {}
     },
     "ced95ef291ab4d1b8fe2e3cd340638ab": {
      "model_module": "@jupyter-widgets/controls",
      "model_module_version": "1.5.0",
      "model_name": "FloatProgressModel",
      "state": {
       "bar_style": "success",
       "layout": "IPY_MODEL_be5107b3121845788a5d8e100ef114b4",
       "max": 1,
       "style": "IPY_MODEL_28a6eb4c494f4e00b64b7953fb5bbb62",
       "value": 1
      }
     },
     "cedf7f7f96b045de9398c68faf4385a7": {
      "model_module": "@jupyter-widgets/controls",
      "model_module_version": "1.5.0",
      "model_name": "HTMLModel",
      "state": {
       "layout": "IPY_MODEL_42deb94963ad491881ab01eb74d76bc3",
       "style": "IPY_MODEL_06ca67803ba2478bae0917414ed5470e",
       "value": "Processed:"
      }
     },
     "cf0af736fbe540038c2cd08bc3037509": {
      "model_module": "@jupyter-widgets/controls",
      "model_module_version": "1.5.0",
      "model_name": "HTMLModel",
      "state": {
       "layout": "IPY_MODEL_96e254c1df834a97ae0504ff515fa659",
       "style": "IPY_MODEL_0b02a802801a460fa5a502c918c7a17e",
       "value": "100% 1/1 in 0.33s"
      }
     },
     "cf5e0747fee74c69860d33c90d51466a": {
      "model_module": "@jupyter-widgets/base",
      "model_module_version": "1.2.0",
      "model_name": "LayoutModel",
      "state": {}
     },
     "cf6770b5d38b47de9f19ddbc20c8ba0b": {
      "model_module": "@jupyter-widgets/base",
      "model_module_version": "1.2.0",
      "model_name": "LayoutModel",
      "state": {
       "flex": "2"
      }
     },
     "cf84d708d79f40608f52ed65a378f266": {
      "model_module": "@jupyter-widgets/base",
      "model_module_version": "1.2.0",
      "model_name": "LayoutModel",
      "state": {
       "display": "inline-flex",
       "flex_flow": "row wrap",
       "width": "100%"
      }
     },
     "cf8a865c2e3740ffb52d6799f051db70": {
      "model_module": "@jupyter-widgets/base",
      "model_module_version": "1.2.0",
      "model_name": "LayoutModel",
      "state": {}
     },
     "d0708dde1faf43dfa836d210a039c05b": {
      "model_module": "@jupyter-widgets/controls",
      "model_module_version": "1.5.0",
      "model_name": "FloatProgressModel",
      "state": {
       "bar_style": "success",
       "layout": "IPY_MODEL_428d47aba98342b2b46af140ee323227",
       "max": 1,
       "style": "IPY_MODEL_5528110e01584128a404f1365628f54b",
       "value": 1
      }
     },
     "d0c5edb09dc74af8ab0dc78149bb6dd8": {
      "model_module": "@jupyter-widgets/controls",
      "model_module_version": "1.5.0",
      "model_name": "HBoxModel",
      "state": {
       "children": [
        "IPY_MODEL_022d10cbacaa4035951159fb6bc6fcdc",
        "IPY_MODEL_428ffdf4da6b449cb05dab03f46c7c5f",
        "IPY_MODEL_8105c5fd2b2e438faf848282ad0bec96"
       ],
       "layout": "IPY_MODEL_06c2c4f8d76d417faa4fe88e9896b4fd"
      }
     },
     "d1521083e882412c89db0ecf16bc74c3": {
      "model_module": "@jupyter-widgets/controls",
      "model_module_version": "1.5.0",
      "model_name": "FloatProgressModel",
      "state": {
       "bar_style": "success",
       "layout": "IPY_MODEL_d41a1c1e7e874802a72fb77fc86e03a0",
       "max": 1,
       "style": "IPY_MODEL_8bda61ec6e2c4c058e66ecb22b342334",
       "value": 1
      }
     },
     "d1ddc2da011e42b49f4ec295b6f8f638": {
      "model_module": "@jupyter-widgets/controls",
      "model_module_version": "1.5.0",
      "model_name": "HTMLModel",
      "state": {
       "layout": "IPY_MODEL_cf8a865c2e3740ffb52d6799f051db70",
       "style": "IPY_MODEL_9a0362605d394f93b9b63aed98b7ac62",
       "value": "recordings[ 0]:"
      }
     },
     "d2eae4aa7c8a40d5adc1436aacedaee8": {
      "model_module": "@jupyter-widgets/controls",
      "model_module_version": "1.5.0",
      "model_name": "HTMLModel",
      "state": {
       "layout": "IPY_MODEL_3dd278e5f5ca46a0a4a6bd8cef92421a",
       "style": "IPY_MODEL_a337d1d5a8694c548426d7e25200a27f",
       "value": "recordings[ 0]:"
      }
     },
     "d38c61e806cd47528d852961d7c09db9": {
      "model_module": "@jupyter-widgets/controls",
      "model_module_version": "1.5.0",
      "model_name": "ProgressStyleModel",
      "state": {
       "description_width": ""
      }
     },
     "d395407846dd4a13ac591982a80d0d41": {
      "model_module": "@jupyter-widgets/controls",
      "model_module_version": "1.5.0",
      "model_name": "HTMLModel",
      "state": {
       "layout": "IPY_MODEL_e49541fcfce04c949d6db0b35bddf8aa",
       "style": "IPY_MODEL_67d60afd361f422596438dd609afb836",
       "value": "recordings[ 0]:"
      }
     },
     "d3a419e15595431b9242fdc1d9bb4836": {
      "model_module": "@jupyter-widgets/base",
      "model_module_version": "1.2.0",
      "model_name": "LayoutModel",
      "state": {}
     },
     "d41a1c1e7e874802a72fb77fc86e03a0": {
      "model_module": "@jupyter-widgets/base",
      "model_module_version": "1.2.0",
      "model_name": "LayoutModel",
      "state": {
       "flex": "2"
      }
     },
     "d44caf0a1cf143f2885cd44160d3cc84": {
      "model_module": "@jupyter-widgets/controls",
      "model_module_version": "1.5.0",
      "model_name": "HBoxModel",
      "state": {
       "children": [
        "IPY_MODEL_14df1934df654f1986d1b7b313c3f241",
        "IPY_MODEL_3c9af7347b054a2b8ef9391185c57e55",
        "IPY_MODEL_e2cc056f86ba4358a9dab5caba5d4a47"
       ],
       "layout": "IPY_MODEL_85b1552b1721497e90f07691363e81ad"
      }
     },
     "d45093eaa67740a790a8c2694127f8b1": {
      "model_module": "@jupyter-widgets/controls",
      "model_module_version": "1.5.0",
      "model_name": "FloatProgressModel",
      "state": {
       "bar_style": "danger",
       "layout": "IPY_MODEL_2e547dcbee9a4018a2ec9e832f41d5b3",
       "max": 7,
       "style": "IPY_MODEL_96544c5a87474a9687664e656dff1ff7"
      }
     },
     "d48d5c34ddeb462c8eb2ef5c7dc0cf02": {
      "model_module": "@jupyter-widgets/controls",
      "model_module_version": "1.5.0",
      "model_name": "DescriptionStyleModel",
      "state": {
       "description_width": ""
      }
     },
     "d498272a4f0c44799d67e849a683e2c6": {
      "model_module": "@jupyter-widgets/base",
      "model_module_version": "1.2.0",
      "model_name": "LayoutModel",
      "state": {
       "flex": "2"
      }
     },
     "d49892fb224348d1bc7848652462a763": {
      "model_module": "@jupyter-widgets/controls",
      "model_module_version": "1.5.0",
      "model_name": "HTMLModel",
      "state": {
       "layout": "IPY_MODEL_6c1048dec906447d9d3516fd2337f800",
       "style": "IPY_MODEL_aad73518170140e5b7a02604153cc965",
       "value": "  0% 0/1 in 0.27s"
      }
     },
     "d4f45ac446a24d8baf78a48feaa627c0": {
      "model_module": "@jupyter-widgets/controls",
      "model_module_version": "1.5.0",
      "model_name": "HTMLModel",
      "state": {
       "layout": "IPY_MODEL_e0e7fc7f97cc4be38ef57208c5bf43ad",
       "style": "IPY_MODEL_ba95d4aac8de4b26a8e17d0ed0152863",
       "value": "Processed:"
      }
     },
     "d559bde7f45a4e249f173dd12572dc0e": {
      "model_module": "@jupyter-widgets/base",
      "model_module_version": "1.2.0",
      "model_name": "LayoutModel",
      "state": {}
     },
     "d5a62a0963894dc2a3149c476ccf1dc4": {
      "model_module": "@jupyter-widgets/base",
      "model_module_version": "1.2.0",
      "model_name": "LayoutModel",
      "state": {}
     },
     "d6008debb57040e3b92887fe94522c89": {
      "model_module": "@jupyter-widgets/controls",
      "model_module_version": "1.5.0",
      "model_name": "FloatProgressModel",
      "state": {
       "bar_style": "danger",
       "layout": "IPY_MODEL_d5a62a0963894dc2a3149c476ccf1dc4",
       "max": 7,
       "style": "IPY_MODEL_b466540a748f4113b1d39edc5363bd7e",
       "value": 3
      }
     },
     "d61c1fe9302f40e5b978a2ba3f759115": {
      "model_module": "@jupyter-widgets/controls",
      "model_module_version": "1.5.0",
      "model_name": "HBoxModel",
      "state": {
       "children": [
        "IPY_MODEL_0c2c8607d6224eaaaeaa0c6a587b23f8",
        "IPY_MODEL_66b1bcb5b00247d68147aa63005132b9",
        "IPY_MODEL_18e2299c76434bcb9a1cf1ab26b28494"
       ],
       "layout": "IPY_MODEL_d559bde7f45a4e249f173dd12572dc0e"
      }
     },
     "d732b8b3a31f4e468b632a54e867631e": {
      "model_module": "@jupyter-widgets/controls",
      "model_module_version": "1.5.0",
      "model_name": "DescriptionStyleModel",
      "state": {
       "description_width": ""
      }
     },
     "d742cd26c1be46e581900613e07b09ce": {
      "model_module": "@jupyter-widgets/controls",
      "model_module_version": "1.5.0",
      "model_name": "HTMLModel",
      "state": {
       "layout": "IPY_MODEL_727cf112adc140c5baae53def386d28a",
       "style": "IPY_MODEL_6143e5d091664e26989e9084dd41ff98",
       "value": "100% 1/1 in 0.29s"
      }
     },
     "d7acb40abdb040148adafd416d41b540": {
      "model_module": "@jupyter-widgets/controls",
      "model_module_version": "1.5.0",
      "model_name": "DescriptionStyleModel",
      "state": {
       "description_width": ""
      }
     },
     "d7db0164fc3b4f4dbc73cf3f66776959": {
      "model_module": "@jupyter-widgets/base",
      "model_module_version": "1.2.0",
      "model_name": "LayoutModel",
      "state": {}
     },
     "d8c11d8ead2c4983a5179a59efefb1ea": {
      "model_module": "@jupyter-widgets/controls",
      "model_module_version": "1.5.0",
      "model_name": "HTMLModel",
      "state": {
       "layout": "IPY_MODEL_09dd48ffd43c4517b47ec332889f2f5d",
       "style": "IPY_MODEL_2b4e08ce116e496eb406e56298b7534f",
       "value": "recordings[ 0]:"
      }
     },
     "d8ddabf89c9a4428bd131bdc068df3d7": {
      "model_module": "@jupyter-widgets/base",
      "model_module_version": "1.2.0",
      "model_name": "LayoutModel",
      "state": {}
     },
     "d8e39f4f6f874010928ebf1478895a27": {
      "model_module": "@jupyter-widgets/base",
      "model_module_version": "1.2.0",
      "model_name": "LayoutModel",
      "state": {}
     },
     "d8e5ea9432244151b1203f3c4dff02cd": {
      "model_module": "@jupyter-widgets/base",
      "model_module_version": "1.2.0",
      "model_name": "LayoutModel",
      "state": {}
     },
     "d985005589ec40b9b5f9c884887d5cde": {
      "model_module": "@jupyter-widgets/controls",
      "model_module_version": "1.5.0",
      "model_name": "HBoxModel",
      "state": {
       "children": [
        "IPY_MODEL_d8c11d8ead2c4983a5179a59efefb1ea",
        "IPY_MODEL_01ae83144e8945d9a810f0eef0271e95",
        "IPY_MODEL_2feb5310ac354bacab36b6c2f3f727ec"
       ],
       "layout": "IPY_MODEL_539ab7d6c0094e29874fd2de8054a30d"
      }
     },
     "d9f1f3552ba3471ea54fe7dc48855a69": {
      "model_module": "@jupyter-widgets/controls",
      "model_module_version": "1.5.0",
      "model_name": "HTMLModel",
      "state": {
       "layout": "IPY_MODEL_e2e8491eb21a460882eca43ea83dd392",
       "style": "IPY_MODEL_4e3003d177b749539c0b87de3398d2cf",
       "value": "100% 1/1 in 0.27s"
      }
     },
     "da33b0d5cdb245ebaa18c161af7d7edd": {
      "model_module": "@jupyter-widgets/controls",
      "model_module_version": "1.5.0",
      "model_name": "DescriptionStyleModel",
      "state": {
       "description_width": ""
      }
     },
     "da4891a6194d4dcebd090ca41cbd5165": {
      "model_module": "@jupyter-widgets/controls",
      "model_module_version": "1.5.0",
      "model_name": "HTMLModel",
      "state": {
       "layout": "IPY_MODEL_1bd30508cd1644b980e07dfa9397b380",
       "style": "IPY_MODEL_73c9b14f59134814b778abd77d7dcffe",
       "value": "Processed:"
      }
     },
     "da6dbd834a0044caadd00f3b4d32b2f6": {
      "model_module": "@jupyter-widgets/controls",
      "model_module_version": "1.5.0",
      "model_name": "HBoxModel",
      "state": {
       "children": [
        "IPY_MODEL_769786a0be8748cda0d77a55f24f097b",
        "IPY_MODEL_ddd0b7572b8b4142a6350e631b5ed04a",
        "IPY_MODEL_b6aba28684684223b7be61c2467c0519"
       ],
       "layout": "IPY_MODEL_64b205d5933f4ef3a0594d9f925020a4"
      }
     },
     "dad74130c97d481087f29aad99813b75": {
      "model_module": "@jupyter-widgets/base",
      "model_module_version": "1.2.0",
      "model_name": "LayoutModel",
      "state": {}
     },
     "daf94bd8e9974240a82b285f3a28f595": {
      "model_module": "@jupyter-widgets/base",
      "model_module_version": "1.2.0",
      "model_name": "LayoutModel",
      "state": {}
     },
     "db2a51e4bc1e44b98251e890874cd6b7": {
      "model_module": "@jupyter-widgets/base",
      "model_module_version": "1.2.0",
      "model_name": "LayoutModel",
      "state": {
       "flex": "2"
      }
     },
     "db57a4521538466da4f458535210692e": {
      "model_module": "@jupyter-widgets/controls",
      "model_module_version": "1.5.0",
      "model_name": "DescriptionStyleModel",
      "state": {
       "description_width": ""
      }
     },
     "dc7a66e18f724e268d971605f10b7f41": {
      "model_module": "@jupyter-widgets/controls",
      "model_module_version": "1.5.0",
      "model_name": "DescriptionStyleModel",
      "state": {
       "description_width": ""
      }
     },
     "dca47e72568b4b08b598d15d1e323f20": {
      "model_module": "@jupyter-widgets/controls",
      "model_module_version": "1.5.0",
      "model_name": "HBoxModel",
      "state": {
       "children": [
        "IPY_MODEL_1c9e276118744397a3966a95abc1484d",
        "IPY_MODEL_9401192d226d4c77bd8aa1c550e24dda",
        "IPY_MODEL_9356943895584be6aa141590d51df8b9"
       ],
       "layout": "IPY_MODEL_55dd0905475d43349549c8d8cef7d4bf"
      }
     },
     "dcc21342d12b4ebcb504a6704172e506": {
      "model_module": "@jupyter-widgets/controls",
      "model_module_version": "1.5.0",
      "model_name": "FloatProgressModel",
      "state": {
       "bar_style": "success",
       "layout": "IPY_MODEL_87c2856f0ed44ffca1be76b1fa4fbf0d",
       "max": 1,
       "style": "IPY_MODEL_6a317530fe8a448ebd581685dab19d93",
       "value": 1
      }
     },
     "dcef0c10a6aa48f488aff8515d9da543": {
      "model_module": "@jupyter-widgets/base",
      "model_module_version": "1.2.0",
      "model_name": "LayoutModel",
      "state": {}
     },
     "dd1271af17e44dedba586ee514c12c12": {
      "model_module": "@jupyter-widgets/controls",
      "model_module_version": "1.5.0",
      "model_name": "DescriptionStyleModel",
      "state": {
       "description_width": ""
      }
     },
     "ddd0b7572b8b4142a6350e631b5ed04a": {
      "model_module": "@jupyter-widgets/controls",
      "model_module_version": "1.5.0",
      "model_name": "FloatProgressModel",
      "state": {
       "bar_style": "danger",
       "layout": "IPY_MODEL_f377123612674362b3dff256f0fcf6ce",
       "max": 7,
       "style": "IPY_MODEL_30a3e9fb303d4a8187924b924a5ba14b",
       "value": 1
      }
     },
     "de5b0498e4324f2dafaf9456d17be6a3": {
      "model_module": "@jupyter-widgets/controls",
      "model_module_version": "1.5.0",
      "model_name": "HTMLModel",
      "state": {
       "layout": "IPY_MODEL_4d6bc8e1da434751a789c4b793a1414d",
       "style": "IPY_MODEL_72dc78df5a714d95b66c2508d22810df",
       "value": "Processed:"
      }
     },
     "e012b23cdcd244db9c832e079ba0e849": {
      "model_module": "@jupyter-widgets/base",
      "model_module_version": "1.2.0",
      "model_name": "LayoutModel",
      "state": {}
     },
     "e04e2f86402d43a6b795454193746d1b": {
      "model_module": "@jupyter-widgets/base",
      "model_module_version": "1.2.0",
      "model_name": "LayoutModel",
      "state": {
       "flex": "2"
      }
     },
     "e0c09da61e284031b4cf13a319d70476": {
      "model_module": "@jupyter-widgets/base",
      "model_module_version": "1.2.0",
      "model_name": "LayoutModel",
      "state": {}
     },
     "e0e276bb07b344d392890de717ba2f56": {
      "model_module": "@jupyter-widgets/base",
      "model_module_version": "1.2.0",
      "model_name": "LayoutModel",
      "state": {}
     },
     "e0e7fc7f97cc4be38ef57208c5bf43ad": {
      "model_module": "@jupyter-widgets/base",
      "model_module_version": "1.2.0",
      "model_name": "LayoutModel",
      "state": {}
     },
     "e202482ec78b4c0b8d39b066dc646c49": {
      "model_module": "@jupyter-widgets/base",
      "model_module_version": "1.2.0",
      "model_name": "LayoutModel",
      "state": {}
     },
     "e2cc056f86ba4358a9dab5caba5d4a47": {
      "model_module": "@jupyter-widgets/controls",
      "model_module_version": "1.5.0",
      "model_name": "HTMLModel",
      "state": {
       "layout": "IPY_MODEL_365e128ce10d4f9984d5a76de4deb6bd",
       "style": "IPY_MODEL_121de6733e014519abe87d5f007935f1",
       "value": "100% 1/1 in 0.28s"
      }
     },
     "e2ce00d9391f43d2a4166a432d25b70a": {
      "model_module": "@jupyter-widgets/controls",
      "model_module_version": "1.5.0",
      "model_name": "HTMLModel",
      "state": {
       "layout": "IPY_MODEL_f51b7fdd10d6488da004d867ee50626f",
       "style": "IPY_MODEL_151d43729b784fcab16334abe9a98703",
       "value": " 86% 6/7, step=7. Select and store EEG values, file=lsl_try1.xdf in 6.50s"
      }
     },
     "e2e8491eb21a460882eca43ea83dd392": {
      "model_module": "@jupyter-widgets/base",
      "model_module_version": "1.2.0",
      "model_name": "LayoutModel",
      "state": {}
     },
     "e2f9274e0c1a421ebb33b815f499683a": {
      "model_module": "@jupyter-widgets/controls",
      "model_module_version": "1.5.0",
      "model_name": "ProgressStyleModel",
      "state": {
       "description_width": ""
      }
     },
     "e399f6ce363c4342b512400de222f961": {
      "model_module": "@jupyter-widgets/controls",
      "model_module_version": "1.5.0",
      "model_name": "HBoxModel",
      "state": {
       "children": [
        "IPY_MODEL_aeb4596412114b98ad4a7870e96d9277",
        "IPY_MODEL_9d48b7d0bd554e98887a745bbbef90ab",
        "IPY_MODEL_6a0bf85de5a348e384848255bc845261"
       ],
       "layout": "IPY_MODEL_9c87ebb6c6fb457faa72345222a2d7a0"
      }
     },
     "e4304fd795d74c6291610be0b6d5f63f": {
      "model_module": "@jupyter-widgets/base",
      "model_module_version": "1.2.0",
      "model_name": "LayoutModel",
      "state": {}
     },
     "e43c5d6c48e44f99b3d0bbd14e7aee64": {
      "model_module": "@jupyter-widgets/controls",
      "model_module_version": "1.5.0",
      "model_name": "ProgressStyleModel",
      "state": {
       "description_width": ""
      }
     },
     "e49541fcfce04c949d6db0b35bddf8aa": {
      "model_module": "@jupyter-widgets/base",
      "model_module_version": "1.2.0",
      "model_name": "LayoutModel",
      "state": {}
     },
     "e4f769209c6548848ebe3c7a615a0f16": {
      "model_module": "@jupyter-widgets/controls",
      "model_module_version": "1.5.0",
      "model_name": "ProgressStyleModel",
      "state": {
       "description_width": ""
      }
     },
     "e4fd03ac01c24886bf1aa92ddc65c5b4": {
      "model_module": "@jupyter-widgets/controls",
      "model_module_version": "1.5.0",
      "model_name": "HTMLModel",
      "state": {
       "layout": "IPY_MODEL_8eb85998378940a7952128d3ff79f6d1",
       "style": "IPY_MODEL_494f01efb7d944d9999f102b7d87779f",
       "value": "Processed:"
      }
     },
     "e50ddd9c3e11476eadac2ef9a0f7950b": {
      "model_module": "@jupyter-widgets/controls",
      "model_module_version": "1.5.0",
      "model_name": "HTMLModel",
      "state": {
       "layout": "IPY_MODEL_3d59d527538e4a6db5d6f51e5837cd68",
       "style": "IPY_MODEL_d7acb40abdb040148adafd416d41b540",
       "value": "recordings[ 0]:"
      }
     },
     "e56ce7c5ac264968a35ea629de386d1f": {
      "model_module": "@jupyter-widgets/controls",
      "model_module_version": "1.5.0",
      "model_name": "HBoxModel",
      "state": {
       "children": [
        "IPY_MODEL_7a1dbecd0205496daf7e9cbff9a6dde7",
        "IPY_MODEL_3618bae4915d4dfba94be29bb73cfe19",
        "IPY_MODEL_c706dab2d0054e929d2b608b2e60b32b"
       ],
       "layout": "IPY_MODEL_36b8db384bf241c6867ae6f3212c6654"
      }
     },
     "e5842763c9d543f799e2370181a5d09a": {
      "model_module": "@jupyter-widgets/controls",
      "model_module_version": "1.5.0",
      "model_name": "DescriptionStyleModel",
      "state": {
       "description_width": ""
      }
     },
     "e5fa1ad7ff7944668aa34db3183a04f6": {
      "model_module": "@jupyter-widgets/controls",
      "model_module_version": "1.5.0",
      "model_name": "DescriptionStyleModel",
      "state": {
       "description_width": ""
      }
     },
     "e656bcc8771a4db2a9585d1b5ed82490": {
      "model_module": "@jupyter-widgets/base",
      "model_module_version": "1.2.0",
      "model_name": "LayoutModel",
      "state": {}
     },
     "e677b7faafd64440b89f58dd452137c2": {
      "model_module": "@jupyter-widgets/controls",
      "model_module_version": "1.5.0",
      "model_name": "ProgressStyleModel",
      "state": {
       "description_width": ""
      }
     },
     "e6c0c0f15fc549cab1ee9b7238e5bb61": {
      "model_module": "@jupyter-widgets/controls",
      "model_module_version": "1.5.0",
      "model_name": "FloatProgressModel",
      "state": {
       "bar_style": "danger",
       "layout": "IPY_MODEL_e8ddbf3c21c241b891566c73529f3962",
       "max": 1,
       "style": "IPY_MODEL_9cc00028399f44b4814b97d6df0577ba"
      }
     },
     "e78292b21a3c46eaaa65fa6cd19f74b1": {
      "model_module": "@jupyter-widgets/controls",
      "model_module_version": "1.5.0",
      "model_name": "ProgressStyleModel",
      "state": {
       "description_width": ""
      }
     },
     "e7bb96f8e01348f3a390db65cba37115": {
      "model_module": "@jupyter-widgets/controls",
      "model_module_version": "1.5.0",
      "model_name": "HTMLModel",
      "state": {
       "layout": "IPY_MODEL_c4554187e1524f92a530045073cd71ab",
       "style": "IPY_MODEL_390446bc75ca42e680d842fbb47d156c",
       "value": "recordings[ 0]:"
      }
     },
     "e7d867da06da4fb18e2379326074e0c6": {
      "model_module": "@jupyter-widgets/controls",
      "model_module_version": "1.5.0",
      "model_name": "DescriptionStyleModel",
      "state": {
       "description_width": ""
      }
     },
     "e7db2ce281c74bed9296fc6ad60609f9": {
      "model_module": "@jupyter-widgets/controls",
      "model_module_version": "1.5.0",
      "model_name": "HTMLModel",
      "state": {
       "layout": "IPY_MODEL_6164221db0d548e3bb8c1fa446fe976c",
       "style": "IPY_MODEL_15291131110a4c66ba7be31068d55722",
       "value": " 71% 5/7, step=5. Correct and store timestamps, file=lsl_try1.xdf in 65.62s"
      }
     },
     "e804fcbc2a514d2281fba38b251ed985": {
      "model_module": "@jupyter-widgets/controls",
      "model_module_version": "1.5.0",
      "model_name": "FloatProgressModel",
      "state": {
       "bar_style": "success",
       "layout": "IPY_MODEL_05b5091ca7234ad3a89448117bed59dc",
       "max": 1,
       "style": "IPY_MODEL_b23fed2c3d1242adb3594d3df38227ac",
       "value": 1
      }
     },
     "e859194f72b74c56aab53f61004f48b5": {
      "model_module": "@jupyter-widgets/controls",
      "model_module_version": "1.5.0",
      "model_name": "HBoxModel",
      "state": {
       "children": [
        "IPY_MODEL_de5b0498e4324f2dafaf9456d17be6a3",
        "IPY_MODEL_6e892a719a60406a9165add51388ae3f",
        "IPY_MODEL_6f12f4b15aa8469d8f9e675886b63784"
       ],
       "layout": "IPY_MODEL_83329e607e3b4a8b8063df8c74b6fef8"
      }
     },
     "e8a369fa16c948969f3334e2bd942f7f": {
      "model_module": "@jupyter-widgets/controls",
      "model_module_version": "1.5.0",
      "model_name": "DescriptionStyleModel",
      "state": {
       "description_width": ""
      }
     },
     "e8cb74c6cbf34e69adc66ac98ea3dbd3": {
      "model_module": "@jupyter-widgets/controls",
      "model_module_version": "1.5.0",
      "model_name": "FloatProgressModel",
      "state": {
       "bar_style": "danger",
       "layout": "IPY_MODEL_a7113268b73d4e2a96bc756ab9616127",
       "max": 1,
       "style": "IPY_MODEL_04dccf34e533491d9383746707545e21"
      }
     },
     "e8ddbf3c21c241b891566c73529f3962": {
      "model_module": "@jupyter-widgets/base",
      "model_module_version": "1.2.0",
      "model_name": "LayoutModel",
      "state": {
       "flex": "2"
      }
     },
     "e8ef31f68703430fa41b533dd20d0496": {
      "model_module": "@jupyter-widgets/base",
      "model_module_version": "1.2.0",
      "model_name": "LayoutModel",
      "state": {}
     },
     "e9f722d4ef52414d9b9003fca50b4777": {
      "model_module": "@jupyter-widgets/base",
      "model_module_version": "1.2.0",
      "model_name": "LayoutModel",
      "state": {
       "display": "inline-flex",
       "flex_flow": "row wrap",
       "width": "100%"
      }
     },
     "ea2e1dac09264bc28ea2eb00d4fd6c17": {
      "model_module": "@jupyter-widgets/controls",
      "model_module_version": "1.5.0",
      "model_name": "DescriptionStyleModel",
      "state": {
       "description_width": ""
      }
     },
     "edb2d93be2b049d3ba789076a62c6819": {
      "model_module": "@jupyter-widgets/controls",
      "model_module_version": "1.5.0",
      "model_name": "ProgressStyleModel",
      "state": {
       "description_width": ""
      }
     },
     "edfd042017c5458284d2c68e486c07ed": {
      "model_module": "@jupyter-widgets/controls",
      "model_module_version": "1.5.0",
      "model_name": "ProgressStyleModel",
      "state": {
       "description_width": ""
      }
     },
     "ee630ee53df64c97b693dd3021566e10": {
      "model_module": "@jupyter-widgets/base",
      "model_module_version": "1.2.0",
      "model_name": "LayoutModel",
      "state": {}
     },
     "ee97defd103845ad948cd64ea8b17d2d": {
      "model_module": "@jupyter-widgets/base",
      "model_module_version": "1.2.0",
      "model_name": "LayoutModel",
      "state": {}
     },
     "eebc828454ec45f5ad4451a2a6cac453": {
      "model_module": "@jupyter-widgets/controls",
      "model_module_version": "1.5.0",
      "model_name": "FloatProgressModel",
      "state": {
       "bar_style": "danger",
       "layout": "IPY_MODEL_278274b7b76946e1af4da83e113351e2",
       "max": 7,
       "style": "IPY_MODEL_f2bc0f2869604c9ba1cfdd55c5f9d183",
       "value": 1
      }
     },
     "eec8260dd6914be6b3aac4075b068ba4": {
      "model_module": "@jupyter-widgets/controls",
      "model_module_version": "1.5.0",
      "model_name": "HBoxModel",
      "state": {
       "children": [
        "IPY_MODEL_262aad6734d348b48479aada8f45a41d",
        "IPY_MODEL_34dc9886c58645b68f81462c95daebc9",
        "IPY_MODEL_2f8beb6c6215439c9c8191c5d3cb0428"
       ],
       "layout": "IPY_MODEL_a980b5bc7231411092583a851bed2511"
      }
     },
     "ef2147c51c824818ab0bd8da96c15067": {
      "model_module": "@jupyter-widgets/base",
      "model_module_version": "1.2.0",
      "model_name": "LayoutModel",
      "state": {}
     },
     "ef8623dd2c9a41f593bc5c51e2b4b6b3": {
      "model_module": "@jupyter-widgets/controls",
      "model_module_version": "1.5.0",
      "model_name": "HTMLModel",
      "state": {
       "layout": "IPY_MODEL_52a49a634c624ab79e9c33b379cf88f7",
       "style": "IPY_MODEL_f326c79cce3f42e29827145afb3e6d17",
       "value": "Processed:"
      }
     },
     "ef89e809ac704f9596f26d39a0466fe2": {
      "model_module": "@jupyter-widgets/controls",
      "model_module_version": "1.5.0",
      "model_name": "HTMLModel",
      "state": {
       "layout": "IPY_MODEL_c63cbe4770024e4d950deadf661af358",
       "style": "IPY_MODEL_150e38ff290840cbb923f7b264d59408",
       "value": "recordings[ 0]:"
      }
     },
     "efa75b04bb0547378cf986c29a1b8528": {
      "model_module": "@jupyter-widgets/base",
      "model_module_version": "1.2.0",
      "model_name": "LayoutModel",
      "state": {}
     },
     "f04583799ed344fdb8460b621b5effd8": {
      "model_module": "@jupyter-widgets/controls",
      "model_module_version": "1.5.0",
      "model_name": "DescriptionStyleModel",
      "state": {
       "description_width": ""
      }
     },
     "f07987d665404146986194d3787660cb": {
      "model_module": "@jupyter-widgets/base",
      "model_module_version": "1.2.0",
      "model_name": "LayoutModel",
      "state": {}
     },
     "f087690df2ab49c3b5e691d957142d51": {
      "model_module": "@jupyter-widgets/base",
      "model_module_version": "1.2.0",
      "model_name": "LayoutModel",
      "state": {}
     },
     "f1d79d73df3442138bb417349d60b8a8": {
      "model_module": "@jupyter-widgets/base",
      "model_module_version": "1.2.0",
      "model_name": "LayoutModel",
      "state": {}
     },
     "f1e9765791684c309f942f67fa7c7ab3": {
      "model_module": "@jupyter-widgets/controls",
      "model_module_version": "1.5.0",
      "model_name": "HTMLModel",
      "state": {
       "layout": "IPY_MODEL_2b375892ffcc466cbfbfab4c4d2dcc04",
       "style": "IPY_MODEL_85ef7bc8f3a7424ab41757ef0d3a3cf0",
       "value": "recordings[ 0]:"
      }
     },
     "f2180249d8bd4ab0b8a0a7eb544241d2": {
      "model_module": "@jupyter-widgets/base",
      "model_module_version": "1.2.0",
      "model_name": "LayoutModel",
      "state": {}
     },
     "f25f9a53787448779d26de621410d9f6": {
      "model_module": "@jupyter-widgets/controls",
      "model_module_version": "1.5.0",
      "model_name": "HTMLModel",
      "state": {
       "layout": "IPY_MODEL_c59df0495a8546b39988e854332ed02d",
       "style": "IPY_MODEL_2e73edce575d4132b4c9216a6a3f0c50",
       "value": "recordings[ 1]:"
      }
     },
     "f29563a393b64dc092a697d11eac4205": {
      "model_module": "@jupyter-widgets/controls",
      "model_module_version": "1.5.0",
      "model_name": "DescriptionStyleModel",
      "state": {
       "description_width": ""
      }
     },
     "f29c27fb68ab411192e7e4fd97a043c6": {
      "model_module": "@jupyter-widgets/controls",
      "model_module_version": "1.5.0",
      "model_name": "DescriptionStyleModel",
      "state": {
       "description_width": ""
      }
     },
     "f2bc0f2869604c9ba1cfdd55c5f9d183": {
      "model_module": "@jupyter-widgets/controls",
      "model_module_version": "1.5.0",
      "model_name": "ProgressStyleModel",
      "state": {
       "description_width": ""
      }
     },
     "f326c79cce3f42e29827145afb3e6d17": {
      "model_module": "@jupyter-widgets/controls",
      "model_module_version": "1.5.0",
      "model_name": "DescriptionStyleModel",
      "state": {
       "description_width": ""
      }
     },
     "f34192ab41c14679a4dfe930672d64e8": {
      "model_module": "@jupyter-widgets/controls",
      "model_module_version": "1.5.0",
      "model_name": "HTMLModel",
      "state": {
       "layout": "IPY_MODEL_653a211e00284c3ea6948761813dbd45",
       "style": "IPY_MODEL_ea2e1dac09264bc28ea2eb00d4fd6c17",
       "value": "recordings[ 0]:"
      }
     },
     "f36c28d6e61741a0a275a9af5250251c": {
      "model_module": "@jupyter-widgets/controls",
      "model_module_version": "1.5.0",
      "model_name": "HBoxModel",
      "state": {
       "children": [
        "IPY_MODEL_e50ddd9c3e11476eadac2ef9a0f7950b",
        "IPY_MODEL_ff435288fbe5493988e192abbede823a",
        "IPY_MODEL_bb41747c41ca47c18ad8a6adf62ce4dd"
       ],
       "layout": "IPY_MODEL_cf5e0747fee74c69860d33c90d51466a"
      }
     },
     "f377123612674362b3dff256f0fcf6ce": {
      "model_module": "@jupyter-widgets/base",
      "model_module_version": "1.2.0",
      "model_name": "LayoutModel",
      "state": {}
     },
     "f3aa6324199d43b0822be0404918d532": {
      "model_module": "@jupyter-widgets/controls",
      "model_module_version": "1.5.0",
      "model_name": "ProgressStyleModel",
      "state": {
       "description_width": ""
      }
     },
     "f3c4cb9d3ffb41e9a33cd1a803181eb9": {
      "model_module": "@jupyter-widgets/base",
      "model_module_version": "1.2.0",
      "model_name": "LayoutModel",
      "state": {}
     },
     "f42e5febdc69421493934eb66dd64dad": {
      "model_module": "@jupyter-widgets/controls",
      "model_module_version": "1.5.0",
      "model_name": "DescriptionStyleModel",
      "state": {
       "description_width": ""
      }
     },
     "f430c6573e8946389ed51347d3b484a4": {
      "model_module": "@jupyter-widgets/base",
      "model_module_version": "1.2.0",
      "model_name": "LayoutModel",
      "state": {}
     },
     "f47d9ddc98274439a1ea33af7634ebcb": {
      "model_module": "@jupyter-widgets/controls",
      "model_module_version": "1.5.0",
      "model_name": "DescriptionStyleModel",
      "state": {
       "description_width": ""
      }
     },
     "f502544a74c349179b554206e362d962": {
      "model_module": "@jupyter-widgets/base",
      "model_module_version": "1.2.0",
      "model_name": "LayoutModel",
      "state": {}
     },
     "f51b7fdd10d6488da004d867ee50626f": {
      "model_module": "@jupyter-widgets/base",
      "model_module_version": "1.2.0",
      "model_name": "LayoutModel",
      "state": {}
     },
     "f574a8b4957d405081614fade543404d": {
      "model_module": "@jupyter-widgets/controls",
      "model_module_version": "1.5.0",
      "model_name": "DescriptionStyleModel",
      "state": {
       "description_width": ""
      }
     },
     "f5a72ddbf60440c0abef25f46eca8c1f": {
      "model_module": "@jupyter-widgets/controls",
      "model_module_version": "1.5.0",
      "model_name": "FloatProgressModel",
      "state": {
       "bar_style": "success",
       "layout": "IPY_MODEL_8a2f282553bf445e9044fa467fbf9e2c",
       "max": 1,
       "style": "IPY_MODEL_f90dd2f5077040de8b39bc064e2981c5",
       "value": 1
      }
     },
     "f5b0eee850db41dcb40663ae7be7d8bb": {
      "model_module": "@jupyter-widgets/controls",
      "model_module_version": "1.5.0",
      "model_name": "HTMLModel",
      "state": {
       "layout": "IPY_MODEL_f68cbcf5a8544644973a8fdb48da1e4c",
       "style": "IPY_MODEL_c44b65094c35463eb282fda4d530e979",
       "value": "recordings[ 0]:"
      }
     },
     "f5ed641fd1ce4ad9a99d0cd3054a9700": {
      "model_module": "@jupyter-widgets/base",
      "model_module_version": "1.2.0",
      "model_name": "LayoutModel",
      "state": {}
     },
     "f660e660f1bb4c12a6a16f9cc828bbf8": {
      "model_module": "@jupyter-widgets/base",
      "model_module_version": "1.2.0",
      "model_name": "LayoutModel",
      "state": {}
     },
     "f68cbcf5a8544644973a8fdb48da1e4c": {
      "model_module": "@jupyter-widgets/base",
      "model_module_version": "1.2.0",
      "model_name": "LayoutModel",
      "state": {}
     },
     "f6b266c925054424bc7f0c5c8308cc79": {
      "model_module": "@jupyter-widgets/controls",
      "model_module_version": "1.5.0",
      "model_name": "FloatProgressModel",
      "state": {
       "bar_style": "success",
       "layout": "IPY_MODEL_aa913ab9a5ae4d689eb5cea46bc5f515",
       "max": 1,
       "style": "IPY_MODEL_fcc9afbd7d2c4b2c9de5fdd6e24637ab",
       "value": 1
      }
     },
     "f6baeef41f294f40b00fdfec899b0498": {
      "model_module": "@jupyter-widgets/controls",
      "model_module_version": "1.5.0",
      "model_name": "HBoxModel",
      "state": {
       "children": [
        "IPY_MODEL_93d2dd5a736846f4b3f24ab836641464",
        "IPY_MODEL_ced95ef291ab4d1b8fe2e3cd340638ab",
        "IPY_MODEL_1233dceb4f094beda254db41dc8bf5bd"
       ],
       "layout": "IPY_MODEL_bb482673ba854bf79d4ec34adda47eaa"
      }
     },
     "f6fbefeaf262482a90ef430b61cc9814": {
      "model_module": "@jupyter-widgets/base",
      "model_module_version": "1.2.0",
      "model_name": "LayoutModel",
      "state": {}
     },
     "f7c12e8e0efd46aea6a9d64c5704b5e5": {
      "model_module": "@jupyter-widgets/controls",
      "model_module_version": "1.5.0",
      "model_name": "HBoxModel",
      "state": {
       "children": [
        "IPY_MODEL_da4891a6194d4dcebd090ca41cbd5165",
        "IPY_MODEL_84258189d2f8498f88e2dcc65dc990a0",
        "IPY_MODEL_d49892fb224348d1bc7848652462a763"
       ],
       "layout": "IPY_MODEL_97bd460d3d6a4e3aada0ab6794d894bb"
      }
     },
     "f7c8232c1c3f4445b6951de4e38594b5": {
      "model_module": "@jupyter-widgets/controls",
      "model_module_version": "1.5.0",
      "model_name": "DescriptionStyleModel",
      "state": {
       "description_width": ""
      }
     },
     "f808037292994708a9dcce4288d27de2": {
      "model_module": "@jupyter-widgets/controls",
      "model_module_version": "1.5.0",
      "model_name": "DescriptionStyleModel",
      "state": {
       "description_width": ""
      }
     },
     "f8ab31916dda407dba515eab18df267f": {
      "model_module": "@jupyter-widgets/controls",
      "model_module_version": "1.5.0",
      "model_name": "FloatProgressModel",
      "state": {
       "bar_style": "success",
       "layout": "IPY_MODEL_23ae5b1fd9a248ffa5505bbebb0cefb5",
       "max": 1,
       "style": "IPY_MODEL_7f4d3e85ad3a4e148bbc9262e60280c4",
       "value": 1
      }
     },
     "f90dd2f5077040de8b39bc064e2981c5": {
      "model_module": "@jupyter-widgets/controls",
      "model_module_version": "1.5.0",
      "model_name": "ProgressStyleModel",
      "state": {
       "description_width": ""
      }
     },
     "fa2edd4b267b428aa2058d4dddc345be": {
      "model_module": "@jupyter-widgets/base",
      "model_module_version": "1.2.0",
      "model_name": "LayoutModel",
      "state": {}
     },
     "fa770321102a468fb349bccbff4388b8": {
      "model_module": "@jupyter-widgets/base",
      "model_module_version": "1.2.0",
      "model_name": "LayoutModel",
      "state": {}
     },
     "faddb08f2c1a442d9658f983d52a6f71": {
      "model_module": "@jupyter-widgets/controls",
      "model_module_version": "1.5.0",
      "model_name": "ProgressStyleModel",
      "state": {
       "description_width": ""
      }
     },
     "faeea53872834cbd934f946f4915057a": {
      "model_module": "@jupyter-widgets/controls",
      "model_module_version": "1.5.0",
      "model_name": "HBoxModel",
      "state": {
       "children": [
        "IPY_MODEL_ab5335ea12ac4272a5ba657248bb1ed3",
        "IPY_MODEL_9e8b646f6eff4bf7b9902bafc27204b8",
        "IPY_MODEL_3069ecf4bc504b66ade58730477744af"
       ],
       "layout": "IPY_MODEL_cf84d708d79f40608f52ed65a378f266"
      }
     },
     "fb8e04b1fead421fac88b19a9c69159b": {
      "model_module": "@jupyter-widgets/base",
      "model_module_version": "1.2.0",
      "model_name": "LayoutModel",
      "state": {}
     },
     "fbd3f34b48fa47f9b83fbcaa19d2f000": {
      "model_module": "@jupyter-widgets/controls",
      "model_module_version": "1.5.0",
      "model_name": "DescriptionStyleModel",
      "state": {
       "description_width": ""
      }
     },
     "fc3945c706674b7b8a2893bfe527fed4": {
      "model_module": "@jupyter-widgets/base",
      "model_module_version": "1.2.0",
      "model_name": "LayoutModel",
      "state": {}
     },
     "fcb07d63fcc74ec9bc9900cfcc28b299": {
      "model_module": "@jupyter-widgets/controls",
      "model_module_version": "1.5.0",
      "model_name": "HBoxModel",
      "state": {
       "children": [
        "IPY_MODEL_9edba2520f8048cfb73c17e90514229c",
        "IPY_MODEL_2f2ccac64de541ba94e97983c110b18d",
        "IPY_MODEL_3c5cd1970df6474aaf600952811aac8f"
       ],
       "layout": "IPY_MODEL_2c5c0b6ad44d4d039106418fc8f27fc5"
      }
     },
     "fcc9afbd7d2c4b2c9de5fdd6e24637ab": {
      "model_module": "@jupyter-widgets/controls",
      "model_module_version": "1.5.0",
      "model_name": "ProgressStyleModel",
      "state": {
       "description_width": ""
      }
     },
     "fd424b7a179045feb01149d21b97f407": {
      "model_module": "@jupyter-widgets/controls",
      "model_module_version": "1.5.0",
      "model_name": "DescriptionStyleModel",
      "state": {
       "description_width": ""
      }
     },
     "fda6622b3eff48c681eed881ea70548b": {
      "model_module": "@jupyter-widgets/base",
      "model_module_version": "1.2.0",
      "model_name": "LayoutModel",
      "state": {}
     },
     "fe38f88c7cae45659d4312117f8d2765": {
      "model_module": "@jupyter-widgets/controls",
      "model_module_version": "1.5.0",
      "model_name": "HBoxModel",
      "state": {
       "children": [
        "IPY_MODEL_8e66143ec0814a089fcb1b420ca9f7a1",
        "IPY_MODEL_f5a72ddbf60440c0abef25f46eca8c1f",
        "IPY_MODEL_94274166527c4da88d4dde5866eab02f"
       ],
       "layout": "IPY_MODEL_882333d22e5244068febac4e9a0dacd8"
      }
     },
     "fef0521fb47543af986886da81fcaf7e": {
      "model_module": "@jupyter-widgets/controls",
      "model_module_version": "1.5.0",
      "model_name": "HBoxModel",
      "state": {
       "children": [
        "IPY_MODEL_f5b0eee850db41dcb40663ae7be7d8bb",
        "IPY_MODEL_87807c1e914c4cae80aa2c844ff5768b",
        "IPY_MODEL_64992b737019422e99e69eaf78c24178"
       ],
       "layout": "IPY_MODEL_3ca968e0135e4e1c9059b5d58b6313cd"
      }
     },
     "ff10fd4a03c24f2e8cb81003d6317087": {
      "model_module": "@jupyter-widgets/controls",
      "model_module_version": "1.5.0",
      "model_name": "ProgressStyleModel",
      "state": {
       "description_width": ""
      }
     },
     "ff435288fbe5493988e192abbede823a": {
      "model_module": "@jupyter-widgets/controls",
      "model_module_version": "1.5.0",
      "model_name": "FloatProgressModel",
      "state": {
       "bar_style": "danger",
       "layout": "IPY_MODEL_d8ddabf89c9a4428bd131bdc068df3d7",
       "max": 7,
       "style": "IPY_MODEL_44c8605c0dc94edb8a04517b2092758c",
       "value": 3
      }
     },
     "ffcee996f1004b0cad06502ae5ac3f05": {
      "model_module": "@jupyter-widgets/base",
      "model_module_version": "1.2.0",
      "model_name": "LayoutModel",
      "state": {}
     },
     "ffee559d54ec4961b17dcfd1e598fb05": {
      "model_module": "@jupyter-widgets/controls",
      "model_module_version": "1.5.0",
      "model_name": "FloatProgressModel",
      "state": {
       "bar_style": "success",
       "layout": "IPY_MODEL_58fab23083004bb0b7454678537d98f4",
       "max": 7,
       "style": "IPY_MODEL_ced44bca7ab54d53aa27a1dafa452540",
       "value": 7
      }
     }
    },
    "version_major": 2,
    "version_minor": 0
   }
  }
 },
 "nbformat": 4,
 "nbformat_minor": 5
}
